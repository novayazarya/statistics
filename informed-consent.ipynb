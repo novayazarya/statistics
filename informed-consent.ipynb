{
 "cells": [
  {
   "cell_type": "markdown",
   "metadata": {},
   "source": [
    "# Критерии согласия"
   ]
  },
  {
   "cell_type": "markdown",
   "metadata": {},
   "source": [
    "В Python, как и в любых других статистических пакетах, уже реализованы многие критерии, которые мы изучали. Давайте посмотрим, как применять эти критерии на практике."
   ]
  },
  {
   "cell_type": "code",
   "execution_count": 1,
   "metadata": {},
   "outputs": [],
   "source": [
    "import numpy as np\n",
    "import pandas as pd\n",
    "from scipy import stats\n",
    "import matplotlib.pyplot as plt\n",
    "import seaborn as sns\n",
    "\n",
    "from statsmodels.graphics.gofplots import qqplot\n",
    "from statsmodels.stats.descriptivestats import sign_test\n",
    "\n",
    "import warnings \n",
    "warnings.simplefilter(\"ignore\")"
   ]
  },
  {
   "cell_type": "code",
   "execution_count": 2,
   "metadata": {},
   "outputs": [],
   "source": [
    "np.random.seed(123)"
   ]
  },
  {
   "cell_type": "markdown",
   "metadata": {},
   "source": [
    "## Критерий Колмогорова-Смирнова"
   ]
  },
  {
   "cell_type": "markdown",
   "metadata": {},
   "source": [
    "Начнем с критерия согласия Колмогорова. Этот критерий проверяет простую гипотезу о принадлежности выборки некоторому (непрерывному!) закону распределения. Критерий Колмогорова реализован с помощью функции `kstest` в модуле `stats`:\n",
    "\n",
    "`stats.kstest(sample, cdf)`\n",
    "\n",
    "- `sample` — реализация нашей выборки\n",
    "- `cdf` — функция распределения закона, с которым сравниваем."
   ]
  },
  {
   "cell_type": "markdown",
   "metadata": {},
   "source": [
    "Критерий Колмогорова-Смирнова сравнивает функции кумулятивных распределений (cdf) двух выборочных распределений и оценивает, насколько они похожи.\n",
    "\n",
    "Если две выборки взяты из одного и того же распределения, диапазоны значений $x$ должны в значительной степени перекрываться."
   ]
  },
  {
   "cell_type": "code",
   "execution_count": 3,
   "metadata": {},
   "outputs": [
    {
     "data": {
      "image/png": "[encoded data removed]",
      "text/plain": [
       "<Figure size 432x288 with 1 Axes>"
      ]
     },
     "metadata": {
      "needs_background": "light"
     },
     "output_type": "display_data"
    }
   ],
   "source": [
    "from scipy.stats import norm, beta\n",
    "fig, ax = plt.subplots(1, 1)\n",
    "x = beta.rvs(2, 2, size=50) # beta distribution\n",
    "x2 = norm.rvs(size=50) # normal distribution\n",
    "vals = np.linspace(min([x.min(),x2.min()]), max([x.max(),x2.max()]), 50)\n",
    "ax.plot(vals, beta.cdf(sorted(x), 2, 2), lw=2, alpha=0.6, label='beta cdf')\n",
    "ax.plot(vals, norm.cdf(sorted(x2)), color='orange', lw=2, alpha=0.6, label='norm cdf')\n",
    "plt.legend();"
   ]
  },
  {
   "cell_type": "markdown",
   "metadata": {},
   "source": [
    "Критерий Колмогорова-Смирнова количественно определяет разницу между двумя вероятностынми распределениями по максимальному промужутку $y$-расстояния между двумя функциями кумулятивного распределения."
   ]
  },
  {
   "cell_type": "code",
   "execution_count": 6,
   "metadata": {},
   "outputs": [],
   "source": [
    "n = 500 # размер выборки"
   ]
  },
  {
   "cell_type": "code",
   "execution_count": 7,
   "metadata": {},
   "outputs": [],
   "source": [
    "sample1 = np.random.rand(n) # выборка 1 из равномерного распределения на [0,1]\n",
    "sample2 = np.random.beta(2,2, size=n) # выборка 2 из бета-распределения с параметрами (2,2)"
   ]
  },
  {
   "cell_type": "markdown",
   "metadata": {},
   "source": [
    "Давайте сначала посмотрим на гистограммы для `sample1` и `sample2`"
   ]
  },
  {
   "cell_type": "code",
   "execution_count": 7,
   "metadata": {},
   "outputs": [
    {
     "data": {
      "image/png": "[encoded data removed]",
      "text/plain": [
       "<Figure size 864x576 with 2 Axes>"
      ]
     },
     "metadata": {
      "needs_background": "light"
     },
     "output_type": "display_data"
    }
   ],
   "source": [
    "plt.figure(figsize=(12,8))\n",
    "plt.subplot(2,2,1)\n",
    "plt.hist(sample1, bins=20)\n",
    "plt.subplot(2,2,2)\n",
    "plt.hist(sample2, bins=20)\n",
    "plt.show()"
   ]
  },
  {
   "cell_type": "markdown",
   "metadata": {},
   "source": [
    "Запускаем критерий Колмогорова для `sample1`, проверяем гипотезу о том, что выборка взята из равномерного распределения на [0,1]. Должны получить большой `p-value` (что будет означать, что значение статистики попало в область вероятных значений)."
   ]
  },
  {
   "cell_type": "code",
   "execution_count": 8,
   "metadata": {},
   "outputs": [
    {
     "data": {
      "text/plain": [
       "KstestResult(statistic=0.02977893867201975, pvalue=0.7553346739924274)"
      ]
     },
     "execution_count": 8,
     "metadata": {},
     "output_type": "execute_result"
    }
   ],
   "source": [
    "stats.kstest(sample1, stats.uniform.cdf)"
   ]
  },
  {
   "cell_type": "markdown",
   "metadata": {},
   "source": [
    "Запускаем критерий Колмогорова для `sample2`, проверяем гипотезу о том, что выборка взята из равномерного распределения на [0,1]. Должны получить малый `p-value` (что будет означать, что значение статистики попало в область маловероятных значений)."
   ]
  },
  {
   "cell_type": "code",
   "execution_count": 9,
   "metadata": {},
   "outputs": [
    {
     "data": {
      "text/plain": [
       "KstestResult(statistic=0.109059197161369, pvalue=1.2372423114520465e-05)"
      ]
     },
     "execution_count": 9,
     "metadata": {},
     "output_type": "execute_result"
    }
   ],
   "source": [
    "stats.kstest(sample2, stats.uniform.cdf)"
   ]
  },
  {
   "cell_type": "markdown",
   "metadata": {},
   "source": [
    "Запускаем критерий Колмогорова для `sample1`, проверяем гипотезу о том, что выборка взята из бета-распределения с параметрами (2,2). Обратите внимание на то, как передавать параметры для функции плотности."
   ]
  },
  {
   "cell_type": "code",
   "execution_count": 10,
   "metadata": {},
   "outputs": [
    {
     "data": {
      "text/plain": [
       "KstestResult(statistic=0.09860184733194155, pvalue=0.00011034826529907896)"
      ]
     },
     "execution_count": 10,
     "metadata": {},
     "output_type": "execute_result"
    }
   ],
   "source": [
    "stats.kstest(sample1, stats.beta.cdf, args=(2,2))"
   ]
  },
  {
   "cell_type": "markdown",
   "metadata": {},
   "source": [
    "Запускаем критерий Колмогорова для `sample2`, проверяем гипотезу о том, что выборка взята из бета-распределения с параметрами (2,2)."
   ]
  },
  {
   "cell_type": "code",
   "execution_count": 11,
   "metadata": {},
   "outputs": [
    {
     "data": {
      "text/plain": [
       "KstestResult(statistic=0.023712619065139495, pvalue=0.9348640500106189)"
      ]
     },
     "execution_count": 11,
     "metadata": {},
     "output_type": "execute_result"
    }
   ],
   "source": [
    "stats.kstest(sample2, stats.beta.cdf, args=(2,2))"
   ]
  },
  {
   "cell_type": "markdown",
   "metadata": {},
   "source": [
    "## Критерий $\\chi^2$"
   ]
  },
  {
   "cell_type": "markdown",
   "metadata": {},
   "source": [
    "Статистика $\\chi^2$ — метрический показатель, который измеряет степень, с которой наблюдаемые данные отступают от ожидания.\n",
    "\n",
    "Этот критерий реализован с помощью функции `chisquare` в модуле `stats`:\n",
    "    \n",
    "`stats.chisquare(obs, exp)`\n",
    "\n",
    "- `obs` — количества попаданий в каждую \"ячейку\"\n",
    "- `exp` — ожидаемые количества попаданий в каждую \"ячейку\".\n",
    "\n",
    "Обратите внимание на то, что мы передаем в функцию `chisquare` не вероятности (эмпирические и истинные), а количества!"
   ]
  },
  {
   "cell_type": "markdown",
   "metadata": {},
   "source": [
    "В экспериментах с селекцией гороха Мендель наблюдал частоты различных видов семян, получаемых при скрещивании растений с круглыми желтыми семенами и растений с морщинистыми зелеными семенами. Эти данные и значения теоретических вероятностей, определяемые в соответствии с законом Менделя, приведены в следующей таблице:\n",
    "\n",
    "| Тип семян            | Частота | Вероятность |\n",
    "|:-------------------- |--------:| -----------:|\n",
    "| Круглые и желтые     | 315/556 | 9/16        |\n",
    "| Морщинистые и желтые | 101/556 | 3/16        |\n",
    "| Круглые и зеленые    | 108/556 | 3/16        |\n",
    "| Морщинистые и зеленые| 32/556  | 1/16        |\n",
    "\n",
    "Необходимо проверить гипотезу $H_0$ о согласованности частот с теоретическими вероятностями при помощи критерия хи-квадрат."
   ]
  },
  {
   "cell_type": "code",
   "execution_count": 331,
   "metadata": {},
   "outputs": [],
   "source": [
    "# занесем данные из таблицы в массивы\n",
    "\n",
    "obs = np.array([315/556, 101/556, 108/556, 32/556])\n",
    "exp = np.array([9/16, 3/16, 3/16, 1/16])"
   ]
  },
  {
   "cell_type": "code",
   "execution_count": 332,
   "metadata": {},
   "outputs": [],
   "source": [
    "# вспомним о том, что в функцию chisquare мы должны передавать количества, а не частоты\n",
    "\n",
    "obs = obs * 556\n",
    "exp = exp * 556"
   ]
  },
  {
   "cell_type": "markdown",
   "metadata": {},
   "source": [
    "Статистика $\\chi^2$ задается как сумма квадратических остатков Пирсона:\n",
    "$$\\chi^2 = \\sum_{i}^{r}\\sum_{j}^{c}{R^2}$$\n",
    "где $r$ и $c$ — соответственно число строк и столбцов.\n",
    "\n",
    "Остаток Пирсона задается формулой: R = (наблюдаемое - ожидаемое) / ожидаемое ** 0.5"
   ]
  },
  {
   "cell_type": "code",
   "execution_count": 334,
   "metadata": {},
   "outputs": [
    {
     "data": {
      "text/plain": [
       "0.47002398081534874"
      ]
     },
     "execution_count": 334,
     "metadata": {},
     "output_type": "execute_result"
    }
   ],
   "source": [
    "(((obs - exp) / np.sqrt(exp)) ** 2).sum()"
   ]
  },
  {
   "cell_type": "code",
   "execution_count": 335,
   "metadata": {},
   "outputs": [
    {
     "data": {
      "text/plain": [
       "Power_divergenceResult(statistic=0.4700239808153487, pvalue=0.9254258951036157)"
      ]
     },
     "execution_count": 335,
     "metadata": {},
     "output_type": "execute_result"
    }
   ],
   "source": [
    "stats.chisquare(obs, exp)"
   ]
  },
  {
   "cell_type": "markdown",
   "metadata": {},
   "source": [
    "## Проверка нормальности"
   ]
  },
  {
   "cell_type": "markdown",
   "metadata": {},
   "source": [
    "Очень важный тип критериев согласия — это проверка нормальности. На лекции мы изучали следующие методы: \n",
    "\n",
    "1. `qqplot(sample, dist, line='r')` — построение квантильного графика (Q-Q Plot) — визуальная проверка любого критерия согласия о масштабе/сдвиге. Аргументы: `sample` — наша выборка, `dist` — распределение, с которым сравниваем (если этот параметр не указан, то используется нормальное распределение), `line='r'` — подгоняет прямую под облако точек, чтобы было проще визуально сравнивать.\n",
    "2. `stats.shapiro(sample)` — критерий Шапиро-Уилка. Аргументы: `sample` — наша выборка.\n",
    "3. `stats.jarque_bera(sample)` — критерий Харке-Бера. Аргументы: `sample` — наша выборка."
   ]
  },
  {
   "cell_type": "code",
   "execution_count": 15,
   "metadata": {},
   "outputs": [],
   "source": [
    "# поменяем размер выборки, если нужно\n",
    "n = 500"
   ]
  },
  {
   "cell_type": "code",
   "execution_count": 16,
   "metadata": {},
   "outputs": [],
   "source": [
    "sample1 = np.random.normal(1,2, size=n) # выборка из нормального распределения\n",
    "sample2 = np.random.beta(2,2, size=n) # выборка из бета-распределения с параметрами (2,2)"
   ]
  },
  {
   "cell_type": "code",
   "execution_count": 17,
   "metadata": {},
   "outputs": [
    {
     "data": {
      "image/png": "[encoded data removed]",
      "text/plain": [
       "<Figure size 864x576 with 2 Axes>"
      ]
     },
     "metadata": {
      "needs_background": "light"
     },
     "output_type": "display_data"
    }
   ],
   "source": [
    "plt.figure(figsize=(12,8))\n",
    "plt.subplot(2,2,1)\n",
    "plt.hist(sample1, bins=20)\n",
    "plt.subplot(2,2,2)\n",
    "plt.hist(sample2, bins=20)\n",
    "plt.show()"
   ]
  },
  {
   "cell_type": "markdown",
   "metadata": {},
   "source": [
    "### Квантиль-квантильный график\n",
    "\n",
    "Квантиль-квантильный график используется, чтобы визуально определить, насколько близко выборка находится от нормального распределения. QQ-график упорядочивает $z$-оценки снизу вверх и графически отображает $z$-оценки каждого значения на оси $y$; ось $x$ — это соответствующий квантиль нормального распределения для ранга конкретного значения. Поскольку данные нормализованы, единицы соответствуют числу стандартных отклонений данных от среднего. Если точки примерно ложатся на диагональную линию, то распределение выборки можно рассматривать близким к нормальному. "
   ]
  },
  {
   "cell_type": "code",
   "execution_count": 18,
   "metadata": {},
   "outputs": [],
   "source": [
    "from statsmodels.graphics.gofplots import qqplot # импортируем функцию qqplot"
   ]
  },
  {
   "cell_type": "code",
   "execution_count": 21,
   "metadata": {},
   "outputs": [
    {
     "name": "stderr",
     "output_type": "stream",
     "text": [
      "/Users/popov/anaconda3/lib/python3.8/site-packages/statsmodels/graphics/gofplots.py:993: UserWarning: marker is redundantly defined by the 'marker' keyword argument and the fmt string \"bo\" (-> marker='o'). The keyword argument will take precedence.\n",
      "  ax.plot(x, y, fmt, **plot_style)\n"
     ]
    },
    {
     "data": {
      "image/png": "[encoded data removed]",
      "text/plain": [
       "<Figure size 432x288 with 1 Axes>"
      ]
     },
     "metadata": {
      "needs_background": "light"
     },
     "output_type": "display_data"
    }
   ],
   "source": [
    "# график квантилей для sample1\n",
    "qqplot(sample1, line='s')\n",
    "plt.show()"
   ]
  },
  {
   "cell_type": "code",
   "execution_count": 22,
   "metadata": {},
   "outputs": [
    {
     "name": "stderr",
     "output_type": "stream",
     "text": [
      "/Users/popov/anaconda3/lib/python3.8/site-packages/statsmodels/graphics/gofplots.py:993: UserWarning: marker is redundantly defined by the 'marker' keyword argument and the fmt string \"bo\" (-> marker='o'). The keyword argument will take precedence.\n",
      "  ax.plot(x, y, fmt, **plot_style)\n"
     ]
    },
    {
     "data": {
      "image/png": "[encoded data removed]",
      "text/plain": [
       "<Figure size 432x288 with 1 Axes>"
      ]
     },
     "metadata": {
      "needs_background": "light"
     },
     "output_type": "display_data"
    }
   ],
   "source": [
    "# график квантилей для sample2\n",
    "qqplot(sample2, line='s')\n",
    "plt.show()"
   ]
  },
  {
   "cell_type": "code",
   "execution_count": 23,
   "metadata": {},
   "outputs": [
    {
     "data": {
      "text/plain": [
       "ShapiroResult(statistic=0.9959383010864258, pvalue=0.2265419065952301)"
      ]
     },
     "execution_count": 23,
     "metadata": {},
     "output_type": "execute_result"
    }
   ],
   "source": [
    "# запускаем критерий Шапиро-Уилка для sample1\n",
    "stats.shapiro(sample1)"
   ]
  },
  {
   "cell_type": "code",
   "execution_count": 24,
   "metadata": {},
   "outputs": [
    {
     "data": {
      "text/plain": [
       "ShapiroResult(statistic=0.9849844574928284, pvalue=4.944821193930693e-05)"
      ]
     },
     "execution_count": 24,
     "metadata": {},
     "output_type": "execute_result"
    }
   ],
   "source": [
    "# запускаем критерий Шапиро-Уилка для sample2\n",
    "stats.shapiro(sample2)"
   ]
  },
  {
   "cell_type": "code",
   "execution_count": 25,
   "metadata": {},
   "outputs": [
    {
     "data": {
      "text/plain": [
       "Jarque_beraResult(statistic=0.5047526531339083, pvalue=0.7769522952554369)"
      ]
     },
     "execution_count": 25,
     "metadata": {},
     "output_type": "execute_result"
    }
   ],
   "source": [
    "# запускаем критерий Харке-Бера для sample1\n",
    "stats.jarque_bera(sample1)"
   ]
  },
  {
   "cell_type": "code",
   "execution_count": 26,
   "metadata": {},
   "outputs": [
    {
     "data": {
      "text/plain": [
       "Jarque_beraResult(statistic=13.737779567593636, pvalue=0.001039630638919098)"
      ]
     },
     "execution_count": 26,
     "metadata": {},
     "output_type": "execute_result"
    }
   ],
   "source": [
    "# запускаем критерий Харке-Бера для sample2\n",
    "stats.jarque_bera(sample2)"
   ]
  },
  {
   "cell_type": "markdown",
   "metadata": {},
   "source": [
    "# Проверка однородности. Независимые выборки"
   ]
  },
  {
   "cell_type": "markdown",
   "metadata": {},
   "source": [
    "***\n",
    "В файле aggress.xls содержаться бальные оценки агресивности детей 4-х лет, проявленной в течении 15-ти минут после игры. Первые 12 детей — мальчики, остальные 12 детей — девочки. Необходимо проверить гипотезу однородности мальчиков и девочек."
   ]
  },
  {
   "cell_type": "code",
   "execution_count": 6,
   "metadata": {},
   "outputs": [],
   "source": [
    "data = pd.read_excel('aggress.xls')"
   ]
  },
  {
   "cell_type": "code",
   "execution_count": 15,
   "metadata": {},
   "outputs": [
    {
     "data": {
      "text/html": [
       "<div>\n",
       "<style scoped>\n",
       "    .dataframe tbody tr th:only-of-type {\n",
       "        vertical-align: middle;\n",
       "    }\n",
       "\n",
       "    .dataframe tbody tr th {\n",
       "        vertical-align: top;\n",
       "    }\n",
       "\n",
       "    .dataframe thead th {\n",
       "        text-align: right;\n",
       "    }\n",
       "</style>\n",
       "<table border=\"1\" class=\"dataframe\">\n",
       "  <thead>\n",
       "    <tr style=\"text-align: right;\">\n",
       "      <th></th>\n",
       "      <th>GENDER</th>\n",
       "      <th>AGGRESSN</th>\n",
       "    </tr>\n",
       "  </thead>\n",
       "  <tbody>\n",
       "    <tr>\n",
       "      <th>0</th>\n",
       "      <td>BOYS</td>\n",
       "      <td>86</td>\n",
       "    </tr>\n",
       "    <tr>\n",
       "      <th>1</th>\n",
       "      <td>BOYS</td>\n",
       "      <td>69</td>\n",
       "    </tr>\n",
       "    <tr>\n",
       "      <th>2</th>\n",
       "      <td>BOYS</td>\n",
       "      <td>72</td>\n",
       "    </tr>\n",
       "    <tr>\n",
       "      <th>3</th>\n",
       "      <td>BOYS</td>\n",
       "      <td>65</td>\n",
       "    </tr>\n",
       "    <tr>\n",
       "      <th>4</th>\n",
       "      <td>BOYS</td>\n",
       "      <td>113</td>\n",
       "    </tr>\n",
       "  </tbody>\n",
       "</table>\n",
       "</div>"
      ],
      "text/plain": [
       "  GENDER  AGGRESSN\n",
       "0   BOYS        86\n",
       "1   BOYS        69\n",
       "2   BOYS        72\n",
       "3   BOYS        65\n",
       "4   BOYS       113"
      ]
     },
     "execution_count": 15,
     "metadata": {},
     "output_type": "execute_result"
    }
   ],
   "source": [
    "data.head()"
   ]
  },
  {
   "cell_type": "markdown",
   "metadata": {},
   "source": [
    "Перед анализом данных полезно визулизировать данные. Это позволит получить какой-то априорный вывод о данных и избежать ошибок в дальнейшем (например, при вызове функций с неправильными альтернативами).Для визуализации различий лучше всего использовать \"ящик с усами\" (boxplot)"
   ]
  },
  {
   "cell_type": "code",
   "execution_count": 22,
   "metadata": {},
   "outputs": [
    {
     "data": {
      "image/png": "[encoded data removed]",
      "text/plain": [
       "<Figure size 432x288 with 1 Axes>"
      ]
     },
     "metadata": {
      "needs_background": "light"
     },
     "output_type": "display_data"
    }
   ],
   "source": [
    "sns.boxplot(x='GENDER', y='AGGRESSN', data=data);"
   ]
  },
  {
   "cell_type": "markdown",
   "metadata": {},
   "source": [
    "Теперь извлечем разделим данные для мальчиков и девочек. Преобразовывать в numpy array здесь вовсе не обязательно (это удобно только при оценке параметра сдвига)."
   ]
  },
  {
   "cell_type": "code",
   "execution_count": 7,
   "metadata": {},
   "outputs": [],
   "source": [
    "sample1 = data[data['GENDER'] == 'BOYS']['AGGRESSN'].to_numpy()\n",
    "sample2 = data[data['GENDER'] == 'GIRLS']['AGGRESSN'].to_numpy()"
   ]
  },
  {
   "cell_type": "markdown",
   "metadata": {},
   "source": [
    "### Критерий Колмогорова-Смирнова\n",
    "Начнем с критерия Колмогорова-Смирнова. Этот критерий проверяет простую гипотезу о равенстве двух (непрерывных!) функций распределения, из которых получены выборки, против любой альтернативы. \n",
    "\n",
    "`stats.ks_2samp(sample1, sample2, alternative)` — тут `sample1` и `sample2` — реализации первой и второй выборки, а `alternative` — альтернатива, которая используется. По умолчанию `alternative='two-sided'`; другие варианты: `less` и `greater`.\n",
    "\n",
    "Обратите внимание, что альтернатива формулируется для функций распределений, то есть если мы хотим проверить одностороннюю гипотезу о том, что вторая выборка стохастически принимает большие значения, необходимо использовать `alternative='less'`."
   ]
  },
  {
   "cell_type": "code",
   "execution_count": 24,
   "metadata": {},
   "outputs": [
    {
     "data": {
      "text/plain": [
       "KstestResult(statistic=0.8333333333333334, pvalue=0.00020413023508998745)"
      ]
     },
     "execution_count": 24,
     "metadata": {},
     "output_type": "execute_result"
    }
   ],
   "source": [
    "stats.ks_2samp(sample1, sample2)"
   ]
  },
  {
   "cell_type": "code",
   "execution_count": 25,
   "metadata": {},
   "outputs": [
    {
     "data": {
      "text/plain": [
       "KstestResult(statistic=0.8333333333333334, pvalue=0.00010206511754499368)"
      ]
     },
     "execution_count": 25,
     "metadata": {},
     "output_type": "execute_result"
    }
   ],
   "source": [
    "stats.ks_2samp(sample1, sample2, alternative='less')"
   ]
  },
  {
   "cell_type": "code",
   "execution_count": 26,
   "metadata": {},
   "outputs": [
    {
     "data": {
      "text/plain": [
       "KstestResult(statistic=0.0, pvalue=1.0)"
      ]
     },
     "execution_count": 26,
     "metadata": {},
     "output_type": "execute_result"
    }
   ],
   "source": [
    "stats.ks_2samp(sample1, sample2, alternative='greater')"
   ]
  },
  {
   "cell_type": "markdown",
   "metadata": {},
   "source": [
    "А можно ли применять критерий Колмогорова-Смирнова для этих данных? Ответ: скорее нет, чем да (данные дискретны)."
   ]
  },
  {
   "cell_type": "markdown",
   "metadata": {},
   "source": [
    "### Критерий Манна-Уитни\n",
    "Перейдем к критерию Манна-Уитни. Этот критерий проверяет простую гипотезу о равенстве двух функций распределений, из которых получены выборки, против альтернативы доминирования (!). Он реализован с помощью функции `mannwhitneyu` в модуле `stats`:\n",
    "\n",
    "`tats.mannwhitneyu(sample1, sample2, alternative)` — тут `sample1` и `sample2` — реализации первой и второй выборки, а `alternative` — альтернатива, которая используется. По умолчанию `alternative=None`; другие варианты: `two-sided`, `less` и `greater`. \n",
    "\n",
    "Официальная документация говорит, что `alternative=None` оставлена только для совместимости со старыми версиями реализации этого критерия.\n",
    "\n",
    "Правильно, конечно, использовать односторонние версии критерия Манна-Уитни. Обратите внимание, что в отличие от критерия Колмогорова, тут альтернатива формулируется уже для выборок, то есть если мы хотим проверить одностороннюю гипотезу о том, что вторая выборка стохастически принимает большие значения, необходимо использовать `alternative='greater'`."
   ]
  },
  {
   "cell_type": "code",
   "execution_count": 27,
   "metadata": {},
   "outputs": [
    {
     "data": {
      "text/plain": [
       "MannwhitneyuResult(statistic=6.0, pvalue=7.738460169928243e-05)"
      ]
     },
     "execution_count": 27,
     "metadata": {},
     "output_type": "execute_result"
    }
   ],
   "source": [
    "stats.mannwhitneyu(sample1, sample2)"
   ]
  },
  {
   "cell_type": "code",
   "execution_count": 28,
   "metadata": {},
   "outputs": [
    {
     "data": {
      "text/plain": [
       "MannwhitneyuResult(statistic=138.0, pvalue=0.00015476920339856486)"
      ]
     },
     "execution_count": 28,
     "metadata": {},
     "output_type": "execute_result"
    }
   ],
   "source": [
    "stats.mannwhitneyu(sample1, sample2, alternative='two-sided')"
   ]
  },
  {
   "cell_type": "code",
   "execution_count": 29,
   "metadata": {},
   "outputs": [
    {
     "data": {
      "text/plain": [
       "MannwhitneyuResult(statistic=138.0, pvalue=7.738460169928243e-05)"
      ]
     },
     "execution_count": 29,
     "metadata": {},
     "output_type": "execute_result"
    }
   ],
   "source": [
    "stats.mannwhitneyu(sample1, sample2, alternative='greater')"
   ]
  },
  {
   "cell_type": "code",
   "execution_count": 30,
   "metadata": {},
   "outputs": [
    {
     "data": {
      "text/plain": [
       "MannwhitneyuResult(statistic=138.0, pvalue=0.9999387453412919)"
      ]
     },
     "execution_count": 30,
     "metadata": {},
     "output_type": "execute_result"
    }
   ],
   "source": [
    "stats.mannwhitneyu(sample1, sample2, alternative='less')"
   ]
  },
  {
   "cell_type": "markdown",
   "metadata": {},
   "source": [
    "### Критерий Стьюдента ($t$-тест)\n",
    "\n",
    "Мы еще изучали параметрические критерии Стьюдента для независимых выборок ($Z$-критерий и $t$-критерий). Эти критерии проверяют простую гипотезу о равенстве средних двух нормальных распределений против любой альтернативы. $Z$-критерий мы не будем рассматривать, так как для него необходимо знать дисперсию (которая никогда не является известной). А $t$-критерий частично реализован с помощью функции `ttest_ind`:\n",
    "\n",
    "`stats.ttest_ind(sample1, sample2, equal_var)` — $t$-критерий для случая независимых выборок. Тут `sample1` и `sample2` — реализации первой и второй выборки, а `equal_var` булевая переменная, которая связана с предположением равенства дисперсии. По умолчанию она принимает значение True, но лучше использовать False, чтобы запускался аппроксимационный критерий (Уэлча), а не точный (Стьюдента).\n",
    "\n",
    "Различные альтернативы, к сожалению, пока не реализованы. "
   ]
  },
  {
   "cell_type": "code",
   "execution_count": 10,
   "metadata": {},
   "outputs": [
    {
     "data": {
      "image/png": "[encoded data removed]",
      "text/plain": [
       "<Figure size 1080x288 with 2 Axes>"
      ]
     },
     "metadata": {
      "needs_background": "light"
     },
     "output_type": "display_data"
    }
   ],
   "source": [
    "# посмотрим на гистограмму\n",
    "_, (ax1, ax2) = plt.subplots(ncols=2, figsize=(15,4)) \n",
    "ax1.hist(sample1, bins=5)\n",
    "ax2.hist(sample2, bins=5)\n",
    "plt.show()"
   ]
  },
  {
   "cell_type": "code",
   "execution_count": 23,
   "metadata": {},
   "outputs": [
    {
     "data": {
      "image/png": "[encoded data removed]",
      "text/plain": [
       "<Figure size 1080x288 with 2 Axes>"
      ]
     },
     "metadata": {
      "needs_background": "light"
     },
     "output_type": "display_data"
    }
   ],
   "source": [
    "# посмотрим на qqplot\n",
    "from statsmodels.graphics.gofplots import qqplot\n",
    "\n",
    "_, (ax1, ax2) = plt.subplots(ncols=2, figsize=(15,4)) \n",
    "qqplot(sample1, line='r', ax=ax1)\n",
    "qqplot(sample2, line='r', ax=ax2);"
   ]
  },
  {
   "cell_type": "markdown",
   "metadata": {},
   "source": [
    "Конечно, ни о какой нормальности в этих данный и не идет речь. Тем не менее попробуем применить критерий Стьюдента."
   ]
  },
  {
   "cell_type": "code",
   "execution_count": 24,
   "metadata": {},
   "outputs": [
    {
     "data": {
      "text/plain": [
       "Ttest_indResult(statistic=5.192725143888218, pvalue=3.3078399999803046e-05)"
      ]
     },
     "execution_count": 24,
     "metadata": {},
     "output_type": "execute_result"
    }
   ],
   "source": [
    "stats.ttest_ind(sample1, sample2)"
   ]
  },
  {
   "cell_type": "markdown",
   "metadata": {},
   "source": [
    "### Оценка параметра \"сдвига\"\n",
    "С помощью \"ящиков с усами\" мы заметили, что после игры агресивность мальчиков больше, чем у девочек. С помощью критериев однородности, мы убедились, что эти различия значимы. Теперь давайте ответим на вопрос: а на сколько в среднем агресивность мальчиков больше, чем у девочек? Для этого лучше всего использовать медиану попарных разностей."
   ]
  },
  {
   "cell_type": "code",
   "execution_count": 26,
   "metadata": {},
   "outputs": [
    {
     "data": {
      "text/plain": [
       "50.0"
      ]
     },
     "execution_count": 26,
     "metadata": {},
     "output_type": "execute_result"
    }
   ],
   "source": [
    "np.median([[sample1[i] - sample2[j] for j in range(len(sample2))] for i in range(len(sample1))]) "
   ]
  },
  {
   "cell_type": "markdown",
   "metadata": {},
   "source": [
    "## Проверка однородности. Зависимые выборки"
   ]
  },
  {
   "cell_type": "markdown",
   "metadata": {},
   "source": [
    "***\n",
    "В файле reaction.xls содержаться времена реакции $i$-го испытуемого на световой и звуковой сигналы соответственно. Необходимо проверить гипотезу однородности времен рекции на различные раздражители."
   ]
  },
  {
   "cell_type": "code",
   "execution_count": 31,
   "metadata": {},
   "outputs": [],
   "source": [
    "data = pd.read_excel('reaction.xls')"
   ]
  },
  {
   "cell_type": "code",
   "execution_count": 32,
   "metadata": {},
   "outputs": [
    {
     "data": {
      "text/html": [
       "<div>\n",
       "<style scoped>\n",
       "    .dataframe tbody tr th:only-of-type {\n",
       "        vertical-align: middle;\n",
       "    }\n",
       "\n",
       "    .dataframe tbody tr th {\n",
       "        vertical-align: top;\n",
       "    }\n",
       "\n",
       "    .dataframe thead th {\n",
       "        text-align: right;\n",
       "    }\n",
       "</style>\n",
       "<table border=\"1\" class=\"dataframe\">\n",
       "  <thead>\n",
       "    <tr style=\"text-align: right;\">\n",
       "      <th></th>\n",
       "      <th>LIGHT</th>\n",
       "      <th>SOUND</th>\n",
       "    </tr>\n",
       "  </thead>\n",
       "  <tbody>\n",
       "    <tr>\n",
       "      <th>0</th>\n",
       "      <td>176</td>\n",
       "      <td>168</td>\n",
       "    </tr>\n",
       "    <tr>\n",
       "      <th>1</th>\n",
       "      <td>163</td>\n",
       "      <td>215</td>\n",
       "    </tr>\n",
       "    <tr>\n",
       "      <th>2</th>\n",
       "      <td>152</td>\n",
       "      <td>172</td>\n",
       "    </tr>\n",
       "    <tr>\n",
       "      <th>3</th>\n",
       "      <td>155</td>\n",
       "      <td>200</td>\n",
       "    </tr>\n",
       "    <tr>\n",
       "      <th>4</th>\n",
       "      <td>156</td>\n",
       "      <td>191</td>\n",
       "    </tr>\n",
       "  </tbody>\n",
       "</table>\n",
       "</div>"
      ],
      "text/plain": [
       "   LIGHT  SOUND\n",
       "0    176    168\n",
       "1    163    215\n",
       "2    152    172\n",
       "3    155    200\n",
       "4    156    191"
      ]
     },
     "execution_count": 32,
     "metadata": {},
     "output_type": "execute_result"
    }
   ],
   "source": [
    "data.head()"
   ]
  },
  {
   "cell_type": "code",
   "execution_count": 37,
   "metadata": {},
   "outputs": [
    {
     "data": {
      "image/png": "[encoded data removed]",
      "text/plain": [
       "<Figure size 432x288 with 1 Axes>"
      ]
     },
     "metadata": {
      "needs_background": "light"
     },
     "output_type": "display_data"
    }
   ],
   "source": [
    "sns.boxplot(data=data);"
   ]
  },
  {
   "cell_type": "code",
   "execution_count": 38,
   "metadata": {},
   "outputs": [],
   "source": [
    "sample1 = data['LIGHT'].to_numpy()\n",
    "sample2 = data['SOUND'].to_numpy()"
   ]
  },
  {
   "cell_type": "markdown",
   "metadata": {},
   "source": [
    "### Критерий знаков\n",
    "\n",
    "Начнем с критерия знаков. Этот критерий предназначен для случая двух зависимых выборок и проверяет простую гипотезу о равенстве параметра сдвига $\\theta$ нулю против любой альтернативы.  Он частично реализован уже в модуле `statsmodels` с помощью функции `sign_test`:\n",
    "\n",
    "`sign_test(sample)` — тут в качестве `sample` подразумевается разность двух выборок.  \n",
    "\n",
    "К сожалению, в Python этот тест не реализован полностью: у нас нет возможности проверять односторонние альтернативы."
   ]
  },
  {
   "cell_type": "code",
   "execution_count": 39,
   "metadata": {},
   "outputs": [],
   "source": [
    "from statsmodels.stats.descriptivestats import sign_test"
   ]
  },
  {
   "cell_type": "code",
   "execution_count": 40,
   "metadata": {},
   "outputs": [
    {
     "data": {
      "text/plain": [
       "(-3.5, 0.06542968749999997)"
      ]
     },
     "execution_count": 40,
     "metadata": {},
     "output_type": "execute_result"
    }
   ],
   "source": [
    "sign_test(sample1 - sample2)"
   ]
  },
  {
   "cell_type": "markdown",
   "metadata": {},
   "source": [
    "### Критерий знаковых рангов Уилкоксона\n",
    "\n",
    "Перейдем теперь к критерию знаковых рангов Уилкоксона. Этот критерий предназначен для случая двух зависимых выборок и проверяет простую гипотезу о равенстве параметра сдвига $\\theta$ нулю против любой альтернативы. Он реализован с помощью функции `wilcoxon` в модуле `stats`:\n",
    "\n",
    "`stats.wilcoxon(sample1, sample2, alternative, mode)` — тут `sample1` и `sample2` — реализации первой и второй выборки (можно передать одним аргументом сразу их разность), `alternative` — альтернатива, которая используется (по умолчанию `two-sided`; другие варианты: `less` и `greater`) и `mode` — какое нулевое распределение используется (по умолчанию `auto`; другие варианты: `exact`, `approx`).\n",
    "\n",
    "Есть различные способы вычисления уровня значимости (либо точно `mode='exact'`, либо с помощью нормальной аппроксимации `mode='approx'`). Опция `mode='auto'` использует `exact`, если $n \\leq 25$ и `approx` в противном случае."
   ]
  },
  {
   "cell_type": "markdown",
   "metadata": {},
   "source": [
    "Напомним, что в критерии Уилкоксона делается дополнительное предположение о симметричности распределения остатков. Проверим это предположение визуально."
   ]
  },
  {
   "cell_type": "code",
   "execution_count": 41,
   "metadata": {},
   "outputs": [
    {
     "data": {
      "image/png": "[encoded data removed]",
      "text/plain": [
       "<Figure size 432x288 with 1 Axes>"
      ]
     },
     "metadata": {
      "needs_background": "light"
     },
     "output_type": "display_data"
    }
   ],
   "source": [
    "plt.figure(figsize=(6,4))\n",
    "plt.hist(sample1 - sample2, bins=6);"
   ]
  },
  {
   "cell_type": "markdown",
   "metadata": {},
   "source": [
    "Скорее всего, остатки не имеют симметричное распределение. Но мы все равно применим критерий Уилкоксона."
   ]
  },
  {
   "cell_type": "code",
   "execution_count": 42,
   "metadata": {},
   "outputs": [
    {
     "data": {
      "text/plain": [
       "WilcoxonResult(statistic=4.5, pvalue=0.011197738894413023)"
      ]
     },
     "execution_count": 42,
     "metadata": {},
     "output_type": "execute_result"
    }
   ],
   "source": [
    "stats.wilcoxon(sample1, sample2)"
   ]
  },
  {
   "cell_type": "code",
   "execution_count": 43,
   "metadata": {},
   "outputs": [
    {
     "data": {
      "text/plain": [
       "WilcoxonResult(statistic=4.5, pvalue=0.005598869447206512)"
      ]
     },
     "execution_count": 43,
     "metadata": {},
     "output_type": "execute_result"
    }
   ],
   "source": [
    "stats.wilcoxon(sample1, sample2, alternative='less')"
   ]
  },
  {
   "cell_type": "markdown",
   "metadata": {},
   "source": [
    "### Критерий Стьюдента ($t$-тест)\n",
    "\n",
    "`stats.ttest_rel(sample1, sample2)` — $t$-критерий для случая зависимых выборок. Тут `sample1` и `sample2` — реализации первой и второй выборки.\n",
    "\n",
    "Конечно, перед его применением необходимо проверить нормальность данных. Судя по построенной выше гистограмме, это предположение не выполняется. Построим еще qqplot."
   ]
  },
  {
   "cell_type": "code",
   "execution_count": 44,
   "metadata": {},
   "outputs": [
    {
     "data": {
      "image/png": "[encoded data removed]",
      "text/plain": [
       "<Figure size 432x288 with 1 Axes>"
      ]
     },
     "metadata": {
      "needs_background": "light"
     },
     "output_type": "display_data"
    }
   ],
   "source": [
    "qqplot(sample1 - sample2, line='s');"
   ]
  },
  {
   "cell_type": "code",
   "execution_count": 45,
   "metadata": {},
   "outputs": [
    {
     "data": {
      "text/plain": [
       "ShapiroResult(statistic=0.9517226219177246, pvalue=0.6622905731201172)"
      ]
     },
     "execution_count": 45,
     "metadata": {},
     "output_type": "execute_result"
    }
   ],
   "source": [
    "# проверим нормальность и с помощью критерия Шапиро-Уилка\n",
    "stats.shapiro(sample1 - sample2)"
   ]
  },
  {
   "cell_type": "markdown",
   "metadata": {},
   "source": [
    "Конечно, сомнительно применять критерий Стьюдента в данном случае. Визуальная проверка убеждает нас в том, что данные не имеют нормальное распределение. А вот критерий Шапиро-Уилка не отвергают гипотезу о нормальности данных — выборка слишком маленькая.\n",
    "Тем не менее попробуем применить критерий Стьюдента."
   ]
  },
  {
   "cell_type": "code",
   "execution_count": 46,
   "metadata": {},
   "outputs": [
    {
     "data": {
      "text/plain": [
       "Ttest_relResult(statistic=-3.248672347118036, pvalue=0.007753503906276274)"
      ]
     },
     "execution_count": 46,
     "metadata": {},
     "output_type": "execute_result"
    }
   ],
   "source": [
    "stats.ttest_rel(sample1, sample2)"
   ]
  },
  {
   "cell_type": "markdown",
   "metadata": {},
   "source": [
    "Параметрические критерии более чувствительные — самый маленький фактический уровень значимости получился у критерия Стьюдента. Только вот он что-то значит, только если гипотеза о нормальности данных выполняется."
   ]
  },
  {
   "cell_type": "markdown",
   "metadata": {},
   "source": [
    "### Оценка параметра \"сдвига\"\n",
    "\n",
    "С помощью \"ящиков с усами\" мы заметили, что реакция на световой раздражитель меньше, чем на звуковой. С помощью критериев однородности, мы убедились, что эти различия значимы (примерно на уровне 7%). Теперь давайте ответим на вопрос: а на сколько в среднем реация на световой раздражитель меньше, чем на звуковой? Для этого лучше всего использовать медиану разностей наблюдений."
   ]
  },
  {
   "cell_type": "code",
   "execution_count": 47,
   "metadata": {},
   "outputs": [
    {
     "data": {
      "text/plain": [
       "19.0"
      ]
     },
     "execution_count": 47,
     "metadata": {},
     "output_type": "execute_result"
    }
   ],
   "source": [
    "np.median(sample2 - sample1)"
   ]
  },
  {
   "cell_type": "markdown",
   "metadata": {},
   "source": [
    "## Проверка однородности. Критерий хи-квадрат\n",
    "\n",
    "Посмотрим, как применять критерии хи-квадрат для проверки однородности независимых выборок."
   ]
  },
  {
   "cell_type": "markdown",
   "metadata": {},
   "source": [
    "***\n",
    "Перед вами результаты медицинских исследований. Из 1500 мужчин, испытывающих лекарство, выздоровели 700, из 210 не принимавших выздоровели 80. Из 220 принимавших женщин — 150, из 680 не принимавших — 400. Проверить, влияет ли лекарство на мужчин? На женщин? На людей обоих полов?\n",
    "\n",
    "Запишем аккуратно данные. Пусть $A$ — принимавшие лекарство, $\\bar{A}$ — не принимавшие лекарство, $B$ — выздоровевшие, $\\bar{B}$ — не выздоровевшие.\n",
    "\n",
    "<table>\n",
    "<tr><td>\n",
    "    \n",
    "|Мужчины| $B$ |  $\\bar{B}$|\n",
    "|--|--|--|\n",
    "|$A$| 700 | 800 |\n",
    "|$\\bar{A}$| 80 | 130 |\n",
    "\n",
    "</td><td>\n",
    "    \n",
    "|Женщины| $B$ |  $\\bar{B}$|\n",
    "|--|--|--|\n",
    "|$A$| 150 | 70 |\n",
    "|$\\bar{A}$| 400 | 280 |\n",
    "\n",
    "</td><td>\n",
    "\n",
    "|Вместе| $B$ |  $\\bar{B}$|\n",
    "|--|--|--|\n",
    "|$A$| 850 | 870 |\n",
    "|$\\bar{A}$| 480 | 410 |\n",
    "\n",
    "</td></tr> </table>"
   ]
  },
  {
   "cell_type": "code",
   "execution_count": 3,
   "metadata": {},
   "outputs": [],
   "source": [
    "# перепишем данные \n",
    "men = np.array([[700,800], [80,130]])\n",
    "women = np.array([[150,70], [400,280]])\n",
    "both = men + women"
   ]
  },
  {
   "cell_type": "markdown",
   "metadata": {},
   "source": [
    "### Есть ли эффект от лекарства у мужчин? \n",
    "\n",
    "Заметим, что среди принимавших лекарство мужчин доля выздоровевших больше, чем среди мужчин, не принимавших лекарство:\n",
    "\n",
    "$$\\frac{700}{700 + 800} \\approx 0.467 \\qquad > \\qquad 0.381 \\approx \\frac{80}{80 + 130}.$$\n",
    "  \n",
    "Проверим, значимо ли это различие."
   ]
  },
  {
   "cell_type": "code",
   "execution_count": 4,
   "metadata": {},
   "outputs": [
    {
     "name": "stdout",
     "output_type": "stream",
     "text": [
      "statistic = 5.455512229705774\n",
      "pvalue = 0.019506684444057898\n"
     ]
    }
   ],
   "source": [
    "# можно реализовать криетрий вручную \n",
    "\n",
    "n = np.sum(men) # количество испытуемых\n",
    "n1, n2 = np.sum(men, axis=1) # количество испытуемых, принимавших и не принимавших лекарство\n",
    "p = np.sum(men, axis=0) / n # вероятности попасть в (B) и (not B)\n",
    "exmen = np.array([p*n1, p*n2]) # ожидаемые количества в каждой ячейке\n",
    "\n",
    "statistic = np.sum((men - exmen) ** 2 / exmen)\n",
    "pvalue = 1 - stats.chi2.cdf(statistic, df=1)\n",
    "\n",
    "print(f\"{statistic = }\")\n",
    "print(f\"{pvalue = }\")"
   ]
  },
  {
   "cell_type": "code",
   "execution_count": 5,
   "metadata": {},
   "outputs": [
    {
     "data": {
      "text/plain": [
       "(5.455512229705774,\n",
       " 0.019506684444057915,\n",
       " 1,\n",
       " array([[684.21052632, 815.78947368],\n",
       "        [ 95.78947368, 114.21052632]]))"
      ]
     },
     "execution_count": 5,
     "metadata": {},
     "output_type": "execute_result"
    }
   ],
   "source": [
    "# второй спобоб реализации \n",
    "stats.chi2_contingency(men, correction=False)"
   ]
  },
  {
   "cell_type": "markdown",
   "metadata": {},
   "source": [
    "Критерий хи-квадрат признал различие значимым на уровне ~ 2\\%."
   ]
  },
  {
   "cell_type": "markdown",
   "metadata": {},
   "source": [
    "### Есть ли эффект от лекарства у женщин? \n",
    "\n",
    "Аналогично, среди принимавших лекарство женщин доля выздоровевших больше, чем среди женщин, не принимавших лекарство:\n",
    "\n",
    "$$\\frac{150}{150 + 70} \\approx 0.682 \\qquad > \\qquad 0.588 \\approx \\frac{400}{400 + 280}.$$\n",
    "  \n",
    "Проверим, значимо ли это различие."
   ]
  },
  {
   "cell_type": "code",
   "execution_count": 6,
   "metadata": {},
   "outputs": [
    {
     "data": {
      "text/plain": [
       "(5.737976595596912,\n",
       " 0.016601907318792426,\n",
       " 1,\n",
       " array([[134.44444444,  85.55555556],\n",
       "        [415.55555556, 264.44444444]]))"
      ]
     },
     "execution_count": 6,
     "metadata": {},
     "output_type": "execute_result"
    }
   ],
   "source": [
    "stats.chi2_contingency(women)"
   ]
  },
  {
   "cell_type": "markdown",
   "metadata": {},
   "source": [
    "Критерий хи-квадрат признал различие значимым на уровне ≈ 2\\%."
   ]
  },
  {
   "cell_type": "markdown",
   "metadata": {},
   "source": [
    "### Есть ли эффект от лекарства у мужчин и женщин вместе? \n",
    "\n",
    "Как это ни странно, из таблицы с объединенными результатами следует, что доля выздоровевших больше среди тех людей, которые лекарство *не принимали*:\n",
    "\n",
    "$$\\frac{850}{850+870} \\approx 0.494 \\qquad < \\qquad 0.539 \\approx \\frac{480}{480+410}.$$\n",
    "  \n",
    "Проверим, значимо ли это различие."
   ]
  },
  {
   "cell_type": "code",
   "execution_count": 7,
   "metadata": {},
   "outputs": [
    {
     "data": {
      "text/plain": [
       "(4.603156848108104,\n",
       " 0.031913140873073946,\n",
       " 1,\n",
       " array([[876.47509579, 843.52490421],\n",
       "        [453.52490421, 436.47509579]]))"
      ]
     },
     "execution_count": 7,
     "metadata": {},
     "output_type": "execute_result"
    }
   ],
   "source": [
    "stats.chi2_contingency(both)"
   ]
  },
  {
   "cell_type": "markdown",
   "metadata": {},
   "source": [
    "Критерий хи-квадрат признал различие значимым на уровне ≈ 3.2\\%."
   ]
  },
  {
   "cell_type": "markdown",
   "metadata": {},
   "source": [
    "### Причина парадокса\n",
    "\n",
    "Причина парадокса заключается в непропорциональном представительстве в разных категориях: мужчины выздоравливают\n",
    "хуже, но лекарство испытывалось в основном на них.\n",
    "\n",
    "На абстрактном уровне речь идет о следующем: из неравенств\n",
    "    \n",
    "$$\\frac{A_1}{A_1+B_1} \\ge \\frac{C_1}{C_1+D_1}\\quad\\text{и}\\quad \\frac{A_2}{A_2+B_2} \\ge \\frac{C_2}{C_2+D_2}$$\n",
    "\n",
    "иногда делается поспешный вывод о справедливости неравенства\n",
    "\n",
    "$$\\frac{A_1+A_2}{A_1+B_1 + A_2+B_2} \\ge \\frac{C_1+C_2}{C_1+D_1+C_2+D_2}$$\n",
    "\n",
    "к чему нет никаких предпосылок."
   ]
  },
  {
   "cell_type": "markdown",
   "metadata": {},
   "source": [
    "Г. Секей пишет: \n",
    ">«Аналогично, новое лекарство может оказаться эффективным в каждом из десяти различных госпиталей, но объединение результатов укажет на то, что это лекарство либо бесполезно, либо вредно».\n",
    "\n",
    "Кроме того, число мужчин (210), не принимавших лекарство, недостаточно велико: согласно таблице, приведенной в книге\n",
    "Дж. Флейс «Статистические методы для изучения таблиц долей и пропорций», вероятность ошибки II рода, для таких данных\n",
    "равна $50\\%$. Чтобы обеспечить ошибку второго рода $10\\%$, необходимо иметь не менее 475 пациентов в этой категории.\n",
    "\n",
    "Этот пример показывает, что к выводам, основанным на применении критерия хи-квадрат, следует относиться с осторожностью."
   ]
  },
  {
   "cell_type": "markdown",
   "metadata": {},
   "source": [
    "***\n",
    "Методом перебора найдите наиболее подходящий тип распределения для выборки, содержащейся в файле sample.csv. Сначала постройте гистограмму, чтобы получить представление о форме плотности распределения. Затем изучите квантильные графики для разных распределений. Если будет такая возможность попробуйте применить какие-то критерии согласия."
   ]
  },
  {
   "cell_type": "code",
   "execution_count": 11,
   "metadata": {},
   "outputs": [
    {
     "data": {
      "text/plain": [
       "(100,)"
      ]
     },
     "execution_count": 11,
     "metadata": {},
     "output_type": "execute_result"
    }
   ],
   "source": [
    "data = pd.read_csv('sample.csv')\n",
    "sample = data.values.flatten()\n",
    "sample.shape"
   ]
  },
  {
   "cell_type": "code",
   "execution_count": 12,
   "metadata": {},
   "outputs": [
    {
     "data": {
      "image/png": "[encoded data removed]",
      "text/plain": [
       "<Figure size 432x288 with 1 Axes>"
      ]
     },
     "metadata": {
      "needs_background": "light"
     },
     "output_type": "display_data"
    }
   ],
   "source": [
    "plt.hist(sample);"
   ]
  },
  {
   "cell_type": "markdown",
   "metadata": {},
   "source": [
    "Однозначно предположить распределение, из которого пришла данная выборка по гистраграмме сложно. Тем не менее, видно, что картина не соответствует нормальному и равномерному распределению. Но есть определенное сходство с экспоненциальным распределением: мы видим большие значения в левой части гистрограммы, которые затем быстро убывают."
   ]
  },
  {
   "cell_type": "code",
   "execution_count": 29,
   "metadata": {},
   "outputs": [
    {
     "data": {
      "image/png": "[encoded data removed]",
      "text/plain": [
       "<Figure size 1080x288 with 3 Axes>"
      ]
     },
     "metadata": {
      "needs_background": "light"
     },
     "output_type": "display_data"
    }
   ],
   "source": [
    "# построим квантильный графики для нормального распределения для трех распределений\n",
    "dists = [stats.norm, stats.uniform, stats.expon ]\n",
    "\n",
    "_, axes = plt.subplots(ncols=3, figsize=(15,4))\n",
    "for ax, dist in zip(axes, dists):\n",
    "    qqplot(sample, dist=dist, line='r', ax=ax)\n",
    "    ax.set_title(dist.name)"
   ]
  },
  {
   "cell_type": "markdown",
   "metadata": {},
   "source": [
    "Как видно из представленных выше графиков, визуально наша выборка больше всего соответствует (хотя и не идеально) экспоненциальному распределению."
   ]
  },
  {
   "cell_type": "code",
   "execution_count": 43,
   "metadata": {},
   "outputs": [
    {
     "data": {
      "text/plain": [
       "KstestResult(statistic=0.07002123333746968, pvalue=0.6900910133412069)"
      ]
     },
     "execution_count": 43,
     "metadata": {},
     "output_type": "execute_result"
    }
   ],
   "source": [
    "# Выполним проверку на экспоненциальность\n",
    "s = np.sum(sample)\n",
    "vec = np.zeros(len(sample)-1)\n",
    "for i in range(1, len(sample)):\n",
    "    vec[i-1] = np.sum(sample[:i]) / s\n",
    "\n",
    "stats.kstest(rvs=vec, cdf=stats.uniform.cdf)"
   ]
  },
  {
   "cell_type": "markdown",
   "metadata": {},
   "source": [
    "Мы получили p-value 0.69. Значит, критерий Колмогорова не отвергает гипотезу о том, что наша новая выборка, полученная на основе исходной, пришла из равномерного распределения на отрезке [0, 1]. А это, в свою очередь, означает, что гипотеза о том, что наша исходная выборка пришла из экспоненциального распределения также не отвергается."
   ]
  },
  {
   "cell_type": "markdown",
   "metadata": {},
   "source": [
    "***\n",
    "В файле anorexia.txt записан вес пациентов до начала терапии анарексии и после ее окончания. Была терапия эффективна?"
   ]
  },
  {
   "cell_type": "code",
   "execution_count": 49,
   "metadata": {},
   "outputs": [
    {
     "data": {
      "text/html": [
       "<div>\n",
       "<style scoped>\n",
       "    .dataframe tbody tr th:only-of-type {\n",
       "        vertical-align: middle;\n",
       "    }\n",
       "\n",
       "    .dataframe tbody tr th {\n",
       "        vertical-align: top;\n",
       "    }\n",
       "\n",
       "    .dataframe thead th {\n",
       "        text-align: right;\n",
       "    }\n",
       "</style>\n",
       "<table border=\"1\" class=\"dataframe\">\n",
       "  <thead>\n",
       "    <tr style=\"text-align: right;\">\n",
       "      <th></th>\n",
       "      <th>Before</th>\n",
       "      <th>After</th>\n",
       "    </tr>\n",
       "  </thead>\n",
       "  <tbody>\n",
       "    <tr>\n",
       "      <th>0</th>\n",
       "      <td>80.5</td>\n",
       "      <td>82.2</td>\n",
       "    </tr>\n",
       "    <tr>\n",
       "      <th>1</th>\n",
       "      <td>84.9</td>\n",
       "      <td>85.6</td>\n",
       "    </tr>\n",
       "    <tr>\n",
       "      <th>2</th>\n",
       "      <td>81.5</td>\n",
       "      <td>81.4</td>\n",
       "    </tr>\n",
       "    <tr>\n",
       "      <th>3</th>\n",
       "      <td>82.6</td>\n",
       "      <td>81.9</td>\n",
       "    </tr>\n",
       "    <tr>\n",
       "      <th>4</th>\n",
       "      <td>79.9</td>\n",
       "      <td>76.4</td>\n",
       "    </tr>\n",
       "  </tbody>\n",
       "</table>\n",
       "</div>"
      ],
      "text/plain": [
       "   Before  After\n",
       "0    80.5   82.2\n",
       "1    84.9   85.6\n",
       "2    81.5   81.4\n",
       "3    82.6   81.9\n",
       "4    79.9   76.4"
      ]
     },
     "execution_count": 49,
     "metadata": {},
     "output_type": "execute_result"
    }
   ],
   "source": [
    "anorexia = pd.read_csv('anorexia.txt', delimiter='\\t')\n",
    "anorexia.head()"
   ]
  },
  {
   "cell_type": "markdown",
   "metadata": {},
   "source": [
    "Поскольку в выборках у нас представлены результаты наблюдения за одними и теми же людьми до и после терапии, то данные выборки являются зависимыми."
   ]
  },
  {
   "cell_type": "code",
   "execution_count": 50,
   "metadata": {},
   "outputs": [],
   "source": [
    "# создадим два numpy array, содержащих наши выборки\n",
    "before = anorexia['Before'].to_numpy()\n",
    "after = anorexia['After'].to_numpy()"
   ]
  },
  {
   "cell_type": "code",
   "execution_count": 54,
   "metadata": {},
   "outputs": [
    {
     "data": {
      "image/png": "[encoded data removed]",
      "text/plain": [
       "<Figure size 432x288 with 1 Axes>"
      ]
     },
     "metadata": {
      "needs_background": "light"
     },
     "output_type": "display_data"
    }
   ],
   "source": [
    "# визуализируем наши данные при помощи boxplot\n",
    "sns.boxplot(data=anorexia);"
   ]
  },
  {
   "cell_type": "markdown",
   "metadata": {},
   "source": [
    "Как видно из графика, пространство значений выборки `after` содержит в себе пространство значений выборки `before` (кроме одного выброса), при этом дисперсия выборки `before` заметно меньше, чем у выборки `after`, а медианы практически совпадают. Исходя из имеющейся картины, однозначный вывод о том, что терапия была эффективной, сделать нельзя."
   ]
  },
  {
   "cell_type": "code",
   "execution_count": 55,
   "metadata": {},
   "outputs": [
    {
     "data": {
      "text/plain": [
       "(-3.5, 0.26493089646101)"
      ]
     },
     "execution_count": 55,
     "metadata": {},
     "output_type": "execute_result"
    }
   ],
   "source": [
    "# используем критерий знаков, чтобы проверить гипотезу о том, что выборки пришли из одного распределения\n",
    "sign_test(before - after)"
   ]
  },
  {
   "cell_type": "markdown",
   "metadata": {},
   "source": [
    "Критерий знаков показал `p-value` равное 0.26, что не позволяет нам отвергнуть нулевую гипотезу о том, что выборки пришли из одного распределения. А значит, критерий знаков говорит, что, скорее всего, статистически значимых различий между выборками нет."
   ]
  },
  {
   "cell_type": "code",
   "execution_count": 56,
   "metadata": {},
   "outputs": [
    {
     "data": {
      "image/png": "[encoded data removed]",
      "text/plain": [
       "<Figure size 432x288 with 1 Axes>"
      ]
     },
     "metadata": {
      "needs_background": "light"
     },
     "output_type": "display_data"
    }
   ],
   "source": [
    "# попробуем оценить симметричность распределения остатков при помощи гистрограммы\n",
    "plt.hist(before - after);"
   ]
  },
  {
   "cell_type": "markdown",
   "metadata": {},
   "source": [
    "Скорее всего, остатки не имеют симметричного распределния, тем не менее все же попробуем применить к нашим выборкам критерий Уилкоксона."
   ]
  },
  {
   "cell_type": "code",
   "execution_count": 57,
   "metadata": {},
   "outputs": [
    {
     "data": {
      "text/plain": [
       "WilcoxonResult(statistic=131.5, pvalue=0.06291972262602667)"
      ]
     },
     "execution_count": 57,
     "metadata": {},
     "output_type": "execute_result"
    }
   ],
   "source": [
    "stats.wilcoxon(before, after)"
   ]
  },
  {
   "cell_type": "code",
   "execution_count": 58,
   "metadata": {},
   "outputs": [
    {
     "data": {
      "text/plain": [
       "WilcoxonResult(statistic=131.5, pvalue=0.031459861313013336)"
      ]
     },
     "execution_count": 58,
     "metadata": {},
     "output_type": "execute_result"
    }
   ],
   "source": [
    "# поскольку предполагается, что препарат должен помогать в борьбе с анарексией (а значит, \n",
    "# у людей после лечения должен увеличиться вес), попробуем также рассмотреть односторонний критерий\n",
    "\n",
    "stats.wilcoxon(before, after, alternative='less')"
   ]
  },
  {
   "cell_type": "markdown",
   "metadata": {},
   "source": [
    "На уровне значимости 5% критерий Уилкоксона также не отвергает нулевую гипотезу о том, выборки пришли из одного распределения (отсутствует систематический сдвиг). Хотя в данном случае `p-value` получилось уже значительно меньше, чем для критерия знаков. А вот одностронний критерий на уровне значимости 5% уже отвергает нулевую гипотезу в пользу альтернативы, состоящей в том, что выборка `after` стохастически доминирует выборку `before`. Но, опять же, в данном примере остатки, скорее всего, не имеют нормального распределения, поэтому критерий Уилкоксона может работать не вполне корректно."
   ]
  },
  {
   "cell_type": "code",
   "execution_count": 59,
   "metadata": {},
   "outputs": [
    {
     "data": {
      "image/png": "[encoded data removed]",
      "text/plain": [
       "<Figure size 432x288 with 1 Axes>"
      ]
     },
     "metadata": {
      "needs_background": "light"
     },
     "output_type": "display_data"
    }
   ],
   "source": [
    "# попробуем также использовать двухвыборочный t-критерий для зависимых выборок, \n",
    "# для этого сначала проверим наши данные на нормальность\n",
    "qqplot(before - after, line='s');"
   ]
  },
  {
   "cell_type": "code",
   "execution_count": 60,
   "metadata": {},
   "outputs": [
    {
     "data": {
      "text/plain": [
       "ShapiroResult(statistic=0.8961783051490784, pvalue=0.007945147342979908)"
      ]
     },
     "execution_count": 60,
     "metadata": {},
     "output_type": "execute_result"
    }
   ],
   "source": [
    "stats.shapiro(before - after)"
   ]
  },
  {
   "cell_type": "markdown",
   "metadata": {},
   "source": [
    "Критерий Шапиро-Уилка и квантильный график говорят о том, что наши данные, скорее всего, не имеют нормального распределения. Тем не менее посмотрим на $t$-критерий."
   ]
  },
  {
   "cell_type": "code",
   "execution_count": 61,
   "metadata": {},
   "outputs": [
    {
     "data": {
      "text/plain": [
       "Ttest_relResult(statistic=-2.215587843931166, pvalue=0.03502259756218883)"
      ]
     },
     "execution_count": 61,
     "metadata": {},
     "output_type": "execute_result"
    }
   ],
   "source": [
    "stats.ttest_rel(before, after)"
   ]
  },
  {
   "cell_type": "markdown",
   "metadata": {},
   "source": [
    "Как мы видим $t$-критерий отвергает гипотезу о том, что выборки пришли из одного распределения, на уровне значимости 5%. Однако, как уже отмечалось, его использование в данном случае представляется не вполне корректным."
   ]
  },
  {
   "cell_type": "code",
   "execution_count": 62,
   "metadata": {},
   "outputs": [
    {
     "data": {
      "text/plain": [
       "-1.3999999999999915"
      ]
     },
     "execution_count": 62,
     "metadata": {},
     "output_type": "execute_result"
    }
   ],
   "source": [
    "# попробуем также оценить параметр сдвига\n",
    "np.median(before - after)"
   ]
  },
  {
   "cell_type": "markdown",
   "metadata": {},
   "source": [
    "Терапия, скорее, была неэффективна. Об этом говорит и `boxplot`, и критерий знаков, и оценка параметра сдвига (которая оказалась близка к нулю с учетом величины значений, принимаемых элеменетами выборок). Критерий Уилкоксона менее однозначен, но на уровне значимости 5%, также говорит о том, что статистически значимой разницы между выборками нет. При этом использование критерия Уилкоксона в данном случае представляется не совсем корректным. $t$-критерий в данном случае использовать не следует, так как не подтверждается предположение о нормальности данных."
   ]
  },
  {
   "cell_type": "markdown",
   "metadata": {},
   "source": [
    "***\n",
    "В файле seattle.txt записаны цены на недвижимость в одном из районов Сиэтла в 2001 году и в 2002 году (объекты недвижимости выбирались случайно). Изменились ли в среднем цены в этом районе за год?\n",
    "Заметим, что поскольку по условию задачи объекты недвижимости выбирались случайно, в данном случае нам даны независимые выборки."
   ]
  },
  {
   "cell_type": "code",
   "execution_count": 63,
   "metadata": {},
   "outputs": [],
   "source": [
    "seattle = pd.read_csv('seattle.txt', sep='\\t')\n",
    "y2001 = seattle[seattle['Year'] == 2001]['Price'].to_numpy()\n",
    "y2002 = seattle[seattle['Year'] == 2002]['Price'].to_numpy()"
   ]
  },
  {
   "cell_type": "code",
   "execution_count": 76,
   "metadata": {},
   "outputs": [
    {
     "data": {
      "text/html": [
       "<div>\n",
       "<style scoped>\n",
       "    .dataframe tbody tr th:only-of-type {\n",
       "        vertical-align: middle;\n",
       "    }\n",
       "\n",
       "    .dataframe tbody tr th {\n",
       "        vertical-align: top;\n",
       "    }\n",
       "\n",
       "    .dataframe thead th {\n",
       "        text-align: right;\n",
       "    }\n",
       "</style>\n",
       "<table border=\"1\" class=\"dataframe\">\n",
       "  <thead>\n",
       "    <tr style=\"text-align: right;\">\n",
       "      <th></th>\n",
       "      <th>Price</th>\n",
       "      <th>Year</th>\n",
       "    </tr>\n",
       "  </thead>\n",
       "  <tbody>\n",
       "    <tr>\n",
       "      <th>0</th>\n",
       "      <td>142.0</td>\n",
       "      <td>2002</td>\n",
       "    </tr>\n",
       "    <tr>\n",
       "      <th>1</th>\n",
       "      <td>232.0</td>\n",
       "      <td>2002</td>\n",
       "    </tr>\n",
       "    <tr>\n",
       "      <th>2</th>\n",
       "      <td>132.5</td>\n",
       "      <td>2002</td>\n",
       "    </tr>\n",
       "    <tr>\n",
       "      <th>3</th>\n",
       "      <td>200.0</td>\n",
       "      <td>2002</td>\n",
       "    </tr>\n",
       "    <tr>\n",
       "      <th>4</th>\n",
       "      <td>362.0</td>\n",
       "      <td>2002</td>\n",
       "    </tr>\n",
       "  </tbody>\n",
       "</table>\n",
       "</div>"
      ],
      "text/plain": [
       "   Price  Year\n",
       "0  142.0  2002\n",
       "1  232.0  2002\n",
       "2  132.5  2002\n",
       "3  200.0  2002\n",
       "4  362.0  2002"
      ]
     },
     "execution_count": 76,
     "metadata": {},
     "output_type": "execute_result"
    }
   ],
   "source": [
    "seattle.head()"
   ]
  },
  {
   "cell_type": "code",
   "execution_count": 75,
   "metadata": {},
   "outputs": [
    {
     "data": {
      "image/png": "[encoded data removed]",
      "text/plain": [
       "<Figure size 432x288 with 1 Axes>"
      ]
     },
     "metadata": {
      "needs_background": "light"
     },
     "output_type": "display_data"
    }
   ],
   "source": [
    "# Для начала посмотрим на данные с помощью boxplot\n",
    "sns.boxplot(x='Year', y='Price', data=seattle, palette='Set3');"
   ]
  },
  {
   "cell_type": "markdown",
   "metadata": {},
   "source": [
    "Как мы видим из графика, за исключением нескольких \"очень дорогих\" выбросов, относящихся к 2002 году, значения, принимаемые выборками лежат примерно в одном диапазоне, и медианы у них примерно равные. Выборка 2002 года характерезуется меньшим разбросом значений (если не учитывать те самые выбросы)."
   ]
  },
  {
   "cell_type": "code",
   "execution_count": 77,
   "metadata": {},
   "outputs": [
    {
     "data": {
      "text/plain": [
       "KstestResult(statistic=0.14, pvalue=0.7166468440414822)"
      ]
     },
     "execution_count": 77,
     "metadata": {},
     "output_type": "execute_result"
    }
   ],
   "source": [
    "# посмотрим на критерий Колмогорова-Смирнова (считаем, что имеем дело с непрерывными распределениями)\n",
    "stats.ks_2samp(y2001, y2002)"
   ]
  },
  {
   "cell_type": "markdown",
   "metadata": {},
   "source": [
    "Критерий Колмагорова-Смирнова не отвергает нулевую гипотезу о том, что выборки имеют одинаковое распределение."
   ]
  },
  {
   "cell_type": "code",
   "execution_count": 78,
   "metadata": {},
   "outputs": [
    {
     "data": {
      "text/plain": [
       "MannwhitneyuResult(statistic=1295.5, pvalue=0.7563872675701748)"
      ]
     },
     "execution_count": 78,
     "metadata": {},
     "output_type": "execute_result"
    }
   ],
   "source": [
    "# посмотрим на критерий Манна-Уитни\n",
    "stats.mannwhitneyu(y2001, y2002, alternative='two-sided')"
   ]
  },
  {
   "cell_type": "markdown",
   "metadata": {},
   "source": [
    "Критерий Манна-Уитни также не отвергает нулевую гипотезу о том, что выборки пришли из одного и того же распределения."
   ]
  },
  {
   "cell_type": "code",
   "execution_count": 79,
   "metadata": {},
   "outputs": [
    {
     "data": {
      "image/png": "[encoded data removed]",
      "text/plain": [
       "<Figure size 1080x288 with 2 Axes>"
      ]
     },
     "metadata": {
      "needs_background": "light"
     },
     "output_type": "display_data"
    }
   ],
   "source": [
    "# проверим наши выборки на нормальность\n",
    "_, ax = plt.subplots(ncols=2, figsize=(15, 4))\n",
    "ax[0].hist(y2001)\n",
    "ax[1].hist(y2002);"
   ]
  },
  {
   "cell_type": "code",
   "execution_count": 80,
   "metadata": {},
   "outputs": [
    {
     "data": {
      "image/png": "[encoded data removed]",
      "text/plain": [
       "<Figure size 1080x288 with 2 Axes>"
      ]
     },
     "metadata": {
      "needs_background": "light"
     },
     "output_type": "display_data"
    }
   ],
   "source": [
    "_, ax = plt.subplots(ncols=2, figsize=(15, 4))\n",
    "qqplot(y2001, ax=ax[0], line='r')\n",
    "qqplot(y2002, ax=ax[1], line='r');"
   ]
  },
  {
   "cell_type": "code",
   "execution_count": 81,
   "metadata": {},
   "outputs": [
    {
     "name": "stdout",
     "output_type": "stream",
     "text": [
      "ShapiroResult(statistic=0.9515296220779419, pvalue=0.03943965956568718)\n",
      "ShapiroResult(statistic=0.6063637733459473, pvalue=2.4237015172623444e-10)\n"
     ]
    }
   ],
   "source": [
    "print(stats.shapiro(y2001))\n",
    "print(stats.shapiro(y2002))"
   ]
  },
  {
   "cell_type": "markdown",
   "metadata": {},
   "source": [
    "Как видно, данные в наших выборках, скорее всего, не имеют нормального распределения. Тем не менее рассмотрим двухвыборочный $t$-критерий для независимых выборок."
   ]
  },
  {
   "cell_type": "code",
   "execution_count": 82,
   "metadata": {},
   "outputs": [
    {
     "data": {
      "text/plain": [
       "Ttest_indResult(statistic=-0.8057258725189664, pvalue=0.42305786816462243)"
      ]
     },
     "execution_count": 82,
     "metadata": {},
     "output_type": "execute_result"
    }
   ],
   "source": [
    "stats.ttest_ind(y2001, y2002, equal_var=False)"
   ]
  },
  {
   "cell_type": "markdown",
   "metadata": {},
   "source": [
    "Как мы видим, критерий Стьюдета также не отвергает гипотезу о том, что выборки пришли из одого и того же распределения. Но его использование в данной ситуации представляется некорректным."
   ]
  },
  {
   "cell_type": "code",
   "execution_count": 83,
   "metadata": {},
   "outputs": [
    {
     "data": {
      "text/plain": [
       "8.149999999999999"
      ]
     },
     "execution_count": 83,
     "metadata": {},
     "output_type": "execute_result"
    }
   ],
   "source": [
    "# также оценим параметр сдвига\n",
    "np.median([[y2001[i] - y2002[j] for j in range(len(y2002))] for i in range(len(y2001))])"
   ]
  },
  {
   "cell_type": "code",
   "execution_count": 84,
   "metadata": {},
   "outputs": [
    {
     "name": "stdout",
     "output_type": "stream",
     "text": [
      "KstestResult(statistic=0.2441860465116279, pvalue=0.10390396594248075)\n",
      "MannwhitneyuResult(statistic=1287.5, pvalue=0.10233580034695816)\n"
     ]
    }
   ],
   "source": [
    "# посмотрим еще на значения критериев, если избавиться от выбросов в 2002 году\n",
    "\n",
    "y2002_ = y2002[y2002 < 500]\n",
    "\n",
    "print(stats.ks_2samp(y2001, y2002_))\n",
    "print(stats.mannwhitneyu(y2001, y2002_, alternative='two-sided'))"
   ]
  },
  {
   "cell_type": "markdown",
   "metadata": {},
   "source": [
    "Как видно, и в случае, если убрать выбросы в 2002 году, то на уровне значимости 5% оба критерия также не отвергают гипотезу о том, что выборки пришли из одного распределения."
   ]
  },
  {
   "cell_type": "markdown",
   "metadata": {},
   "source": [
    "*Критерии Колмагорова-Смирнова и Манна-Уитни не отвергают гипотезу о том, что выборки пришли из одинакового распределения. Скорее всего, в среднем за рассматриваемый год цены недвижимости в данном районе Сиэтла статистически значимо не изменились.*"
   ]
  },
  {
   "cell_type": "markdown",
   "metadata": {},
   "source": [
    "***\n",
    "В рамках исследования эффективности препарата метилфенидат пациент с синдромом дефицита внимания и гиперактивности в течение недели принимал либо метилфенидат, либо плацебо. В конце недели каждый пациент проходил тест на способность к подавлению импульсивных поведенческих реакций. На втором этапе плацебо и препарат менялись, и после недельного курса каждый испытуемый проходил второй тест. Был ли эффект от применения препарата? Данные находятся в файле methylphenidate.txt.\n",
    "\n",
    "Так как оба теста проводятся с одним и тем же испытуемым, мы имеем дело с зависимыми выборками."
   ]
  },
  {
   "cell_type": "code",
   "execution_count": 3,
   "metadata": {},
   "outputs": [
    {
     "data": {
      "text/html": [
       "<div>\n",
       "<style scoped>\n",
       "    .dataframe tbody tr th:only-of-type {\n",
       "        vertical-align: middle;\n",
       "    }\n",
       "\n",
       "    .dataframe tbody tr th {\n",
       "        vertical-align: top;\n",
       "    }\n",
       "\n",
       "    .dataframe thead th {\n",
       "        text-align: right;\n",
       "    }\n",
       "</style>\n",
       "<table border=\"1\" class=\"dataframe\">\n",
       "  <thead>\n",
       "    <tr style=\"text-align: right;\">\n",
       "      <th></th>\n",
       "      <th>Placebo</th>\n",
       "      <th>Methylphenidate</th>\n",
       "    </tr>\n",
       "  </thead>\n",
       "  <tbody>\n",
       "    <tr>\n",
       "      <th>0</th>\n",
       "      <td>57</td>\n",
       "      <td>62</td>\n",
       "    </tr>\n",
       "    <tr>\n",
       "      <th>1</th>\n",
       "      <td>27</td>\n",
       "      <td>49</td>\n",
       "    </tr>\n",
       "    <tr>\n",
       "      <th>2</th>\n",
       "      <td>32</td>\n",
       "      <td>30</td>\n",
       "    </tr>\n",
       "    <tr>\n",
       "      <th>3</th>\n",
       "      <td>31</td>\n",
       "      <td>34</td>\n",
       "    </tr>\n",
       "    <tr>\n",
       "      <th>4</th>\n",
       "      <td>34</td>\n",
       "      <td>38</td>\n",
       "    </tr>\n",
       "  </tbody>\n",
       "</table>\n",
       "</div>"
      ],
      "text/plain": [
       "   Placebo  Methylphenidate\n",
       "0       57               62\n",
       "1       27               49\n",
       "2       32               30\n",
       "3       31               34\n",
       "4       34               38"
      ]
     },
     "execution_count": 3,
     "metadata": {},
     "output_type": "execute_result"
    }
   ],
   "source": [
    "tests = pd.read_csv('methylphenidate.txt', sep=' ')\n",
    "tests.head()"
   ]
  },
  {
   "cell_type": "code",
   "execution_count": 11,
   "metadata": {},
   "outputs": [
    {
     "data": {
      "image/png": "[encoded data removed]",
      "text/plain": [
       "<Figure size 432x288 with 1 Axes>"
      ]
     },
     "metadata": {
      "needs_background": "light"
     },
     "output_type": "display_data"
    }
   ],
   "source": [
    "# оценим наши выборки визуально\n",
    "sns.boxplot(data=tests, palette='Set1');"
   ]
  },
  {
   "cell_type": "markdown",
   "metadata": {},
   "source": [
    "Как мы видим, значения выборок находятся примерно в одном диапозоне, при этом разброс значений по выборке \"метилфенидат\" заметно больше."
   ]
  },
  {
   "cell_type": "code",
   "execution_count": 12,
   "metadata": {},
   "outputs": [],
   "source": [
    "# создадим два numpy array, содержащих наши выборки\n",
    "placebo = tests['Placebo'].to_numpy()\n",
    "drug = tests['Methylphenidate'].to_numpy()"
   ]
  },
  {
   "cell_type": "code",
   "execution_count": 13,
   "metadata": {},
   "outputs": [
    {
     "data": {
      "text/plain": [
       "(-5.0, 0.06391465663909912)"
      ]
     },
     "execution_count": 13,
     "metadata": {},
     "output_type": "execute_result"
    }
   ],
   "source": [
    "# используем критерий знаков\n",
    "sign_test(placebo - drug)"
   ]
  },
  {
   "cell_type": "markdown",
   "metadata": {},
   "source": [
    "На уровне значимости 5% критерий знаков не отвергает нулевую гипотезу о том, что наши выборки не содержат статистически значимых различий."
   ]
  },
  {
   "cell_type": "code",
   "execution_count": 15,
   "metadata": {},
   "outputs": [
    {
     "data": {
      "image/png": "[encoded data removed]",
      "text/plain": [
       "<Figure size 432x288 with 1 Axes>"
      ]
     },
     "metadata": {
      "needs_background": "light"
     },
     "output_type": "display_data"
    }
   ],
   "source": [
    "# попробуем оценить симметричность распределения остатков при помощи гистрограммы\n",
    "plt.hist(placebo - drug, bins=8);"
   ]
  },
  {
   "cell_type": "markdown",
   "metadata": {},
   "source": [
    "Однозначно говорить о том, что остатки имеют симметричное распределение сложно. Тем не менее применим к нашим данным критерий Уилкоксона."
   ]
  },
  {
   "cell_type": "code",
   "execution_count": 16,
   "metadata": {},
   "outputs": [
    {
     "data": {
      "text/plain": [
       "WilcoxonResult(statistic=48.5, pvalue=0.0025163888931274414)"
      ]
     },
     "execution_count": 16,
     "metadata": {},
     "output_type": "execute_result"
    }
   ],
   "source": [
    "stats.wilcoxon(placebo, drug)"
   ]
  },
  {
   "cell_type": "markdown",
   "metadata": {},
   "source": [
    "Поскольку предполагается, что препарат должен помогать тестируемым (а значит, у людей, принимавших препарат оценки за тест должны быть выше, чем у тех, кто принимал плацебо), попробуем также рассмотреть односторонний критерий."
   ]
  },
  {
   "cell_type": "code",
   "execution_count": 17,
   "metadata": {},
   "outputs": [
    {
     "data": {
      "text/plain": [
       "WilcoxonResult(statistic=48.5, pvalue=0.0012581944465637207)"
      ]
     },
     "execution_count": 17,
     "metadata": {},
     "output_type": "execute_result"
    }
   ],
   "source": [
    "stats.wilcoxon(placebo, drug, alternative='less')"
   ]
  },
  {
   "cell_type": "markdown",
   "metadata": {},
   "source": [
    "Критерий Уилкоксона говорит о том, что между выборками есть статистически значимые отличия. Односторонний критерий отвергает нулевую гипотезу о том, что выборки пришли из одного распределения, в пользу альтерантивы, которая состоит в том, что выборка `drug` (т.е. оценки тестируемых, принимавших препарат) стохастически доминирует выборку `placebo` (т.е. оценки тех людей, кто принимал плацебо)."
   ]
  },
  {
   "cell_type": "code",
   "execution_count": 18,
   "metadata": {},
   "outputs": [
    {
     "data": {
      "image/png": "[encoded data removed]",
      "text/plain": [
       "<Figure size 432x288 with 1 Axes>"
      ]
     },
     "metadata": {
      "needs_background": "light"
     },
     "output_type": "display_data"
    }
   ],
   "source": [
    "# также проверим наши данные на нормальность\n",
    "qqplot(placebo - drug, line='r');"
   ]
  },
  {
   "cell_type": "code",
   "execution_count": 19,
   "metadata": {},
   "outputs": [
    {
     "data": {
      "text/plain": [
       "ShapiroResult(statistic=0.9798052906990051, pvalue=0.8922504186630249)"
      ]
     },
     "execution_count": 19,
     "metadata": {},
     "output_type": "execute_result"
    }
   ],
   "source": [
    "stats.shapiro(placebo - drug)"
   ]
  },
  {
   "cell_type": "markdown",
   "metadata": {},
   "source": [
    "Критерий Шапиро-Уилка не отвергает нулевую гипотезу о том, что разность данных выборок пришла из нормального распределения. Тогда применим к нашим данным критерий Стьюдента."
   ]
  },
  {
   "cell_type": "code",
   "execution_count": 20,
   "metadata": {},
   "outputs": [
    {
     "data": {
      "text/plain": [
       "Ttest_relResult(statistic=-3.2223624451230406, pvalue=0.003771488176381471)"
      ]
     },
     "execution_count": 20,
     "metadata": {},
     "output_type": "execute_result"
    }
   ],
   "source": [
    "stats.ttest_rel(placebo, drug)"
   ]
  },
  {
   "cell_type": "markdown",
   "metadata": {},
   "source": [
    "Критерий Стьюдента, как и критерий Уилкоксона, говорит о том, что между выборками есть статистически значимые отличия."
   ]
  },
  {
   "cell_type": "code",
   "execution_count": 21,
   "metadata": {},
   "outputs": [
    {
     "data": {
      "text/plain": [
       "-5.0"
      ]
     },
     "execution_count": 21,
     "metadata": {},
     "output_type": "execute_result"
    }
   ],
   "source": [
    "# оценим также параметр сдвига\n",
    "np.median(placebo - drug)"
   ]
  },
  {
   "cell_type": "markdown",
   "metadata": {},
   "source": [
    "*Критерий Уилкоксона (который, наверное, не совсем корректно использовать в данном случае, так как не наблюдается очевидная симметрия остатков) и критерий Стьюдента (к которому нужно относиться с осторожностью, так как это параметрический критерий) говорят, что между выборками есть статистически значимые отличия. Критерий знаков, говорит, что таких отличий нет (для уровня значимости 5%), но его p-value равняется 0.064, и значит, он отвергнет нулевую гипотезу уже на уроне 7%. Сделаем вывод, что, скорее всего, выборки пришли из разных распределений, и люди, которым давали препарат, в среднем, набирают на тестах на 5 баллов больше, чем люди, которым давали плацебо. Все это говорит в пользу эффективности препарата.*"
   ]
  },
  {
   "cell_type": "markdown",
   "metadata": {},
   "source": [
    "***\n",
    "В файле mtcars.csv находятся данные из американского журнала Motor Trend 1974 года. Они описывают расход топлива в зависимости от 10 характеристик автомобиля (все автомобили 1973-1974 года). Влияет ли тип двигателя на расход топлива? А тип коробки передач?"
   ]
  },
  {
   "cell_type": "markdown",
   "metadata": {},
   "source": [
    "Поскольку мы будем сравнивать расход топлива у автомобилей с двумя разными типами двигаетелей и с двумя разными типами коробок передач (то есть у разных автомобилей), то наши выборки (расхода топлива) в данном случае будут являться независимыми."
   ]
  },
  {
   "cell_type": "code",
   "execution_count": 22,
   "metadata": {},
   "outputs": [
    {
     "data": {
      "text/html": [
       "<div>\n",
       "<style scoped>\n",
       "    .dataframe tbody tr th:only-of-type {\n",
       "        vertical-align: middle;\n",
       "    }\n",
       "\n",
       "    .dataframe tbody tr th {\n",
       "        vertical-align: top;\n",
       "    }\n",
       "\n",
       "    .dataframe thead th {\n",
       "        text-align: right;\n",
       "    }\n",
       "</style>\n",
       "<table border=\"1\" class=\"dataframe\">\n",
       "  <thead>\n",
       "    <tr style=\"text-align: right;\">\n",
       "      <th></th>\n",
       "      <th>mpg</th>\n",
       "      <th>cyl</th>\n",
       "      <th>disp</th>\n",
       "      <th>hp</th>\n",
       "      <th>drat</th>\n",
       "      <th>wt</th>\n",
       "      <th>qsec</th>\n",
       "      <th>vs</th>\n",
       "      <th>am</th>\n",
       "      <th>gear</th>\n",
       "      <th>carb</th>\n",
       "    </tr>\n",
       "  </thead>\n",
       "  <tbody>\n",
       "    <tr>\n",
       "      <th>Mazda RX4</th>\n",
       "      <td>21.0</td>\n",
       "      <td>6</td>\n",
       "      <td>160.0</td>\n",
       "      <td>110</td>\n",
       "      <td>3.90</td>\n",
       "      <td>2.620</td>\n",
       "      <td>16.46</td>\n",
       "      <td>0</td>\n",
       "      <td>1</td>\n",
       "      <td>4</td>\n",
       "      <td>4</td>\n",
       "    </tr>\n",
       "    <tr>\n",
       "      <th>Mazda RX4 Wag</th>\n",
       "      <td>21.0</td>\n",
       "      <td>6</td>\n",
       "      <td>160.0</td>\n",
       "      <td>110</td>\n",
       "      <td>3.90</td>\n",
       "      <td>2.875</td>\n",
       "      <td>17.02</td>\n",
       "      <td>0</td>\n",
       "      <td>1</td>\n",
       "      <td>4</td>\n",
       "      <td>4</td>\n",
       "    </tr>\n",
       "    <tr>\n",
       "      <th>Datsun 710</th>\n",
       "      <td>22.8</td>\n",
       "      <td>4</td>\n",
       "      <td>108.0</td>\n",
       "      <td>93</td>\n",
       "      <td>3.85</td>\n",
       "      <td>2.320</td>\n",
       "      <td>18.61</td>\n",
       "      <td>1</td>\n",
       "      <td>1</td>\n",
       "      <td>4</td>\n",
       "      <td>1</td>\n",
       "    </tr>\n",
       "    <tr>\n",
       "      <th>Hornet 4 Drive</th>\n",
       "      <td>21.4</td>\n",
       "      <td>6</td>\n",
       "      <td>258.0</td>\n",
       "      <td>110</td>\n",
       "      <td>3.08</td>\n",
       "      <td>3.215</td>\n",
       "      <td>19.44</td>\n",
       "      <td>1</td>\n",
       "      <td>0</td>\n",
       "      <td>3</td>\n",
       "      <td>1</td>\n",
       "    </tr>\n",
       "    <tr>\n",
       "      <th>Hornet Sportabout</th>\n",
       "      <td>18.7</td>\n",
       "      <td>8</td>\n",
       "      <td>360.0</td>\n",
       "      <td>175</td>\n",
       "      <td>3.15</td>\n",
       "      <td>3.440</td>\n",
       "      <td>17.02</td>\n",
       "      <td>0</td>\n",
       "      <td>0</td>\n",
       "      <td>3</td>\n",
       "      <td>2</td>\n",
       "    </tr>\n",
       "  </tbody>\n",
       "</table>\n",
       "</div>"
      ],
      "text/plain": [
       "                    mpg  cyl   disp   hp  drat     wt   qsec  vs  am  gear  \\\n",
       "Mazda RX4          21.0    6  160.0  110  3.90  2.620  16.46   0   1     4   \n",
       "Mazda RX4 Wag      21.0    6  160.0  110  3.90  2.875  17.02   0   1     4   \n",
       "Datsun 710         22.8    4  108.0   93  3.85  2.320  18.61   1   1     4   \n",
       "Hornet 4 Drive     21.4    6  258.0  110  3.08  3.215  19.44   1   0     3   \n",
       "Hornet Sportabout  18.7    8  360.0  175  3.15  3.440  17.02   0   0     3   \n",
       "\n",
       "                   carb  \n",
       "Mazda RX4             4  \n",
       "Mazda RX4 Wag         4  \n",
       "Datsun 710            1  \n",
       "Hornet 4 Drive        1  \n",
       "Hornet Sportabout     2  "
      ]
     },
     "execution_count": 22,
     "metadata": {},
     "output_type": "execute_result"
    }
   ],
   "source": [
    "cars = pd.read_csv('mtcars.csv', index_col=0)\n",
    "cars.head()"
   ]
  },
  {
   "cell_type": "code",
   "execution_count": 23,
   "metadata": {},
   "outputs": [],
   "source": [
    "mpg_v = cars['mpg'][cars['vs'] == 0].to_numpy() # расход топлива у машин с V-образным двигателем\n",
    "mpg_s = cars['mpg'][cars['vs'] == 1].to_numpy() # расход топлива у машин с рядным двигателем\n",
    "mpg_a = cars['mpg'][cars['am'] == 0].to_numpy() # расход топлива у машин с АКП\n",
    "mpg_m = cars['mpg'][cars['am'] == 1].to_numpy() # расход топлива у машин с МКП"
   ]
  },
  {
   "cell_type": "code",
   "execution_count": 29,
   "metadata": {},
   "outputs": [
    {
     "data": {
      "image/png": "[encoded data removed]",
      "text/plain": [
       "<Figure size 432x288 with 1 Axes>"
      ]
     },
     "metadata": {
      "needs_background": "light"
     },
     "output_type": "display_data"
    }
   ],
   "source": [
    "sns.boxplot(data=cars, x='vs', y='mpg', palette='Set1');"
   ]
  },
  {
   "cell_type": "markdown",
   "metadata": {},
   "source": [
    "Значения расхода топлива для автомобилей с разными типами двигателей заметно различаются."
   ]
  },
  {
   "cell_type": "code",
   "execution_count": 30,
   "metadata": {},
   "outputs": [
    {
     "data": {
      "image/png": "[encoded data removed]",
      "text/plain": [
       "<Figure size 432x288 with 1 Axes>"
      ]
     },
     "metadata": {
      "needs_background": "light"
     },
     "output_type": "display_data"
    }
   ],
   "source": [
    "sns.boxplot(data=cars, x='am', y='mpg', palette='Set2');"
   ]
  },
  {
   "cell_type": "markdown",
   "metadata": {},
   "source": [
    "Похожую картину можно видеть и для разных типов коробок передач, хотя в этом случае уже больше данных лежат в одном диапазоне для каждой из выборок."
   ]
  },
  {
   "cell_type": "markdown",
   "metadata": {},
   "source": [
    " Посмотрим на критерий Колмогорова-Смирнова (считаем, что имеем дело с непрерывными распределениями)"
   ]
  },
  {
   "cell_type": "code",
   "execution_count": 41,
   "metadata": {},
   "outputs": [
    {
     "name": "stdout",
     "output_type": "stream",
     "text": [
      "Критерий Колмогорова-Смирнова для разных типов двигателей:  0.7301587301587301 0.0001328071108758211\n",
      "Критерий Колмогорова-Смирнова для разных типов КП:  0.6356275303643725 0.00194012440784197\n"
     ]
    }
   ],
   "source": [
    "print('Критерий Колмогорова-Смирнова для разных типов двигателей: ', *stats.ks_2samp(mpg_v, mpg_s))\n",
    "print('Критерий Колмогорова-Смирнова для разных типов КП: ', *stats.ks_2samp(mpg_a, mpg_m))"
   ]
  },
  {
   "cell_type": "markdown",
   "metadata": {},
   "source": [
    "Посмотрим также на односторонний критерий Колмогорова-Смирнова"
   ]
  },
  {
   "cell_type": "code",
   "execution_count": 42,
   "metadata": {},
   "outputs": [
    {
     "name": "stdout",
     "output_type": "stream",
     "text": [
      "KstestResult(statistic=0.7301587301587301, pvalue=6.640355543790075e-05)\n",
      "KstestResult(statistic=0.6356275303643725, pvalue=0.0009700622039210809)\n"
     ]
    }
   ],
   "source": [
    "print(stats.ks_2samp(mpg_v, mpg_s, alternative='greater'))\n",
    "print(stats.ks_2samp(mpg_a, mpg_m, alternative='greater'))"
   ]
  },
  {
   "cell_type": "markdown",
   "metadata": {},
   "source": [
    "В обоих случаях критерий Колмогорова-Смирнова отвергает гипотезу о том, что между выборками нет статистически значимых различий, а значит можно сделать выводы, что и тип двигателя и тип КП значимо влияют на расход топлива. \n",
    "\n",
    "Односторонний критерий говорит о том, что расстояние, которое машина проезжает на 1 галлон топлива, в среднем меньше в случае с V-образными двигателями и АКП (т.е. отвергает нулевую гипотезу о том, что выборки пришли из одинакового распределения в пользу указанной альтернативы)."
   ]
  },
  {
   "cell_type": "markdown",
   "metadata": {},
   "source": [
    "Посмотрим на критерий Манна-Уитни"
   ]
  },
  {
   "cell_type": "code",
   "execution_count": 47,
   "metadata": {},
   "outputs": [
    {
     "name": "stdout",
     "output_type": "stream",
     "text": [
      "Критерий Манна-Уитни для разных типов двигателей: 22.5 9.034471700053182e-05 \n",
      "Критерий Манна-Уитни для разных типов КП: 42.0 0.0018713913331785542\n"
     ]
    }
   ],
   "source": [
    "print('Критерий Манна-Уитни для разных типов двигателей:', *stats.mannwhitneyu(mpg_v, mpg_s,\n",
    "                                                                               alternative='two-sided'),\n",
    "'\\nКритерий Манна-Уитни для разных типов КП:', *stats.mannwhitneyu(mpg_a, mpg_m,\n",
    "                                                                   alternative='two-sided'))"
   ]
  },
  {
   "cell_type": "code",
   "execution_count": 48,
   "metadata": {},
   "outputs": [
    {
     "name": "stdout",
     "output_type": "stream",
     "text": [
      "MannwhitneyuResult(statistic=22.5, pvalue=4.517235850026591e-05)\n",
      "MannwhitneyuResult(statistic=42.0, pvalue=0.0009356956665892771)\n"
     ]
    }
   ],
   "source": [
    "# посмотрим также на односторонний критерий Манна-Уитни\n",
    "print(stats.mannwhitneyu(mpg_v, mpg_s, alternative='less'))\n",
    "print(stats.mannwhitneyu(mpg_a, mpg_m, alternative='less'))"
   ]
  },
  {
   "cell_type": "markdown",
   "metadata": {},
   "source": [
    "Критерий Манна-Уитни также отвергает нулевую гипотезу о том, что выборки пришли из одного распределения и в случае с типами двигателей, и в случае с коробками передач. Односторонний критерий отвергает нулевую гипотезу о том, что выборки пришли из одного распределения в пользу альтернативы, которая состоит в том, что расстояние, которое машина проезжает на 1 галлон топлива, в среднем, меньше в случае с V-образными двигателями и АКП."
   ]
  },
  {
   "cell_type": "markdown",
   "metadata": {},
   "source": [
    "На всякий случай, проверим наши данные на нормальность (и на возможность использования критерия Стьюдента)"
   ]
  },
  {
   "cell_type": "code",
   "execution_count": 49,
   "metadata": {},
   "outputs": [
    {
     "data": {
      "image/png": "[encoded data removed]",
      "text/plain": [
       "<Figure size 1080x576 with 4 Axes>"
      ]
     },
     "metadata": {
      "needs_background": "light"
     },
     "output_type": "display_data"
    }
   ],
   "source": [
    "_, ax = plt.subplots(nrows=2, ncols=2, figsize=(15, 8))\n",
    "ax[0,0].hist(mpg_v)\n",
    "ax[0,1].hist(mpg_s)\n",
    "ax[1,0].hist(mpg_a)\n",
    "ax[1,1].hist(mpg_m);"
   ]
  },
  {
   "cell_type": "code",
   "execution_count": 50,
   "metadata": {},
   "outputs": [
    {
     "data": {
      "image/png": "[encoded data removed]",
      "text/plain": [
       "<Figure size 1080x288 with 4 Axes>"
      ]
     },
     "metadata": {
      "needs_background": "light"
     },
     "output_type": "display_data"
    }
   ],
   "source": [
    "_, ax = plt.subplots(ncols=4, figsize=(15, 4))\n",
    "qqplot(mpg_v, ax=ax[0], line='r')\n",
    "qqplot(mpg_s, ax=ax[1], line='r')\n",
    "qqplot(mpg_a, ax=ax[2], line='r')\n",
    "qqplot(mpg_m, ax=ax[3], line='r');"
   ]
  },
  {
   "cell_type": "code",
   "execution_count": 52,
   "metadata": {},
   "outputs": [
    {
     "name": "stdout",
     "output_type": "stream",
     "text": [
      "ShapiroResult(statistic=0.9515073299407959, pvalue=0.44915100932121277)\n",
      "ShapiroResult(statistic=0.9116623401641846, pvalue=0.16659046709537506)\n",
      "ShapiroResult(statistic=0.976774275302887, pvalue=0.8987362384796143)\n",
      "ShapiroResult(statistic=0.9458035826683044, pvalue=0.536271333694458)\n"
     ]
    }
   ],
   "source": [
    "print(stats.shapiro(mpg_v), stats.shapiro(mpg_s), stats.shapiro(mpg_a), stats.shapiro(mpg_m), sep='\\n')"
   ]
  },
  {
   "cell_type": "markdown",
   "metadata": {},
   "source": [
    "Для всех четырех выборок критерий Шапиро-Уилка не отвергает гипотезу о том, что эти данные пришли из нормального распределения. Хотя это, скорее всего, связано с малым числом наблюдений в выборках. Тем не менее воспользуемся также критерием Стьюдента."
   ]
  },
  {
   "cell_type": "code",
   "execution_count": 53,
   "metadata": {},
   "outputs": [
    {
     "name": "stdout",
     "output_type": "stream",
     "text": [
      "Критерий Стьюдента для разных типов двигателей: -4.667052730251419 0.00010983680112365942 \n",
      "Критерий Стьюдента для разных типов КП: -3.767123145144923 0.0013736383330710345\n"
     ]
    }
   ],
   "source": [
    "print('Критерий Стьюдента для разных типов двигателей:', *stats.ttest_ind(mpg_v, mpg_s, equal_var=False),\n",
    "'\\nКритерий Стьюдента для разных типов КП:', *stats.ttest_ind(mpg_a, mpg_m, equal_var=False))"
   ]
  },
  {
   "cell_type": "markdown",
   "metadata": {},
   "source": [
    "Как и два предыдущих критерия, критерий Стьюдента отвергает гипотезу о том, что выборки пришли из одного распределения."
   ]
  },
  {
   "cell_type": "code",
   "execution_count": 54,
   "metadata": {},
   "outputs": [
    {
     "name": "stdout",
     "output_type": "stream",
     "text": [
      "Оценка параметра сдвига для разных типов двигателей: -7.3500000000000005\n",
      "Оценка параметра сдвига для разных типов КП: -6.800000000000001\n"
     ]
    }
   ],
   "source": [
    "# также оценим параметры сдвига\n",
    "print('Оценка параметра сдвига для разных типов двигателей:', \n",
    "      np.median([[mpg_v[i] - mpg_s[j] for j in range(len(mpg_s))] for i in range(len(mpg_v))]))\n",
    "\n",
    "print('Оценка параметра сдвига для разных типов КП:',\n",
    "      np.median([[mpg_a[i] - mpg_m[j] for j in range(len(mpg_m))] for i in range(len(mpg_a))]))"
   ]
  },
  {
   "cell_type": "markdown",
   "metadata": {},
   "source": [
    "В среднем, автомобили с V-образными двигателями проезжают за 1 галлон топлива на 7.3 мили меньше, чем автомобили с рядными двигателями. В среднем, автомобили с автоматической коробкой передач проезжают за 1 галлон топлива на 6.8 миль меньше, чем автомобили с механической коробкой передач."
   ]
  },
  {
   "cell_type": "markdown",
   "metadata": {},
   "source": [
    "*Все три использованных критерия показали, что и в случае с типом двигателя, и в случае с типом коробки передач, между расходами топлива соответствующих автомобилей существует статистически значимая разница. Расход топлива на единицу расстояния больше у автомобилей с V-образным двигателем и с автоматической коробкой передач.*"
   ]
  },
  {
   "cell_type": "markdown",
   "metadata": {},
   "source": [
    "## Вместо заключения"
   ]
  },
  {
   "cell_type": "markdown",
   "metadata": {},
   "source": [
    "В статистике известно большое количество критериев согласия и далеко не все из них реализованы в Python. О критериях можно почитать в книге А.И. Кобзарь \"Прикладная математическая статистика. Для инженеров и научных работников\". (Почти) полный список того, что реализовано в Python можно найти в официальной документации: https://docs.scipy.org/doc/scipy/reference/stats.html#module-scipy.stats.\n",
    "\n",
    "Если в официальной документации Вы не найдете нужного критерия, гуглите. Вполне возможно, что критерий, который Вам нужен уже реализован."
   ]
  }
 ],
 "metadata": {
  "kernelspec": {
   "display_name": "Python 3",
   "language": "python",
   "name": "python3"
  },
  "language_info": {
   "codemirror_mode": {
    "name": "ipython",
    "version": 3
   },
   "file_extension": ".py",
   "mimetype": "text/x-python",
   "name": "python",
   "nbconvert_exporter": "python",
   "pygments_lexer": "ipython3",
   "version": "3.8.3"
  }
 },
 "nbformat": 4,
 "nbformat_minor": 2
}
