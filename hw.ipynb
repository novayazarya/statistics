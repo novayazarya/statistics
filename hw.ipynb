{
  "nbformat": 4,
  "nbformat_minor": 0,
  "metadata": {
    "kernelspec": {
      "display_name": "Python 3",
      "language": "python",
      "name": "python3"
    },
    "language_info": {
      "codemirror_mode": {
        "name": "ipython",
        "version": 3
      },
      "file_extension": ".py",
      "mimetype": "text/x-python",
      "name": "python",
      "nbconvert_exporter": "python",
      "pygments_lexer": "ipython3",
      "version": "3.7.6"
    },
    "colab": {
      "name": "Копия блокнота \"HW2_final.ipynb\"",
      "provenance": []
    }
  },
  "cells": [
    {
      "cell_type": "code",
      "metadata": {
        "id": "5D5bQHKezlk3"
      },
      "source": [
        "import pandas as pd\n",
        "import numpy as np\n",
        "import matplotlib.pyplot as plt\n",
        "from scipy.stats.mstats import mquantiles\n",
        "import warnings\n",
        "import seaborn as sns\n",
        "import scipy.stats as st\n",
        "import datetime\n",
        "\n",
        "warnings.filterwarnings('ignore')\n",
        "plt.style.use('ggplot')\n",
        "# plt.rcParams['figure.figsize'] = 20, 10"
      ],
      "execution_count": 1,
      "outputs": []
    },
    {
      "cell_type": "markdown",
      "metadata": {
        "id": "IkLI4F_jzSvL"
      },
      "source": [
        "# **Задание 1**\n",
        "\n",
        "Проанализировать набор данных и ответить на следующие вопросы:\n",
        "\n",
        "1) Какой % наблюдений выходит за 5 и 95 перцентиль?\n",
        "\n",
        "2) Какому закону распределения отвечают данные? На основе чего вы так решили?\n",
        "\n",
        "[Ссылка на данные](https://drive.google.com/file/d/1fc8BGSjDiwbZW6rcr3mMSwAjU2T_BpGW/view?usp=sharing)\n",
        "\n",
        "Описание данных:\n",
        "\n",
        "* metrics -- значение определенной метрики в сервисе для пользователя (например, количество кликов). \n",
        "\n",
        "\n",
        "*Вместе с ответом на задание приложить код*"
      ]
    },
    {
      "cell_type": "code",
      "metadata": {
        "id": "88MQsH--zSvM",
        "colab": {
          "base_uri": "https://localhost:8080/"
        },
        "outputId": "934273ad-1d05-4632-f1d8-5417590adb02"
      },
      "source": [
        "!pip install fitter"
      ],
      "execution_count": 59,
      "outputs": [
        {
          "output_type": "stream",
          "name": "stdout",
          "text": [
            "Collecting fitter\n",
            "  Downloading fitter-1.4.0.tar.gz (27 kB)\n",
            "Collecting easydev\n",
            "  Downloading easydev-0.11.2.tar.gz (47 kB)\n",
            "\u001b[K     |████████████████████████████████| 47 kB 4.1 MB/s \n",
            "\u001b[?25hRequirement already satisfied: numpy in /usr/local/lib/python3.7/dist-packages (from fitter) (1.19.5)\n",
            "Requirement already satisfied: matplotlib in /usr/local/lib/python3.7/dist-packages (from fitter) (3.2.2)\n",
            "Requirement already satisfied: scipy>=0.18 in /usr/local/lib/python3.7/dist-packages (from fitter) (1.4.1)\n",
            "Requirement already satisfied: pandas in /usr/local/lib/python3.7/dist-packages (from fitter) (1.1.5)\n",
            "Requirement already satisfied: click in /usr/local/lib/python3.7/dist-packages (from fitter) (7.1.2)\n",
            "Requirement already satisfied: joblib in /usr/local/lib/python3.7/dist-packages (from fitter) (1.0.1)\n",
            "Collecting colorama\n",
            "  Downloading colorama-0.4.4-py2.py3-none-any.whl (16 kB)\n",
            "Requirement already satisfied: pexpect in /usr/local/lib/python3.7/dist-packages (from easydev->fitter) (4.8.0)\n",
            "Collecting colorlog\n",
            "  Downloading colorlog-6.4.1-py2.py3-none-any.whl (11 kB)\n",
            "Requirement already satisfied: pyparsing!=2.0.4,!=2.1.2,!=2.1.6,>=2.0.1 in /usr/local/lib/python3.7/dist-packages (from matplotlib->fitter) (2.4.7)\n",
            "Requirement already satisfied: python-dateutil>=2.1 in /usr/local/lib/python3.7/dist-packages (from matplotlib->fitter) (2.8.2)\n",
            "Requirement already satisfied: cycler>=0.10 in /usr/local/lib/python3.7/dist-packages (from matplotlib->fitter) (0.10.0)\n",
            "Requirement already satisfied: kiwisolver>=1.0.1 in /usr/local/lib/python3.7/dist-packages (from matplotlib->fitter) (1.3.1)\n",
            "Requirement already satisfied: six in /usr/local/lib/python3.7/dist-packages (from cycler>=0.10->matplotlib->fitter) (1.15.0)\n",
            "Requirement already satisfied: pytz>=2017.2 in /usr/local/lib/python3.7/dist-packages (from pandas->fitter) (2018.9)\n",
            "Requirement already satisfied: ptyprocess>=0.5 in /usr/local/lib/python3.7/dist-packages (from pexpect->easydev->fitter) (0.7.0)\n",
            "Building wheels for collected packages: fitter, easydev\n",
            "  Building wheel for fitter (setup.py) ... \u001b[?25l\u001b[?25hdone\n",
            "  Created wheel for fitter: filename=fitter-1.4.0-py3-none-any.whl size=25025 sha256=472d57eeb9cb3cd22849b01a096cbbbc44e7d1f12a86831332d137dc1143dd53\n",
            "  Stored in directory: /root/.cache/pip/wheels/e1/98/16/e5263962f94fbfaad79902aa94652516caccc1f1d51509e853\n",
            "  Building wheel for easydev (setup.py) ... \u001b[?25l\u001b[?25hdone\n",
            "  Created wheel for easydev: filename=easydev-0.11.2-py3-none-any.whl size=64232 sha256=1981748ef0577b4b4650af02f09b0eb4a1d89c58622ebfec86d6f8c18f4bdf02\n",
            "  Stored in directory: /root/.cache/pip/wheels/96/cd/8c/c22853ff02639ccd4dfa13a86257ee2cd6457ed6ed9a530bfa\n",
            "Successfully built fitter easydev\n",
            "Installing collected packages: colorlog, colorama, easydev, fitter\n",
            "Successfully installed colorama-0.4.4 colorlog-6.4.1 easydev-0.11.2 fitter-1.4.0\n"
          ]
        }
      ]
    },
    {
      "cell_type": "code",
      "metadata": {
        "id": "dGV8P4aV0CVw",
        "colab": {
          "base_uri": "https://localhost:8080/",
          "height": 204
        },
        "outputId": "30e54e2b-130a-41a7-8927-fae5ed741d31"
      },
      "source": [
        "df = pd.read_csv('https://drive.google.com/u/0/uc?id=1fc8BGSjDiwbZW6rcr3mMSwAjU2T_BpGW&export=download', sep=';', index_col=0)\n",
        "df.head()"
      ],
      "execution_count": 3,
      "outputs": [
        {
          "output_type": "execute_result",
          "data": {
            "text/html": [
              "<div>\n",
              "<style scoped>\n",
              "    .dataframe tbody tr th:only-of-type {\n",
              "        vertical-align: middle;\n",
              "    }\n",
              "\n",
              "    .dataframe tbody tr th {\n",
              "        vertical-align: top;\n",
              "    }\n",
              "\n",
              "    .dataframe thead th {\n",
              "        text-align: right;\n",
              "    }\n",
              "</style>\n",
              "<table border=\"1\" class=\"dataframe\">\n",
              "  <thead>\n",
              "    <tr style=\"text-align: right;\">\n",
              "      <th></th>\n",
              "      <th>metrics</th>\n",
              "    </tr>\n",
              "  </thead>\n",
              "  <tbody>\n",
              "    <tr>\n",
              "      <th>1</th>\n",
              "      <td>1</td>\n",
              "    </tr>\n",
              "    <tr>\n",
              "      <th>2</th>\n",
              "      <td>1</td>\n",
              "    </tr>\n",
              "    <tr>\n",
              "      <th>3</th>\n",
              "      <td>4</td>\n",
              "    </tr>\n",
              "    <tr>\n",
              "      <th>4</th>\n",
              "      <td>1</td>\n",
              "    </tr>\n",
              "    <tr>\n",
              "      <th>5</th>\n",
              "      <td>1</td>\n",
              "    </tr>\n",
              "  </tbody>\n",
              "</table>\n",
              "</div>"
            ],
            "text/plain": [
              "   metrics\n",
              "1        1\n",
              "2        1\n",
              "3        4\n",
              "4        1\n",
              "5        1"
            ]
          },
          "metadata": {},
          "execution_count": 3
        }
      ]
    },
    {
      "cell_type": "code",
      "metadata": {
        "id": "h5idEClY3KQ_",
        "colab": {
          "base_uri": "https://localhost:8080/",
          "height": 265
        },
        "outputId": "a763f72f-f9da-4658-bfcd-031e9a5dae24"
      },
      "source": [
        "q_5, q_95 = df[\"metrics\"].quantile([0.05, 0.95]).values\n",
        "\n",
        "plt.hist([df[\"metrics\"].values], bins=30)\n",
        "plt.axvline(x=q_5, linewidth=1.5, color='y',linestyle='--')\n",
        "plt.axvline(x=q_95, linewidth=1.5, color='y',linestyle='--');"
      ],
      "execution_count": 14,
      "outputs": [
        {
          "output_type": "display_data",
          "data": {
            "image/png": "[encoded data removed]",
            "text/plain": [
              "<Figure size 432x288 with 1 Axes>"
            ]
          },
          "metadata": {
            "needs_background": "light"
          }
        }
      ]
    },
    {
      "cell_type": "code",
      "metadata": {
        "colab": {
          "base_uri": "https://localhost:8080/"
        },
        "id": "irDkLskXfNaL",
        "outputId": "ff8e6e00-9011-40ac-db66-f7a8d1527d96"
      },
      "source": [
        "# % наблюдений, выходящих за 5 и 95 перцентиль\n",
        "1 - df.query(\"metrics >= @q_5 & metrics <= @q_95\").__len__() / len(df) "
      ],
      "execution_count": 22,
      "outputs": [
        {
          "output_type": "execute_result",
          "data": {
            "text/plain": [
              "0.04987306046493434"
            ]
          },
          "metadata": {},
          "execution_count": 22
        }
      ]
    },
    {
      "cell_type": "code",
      "metadata": {
        "colab": {
          "base_uri": "https://localhost:8080/",
          "height": 265
        },
        "id": "cnpRx67TgSkm",
        "outputId": "3686c9cb-452c-4df5-e071-e1426aa2db15"
      },
      "source": [
        "# логарифмируем\n",
        "np.log(df.metrics).hist(bins=10);"
      ],
      "execution_count": 67,
      "outputs": [
        {
          "output_type": "display_data",
          "data": {
            "image/png": "[encoded data removed]",
            "text/plain": [
              "<Figure size 432x288 with 1 Axes>"
            ]
          },
          "metadata": {
            "needs_background": "light"
          }
        }
      ]
    },
    {
      "cell_type": "markdown",
      "metadata": {
        "id": "pHAJfvNdKRja"
      },
      "source": [
        "--- \n",
        "Для аппроксимации распределения используем [Fitter](https://fitter.readthedocs.io)"
      ]
    },
    {
      "cell_type": "code",
      "metadata": {
        "id": "hWooBZxfSYu0"
      },
      "source": [
        "from fitter import Fitter\n",
        "f = Fitter(np.log(df[\"metrics\"]), timeout=200)"
      ],
      "execution_count": 60,
      "outputs": []
    },
    {
      "cell_type": "code",
      "metadata": {
        "id": "2RoFr22DT0QQ",
        "colab": {
          "base_uri": "https://localhost:8080/"
        },
        "outputId": "0ae6d22c-e58b-4798-f756-0c969ff3d2e8"
      },
      "source": [
        "f.fit()"
      ],
      "execution_count": 61,
      "outputs": [
        {
          "output_type": "stream",
          "name": "stderr",
          "text": [
            "WARNING:root:SKIPPED ksone distribution (taking more than 200 seconds)\n",
            "WARNING:root:SKIPPED levy_stable distribution (taking more than 200 seconds)\n",
            "WARNING:root:SKIPPED ncf distribution (taking more than 200 seconds)\n",
            "WARNING:root:SKIPPED nct distribution (taking more than 200 seconds)\n",
            "WARNING:root:SKIPPED ncx2 distribution (taking more than 200 seconds)\n",
            "WARNING:root:SKIPPED rv_continuous distribution (taking more than 200 seconds)\n",
            "WARNING:root:SKIPPED rv_histogram distribution (taking more than 200 seconds)\n",
            "WARNING:root:SKIPPED truncnorm distribution (taking more than 200 seconds)\n",
            "WARNING:root:SKIPPED tukeylambda distribution (taking more than 200 seconds)\n"
          ]
        }
      ]
    },
    {
      "cell_type": "code",
      "metadata": {
        "id": "pHx15vZumIHz",
        "colab": {
          "base_uri": "https://localhost:8080/",
          "height": 452
        },
        "outputId": "fbfe08ab-61a0-46f4-9803-a30a383f5159"
      },
      "source": [
        "f.summary()"
      ],
      "execution_count": 63,
      "outputs": [
        {
          "output_type": "execute_result",
          "data": {
            "text/html": [
              "<div>\n",
              "<style scoped>\n",
              "    .dataframe tbody tr th:only-of-type {\n",
              "        vertical-align: middle;\n",
              "    }\n",
              "\n",
              "    .dataframe tbody tr th {\n",
              "        vertical-align: top;\n",
              "    }\n",
              "\n",
              "    .dataframe thead th {\n",
              "        text-align: right;\n",
              "    }\n",
              "</style>\n",
              "<table border=\"1\" class=\"dataframe\">\n",
              "  <thead>\n",
              "    <tr style=\"text-align: right;\">\n",
              "      <th></th>\n",
              "      <th>sumsquare_error</th>\n",
              "      <th>aic</th>\n",
              "      <th>bic</th>\n",
              "      <th>kl_div</th>\n",
              "    </tr>\n",
              "  </thead>\n",
              "  <tbody>\n",
              "    <tr>\n",
              "      <th>halfgennorm</th>\n",
              "      <td>14.080926</td>\n",
              "      <td>806.156809</td>\n",
              "      <td>-3.065056e+06</td>\n",
              "      <td>inf</td>\n",
              "    </tr>\n",
              "    <tr>\n",
              "      <th>bradford</th>\n",
              "      <td>16.966793</td>\n",
              "      <td>584.950624</td>\n",
              "      <td>-3.007850e+06</td>\n",
              "      <td>inf</td>\n",
              "    </tr>\n",
              "    <tr>\n",
              "      <th>betaprime</th>\n",
              "      <td>17.149320</td>\n",
              "      <td>813.650356</td>\n",
              "      <td>-3.004554e+06</td>\n",
              "      <td>inf</td>\n",
              "    </tr>\n",
              "    <tr>\n",
              "      <th>gamma</th>\n",
              "      <td>17.640600</td>\n",
              "      <td>1186.778585</td>\n",
              "      <td>-2.995900e+06</td>\n",
              "      <td>inf</td>\n",
              "    </tr>\n",
              "    <tr>\n",
              "      <th>burr</th>\n",
              "      <td>18.520125</td>\n",
              "      <td>837.261908</td>\n",
              "      <td>-2.980958e+06</td>\n",
              "      <td>inf</td>\n",
              "    </tr>\n",
              "  </tbody>\n",
              "</table>\n",
              "</div>"
            ],
            "text/plain": [
              "             sumsquare_error          aic           bic  kl_div\n",
              "halfgennorm        14.080926   806.156809 -3.065056e+06     inf\n",
              "bradford           16.966793   584.950624 -3.007850e+06     inf\n",
              "betaprime          17.149320   813.650356 -3.004554e+06     inf\n",
              "gamma              17.640600  1186.778585 -2.995900e+06     inf\n",
              "burr               18.520125   837.261908 -2.980958e+06     inf"
            ]
          },
          "metadata": {},
          "execution_count": 63
        },
        {
          "output_type": "display_data",
          "data": {
            "image/png": "[encoded data removed]",
            "text/plain": [
              "<Figure size 432x288 with 1 Axes>"
            ]
          },
          "metadata": {
            "needs_background": "light"
          }
        }
      ]
    },
    {
      "cell_type": "code",
      "metadata": {
        "id": "NhQ2e4qQUdN5",
        "colab": {
          "base_uri": "https://localhost:8080/"
        },
        "outputId": "f8a27dc3-d012-4923-da33-935bc84977a9"
      },
      "source": [
        "f.get_best()"
      ],
      "execution_count": 64,
      "outputs": [
        {
          "output_type": "execute_result",
          "data": {
            "text/plain": [
              "{'halfgennorm': {'beta': 0.23705938770286283,\n",
              "  'loc': -3.3808173636486213e-25,\n",
              "  'scale': 0.0003448707613344957}}"
            ]
          },
          "metadata": {},
          "execution_count": 64
        }
      ]
    },
    {
      "cell_type": "markdown",
      "metadata": {
        "id": "QgzCKBExKhnG"
      },
      "source": [
        "Получаем такое распределение с параметрами `beta`, `loc`, `scale`."
      ]
    },
    {
      "cell_type": "markdown",
      "metadata": {
        "id": "5U2RbbRxzSvS"
      },
      "source": [
        "# **Задание 2**\n",
        "\n",
        "Определить, можно сравнить две представленные выборки t критерием Стьюдента? \n",
        "\n",
        "Если нельзя сравнивать t-критерием, то что будем использовать и почему?\n",
        "\n",
        "Ответ аргументировать и описать \n",
        "\n",
        "[Ссылка на данные](https://drive.google.com/file/d/1blvC6TEBWghhVMexjOdoGEjzhZZh3wSy/view?usp=sharing)\n",
        "\n",
        "Описание данных: \n",
        "\n",
        "* variant -- вариация в А/Б тесте (либо группа А -- например, сайт без изменений. Либо группа Б -- сайт с изменениями)\n",
        "* metrics -- значение определенной метрики в сервисе для пользователя (например, количество кликов). \n",
        "\n",
        "*Вместе с ответом на задание приложить код*"
      ]
    },
    {
      "cell_type": "markdown",
      "metadata": {
        "id": "MRAaumXRz4Gs"
      },
      "source": [
        "### Условия проведения t-test\n",
        "\n",
        "Пусть необходимо проверить гипотезу о равенстве средних значений в двух независимых выборках. Для этой цели подходит критерий Стьюдента. Но применение критерия Стьюдента обосновано, только если данные подчиняются нормальному распределению. Поэтому перед применением критерия необходимо проверить гипотезу о нормальности исходных данных. Или проверка остатков линейной регрессии на нормальность — позволяет проверить, соответствует ли применяемая модель регрессии исходным данным.\n",
        "\n",
        "Для применения t-критерия Стьюдента данные должны удовлетворять следующим условиям:\n",
        "\n",
        "* Гомогенность дисперсий - дисперсии внутри наших групп должны быть приблизительно одинаковыми\n",
        "* Нормальность распределения (особенно важно для выборок с количеством наблюдений меньше 30)\n",
        "связные выборки:\n",
        "* Нормальность распределения (особенно важно для выборок с количеством наблюдений меньше 30)"
      ]
    },
    {
      "cell_type": "markdown",
      "metadata": {
        "id": "dlpa_FCdTyVK"
      },
      "source": [
        "#### Проверка на нормальность\n",
        "1. [Тест Лиллифорса на нормальность или экспоненциальное распределение.](https://www.statsmodels.org/v0.10.2/generated/statsmodels.stats.diagnostic.lilliefors.html#statsmodels.stats.diagnostic.lilliefors)\n",
        "\n",
        "Критерий Лиллифорса (Lilliefors) является вариантом известного классического критерия Колмогорова-Смирнова, специально модифицированного для проверки нормальности. Эта модификация существенна. Для проверки гипотезы нормальности нельзя использовать классический непараметрический критерий Колмогорова-Смирнова\n",
        "\n",
        "$H_0$: данные были получены из нормального / экспоненциального распределения\n",
        "\n",
        "$H_A$: данные не были получены из нормального / экспоненциального распределения\n",
        "\n",
        "* Если значение pvalue ниже некоторого порогового значения, например 0,05, то мы можем отвергнуть нулевую гипотезу о том, что выборка исходит из нормального распределения\n",
        "\n",
        "\n",
        "2. Тест Шапиро-Уилка\n",
        "\n",
        "Тест Шапиро-Уилка проверяет нулевую гипотезу о том, что данные были получены из нормального распределения.\n",
        "\n",
        "$H_0$: данные были получены из нормального распределения\n",
        "\n",
        "$H_A$: данные не были взяты из нормального распределения\n",
        "\n",
        "if p_value > 0.05:\n",
        "* мы не можем отвергнуть нулевую гипотезу о том, что выборка исходит из нормального распределения\n",
        "\n",
        "еще:\n",
        "* мы можем отвергнуть нулевую гипотезу о том, что выборка исходит из нормального распределения\n",
        "\n",
        "3. Тест Андерсона-Дарлинга для данных, поступающих из конкретного распределения.\n",
        "\n",
        "Тест Андерсон-Дарлинга проверяет нулевую гипотезу о том, что выборка берется из популяции, которая следует определенному распределению. Для критерия Андерсона-Дарлинга критические значения зависят от того, с каким распределением проводится проверка. Эта функция работает для нормального, экспоненциального, логистического, или Гумбеля (экстремальный тип значения I) распределения.\n",
        "\n",
        "$H_0$: данные были получены из нормального распределения\n",
        "\n",
        "$H_A$: данные не были взяты из нормального распределения\n"
      ]
    },
    {
      "cell_type": "code",
      "metadata": {
        "id": "eE6MZbzbzuaw"
      },
      "source": [
        "from statsmodels.stats.diagnostic import lilliefors\n",
        "from scipy.stats import shapiro\n",
        "from scipy.stats import anderson"
      ],
      "execution_count": 62,
      "outputs": []
    },
    {
      "cell_type": "code",
      "metadata": {
        "id": "G1zfPp05194X",
        "colab": {
          "base_uri": "https://localhost:8080/",
          "height": 419
        },
        "outputId": "ab305c0e-d114-47cf-8332-f6052d618bed"
      },
      "source": [
        "df = pd.read_csv(\"https://drive.google.com/u/0/uc?id=1blvC6TEBWghhVMexjOdoGEjzhZZh3wSy&export=download\", delimiter=\";\", index_col=0)\n",
        "df"
      ],
      "execution_count": 68,
      "outputs": [
        {
          "output_type": "execute_result",
          "data": {
            "text/html": [
              "<div>\n",
              "<style scoped>\n",
              "    .dataframe tbody tr th:only-of-type {\n",
              "        vertical-align: middle;\n",
              "    }\n",
              "\n",
              "    .dataframe tbody tr th {\n",
              "        vertical-align: top;\n",
              "    }\n",
              "\n",
              "    .dataframe thead th {\n",
              "        text-align: right;\n",
              "    }\n",
              "</style>\n",
              "<table border=\"1\" class=\"dataframe\">\n",
              "  <thead>\n",
              "    <tr style=\"text-align: right;\">\n",
              "      <th></th>\n",
              "      <th>variant</th>\n",
              "      <th>metrics</th>\n",
              "    </tr>\n",
              "  </thead>\n",
              "  <tbody>\n",
              "    <tr>\n",
              "      <th>1</th>\n",
              "      <td>A</td>\n",
              "      <td>1</td>\n",
              "    </tr>\n",
              "    <tr>\n",
              "      <th>2</th>\n",
              "      <td>B</td>\n",
              "      <td>1</td>\n",
              "    </tr>\n",
              "    <tr>\n",
              "      <th>3</th>\n",
              "      <td>A</td>\n",
              "      <td>4</td>\n",
              "    </tr>\n",
              "    <tr>\n",
              "      <th>4</th>\n",
              "      <td>B</td>\n",
              "      <td>37</td>\n",
              "    </tr>\n",
              "    <tr>\n",
              "      <th>5</th>\n",
              "      <td>B</td>\n",
              "      <td>4</td>\n",
              "    </tr>\n",
              "    <tr>\n",
              "      <th>...</th>\n",
              "      <td>...</td>\n",
              "      <td>...</td>\n",
              "    </tr>\n",
              "    <tr>\n",
              "      <th>184200</th>\n",
              "      <td>A</td>\n",
              "      <td>12</td>\n",
              "    </tr>\n",
              "    <tr>\n",
              "      <th>184201</th>\n",
              "      <td>A</td>\n",
              "      <td>8</td>\n",
              "    </tr>\n",
              "    <tr>\n",
              "      <th>184202</th>\n",
              "      <td>B</td>\n",
              "      <td>11</td>\n",
              "    </tr>\n",
              "    <tr>\n",
              "      <th>184203</th>\n",
              "      <td>B</td>\n",
              "      <td>81</td>\n",
              "    </tr>\n",
              "    <tr>\n",
              "      <th>184204</th>\n",
              "      <td>A</td>\n",
              "      <td>1</td>\n",
              "    </tr>\n",
              "  </tbody>\n",
              "</table>\n",
              "<p>184204 rows × 2 columns</p>\n",
              "</div>"
            ],
            "text/plain": [
              "       variant  metrics\n",
              "1            A        1\n",
              "2            B        1\n",
              "3            A        4\n",
              "4            B       37\n",
              "5            B        4\n",
              "...        ...      ...\n",
              "184200       A       12\n",
              "184201       A        8\n",
              "184202       B       11\n",
              "184203       B       81\n",
              "184204       A        1\n",
              "\n",
              "[184204 rows x 2 columns]"
            ]
          },
          "metadata": {},
          "execution_count": 68
        }
      ]
    },
    {
      "cell_type": "code",
      "metadata": {
        "id": "uKPDWYuB2Crn",
        "colab": {
          "base_uri": "https://localhost:8080/",
          "height": 265
        },
        "outputId": "fc209bd3-30b7-4fd9-b104-3783ee4bf74c"
      },
      "source": [
        "df[\"metrics\"].plot(kind=\"hist\", bins=20);"
      ],
      "execution_count": 76,
      "outputs": [
        {
          "output_type": "display_data",
          "data": {
            "image/png": "[encoded data removed]",
            "text/plain": [
              "<Figure size 432x288 with 1 Axes>"
            ]
          },
          "metadata": {
            "needs_background": "light"
          }
        }
      ]
    },
    {
      "cell_type": "code",
      "metadata": {
        "id": "m22xFfryz2SY"
      },
      "source": [
        "ksstat_lil, p_value_lil = lilliefors(df[\"metrics\"])\n",
        "statistic, crit_values, significance_level = anderson(df[\"metrics\"], dist='norm')\n",
        "_, p_value_shapiro = shapiro(df[\"metrics\"])"
      ],
      "execution_count": 77,
      "outputs": []
    },
    {
      "cell_type": "code",
      "metadata": {
        "id": "brsIWVrGBs_e",
        "colab": {
          "base_uri": "https://localhost:8080/"
        },
        "outputId": "f3529d34-7cc0-42af-faf4-88d87e97400f"
      },
      "source": [
        "for i in range(len(crit_values)):\n",
        "\tsl, cv = significance_level[i], crit_values[i]\n",
        "\tif statistic < crit_values[i]:\n",
        "\t\tprint('%.3f: %.3f, data looks normal (fail to reject H0)' % (sl, cv))\n",
        "\telse:\n",
        "\t\tprint('%.3f: %.3f, data does not look normal (reject H0)' % (sl, cv))"
      ],
      "execution_count": 78,
      "outputs": [
        {
          "output_type": "stream",
          "name": "stdout",
          "text": [
            "15.000: 0.576, data does not look normal (reject H0)\n",
            "10.000: 0.656, data does not look normal (reject H0)\n",
            "5.000: 0.787, data does not look normal (reject H0)\n",
            "2.500: 0.918, data does not look normal (reject H0)\n",
            "1.000: 1.092, data does not look normal (reject H0)\n"
          ]
        }
      ]
    },
    {
      "cell_type": "code",
      "metadata": {
        "id": "ZVmDh5ZzYAIZ",
        "colab": {
          "base_uri": "https://localhost:8080/"
        },
        "outputId": "5e2fb8d9-80de-43a8-d150-0d9d5adbf37c"
      },
      "source": [
        "alpha = 0.05\n",
        "if p_value_lil > alpha:\n",
        "\tprint('Sample looks Gaussian (fail to reject H0) Lilliefors-test')\n",
        "else:\n",
        "\tprint('Sample does not look Gaussian (reject H0) Lilliefors-test')"
      ],
      "execution_count": 80,
      "outputs": [
        {
          "output_type": "stream",
          "name": "stdout",
          "text": [
            "Sample does not look Gaussian (reject H0) Lilliefors-test\n"
          ]
        }
      ]
    },
    {
      "cell_type": "code",
      "metadata": {
        "id": "0zFj443aYaHL",
        "colab": {
          "base_uri": "https://localhost:8080/"
        },
        "outputId": "47b959c4-ac57-4839-9a0c-54f780467aad"
      },
      "source": [
        "alpha = 0.05\n",
        "if p_value_shapiro > alpha:\n",
        "\tprint('Sample looks Gaussian (fail to reject H0) Shapiro-Wilk-test')\n",
        "else:\n",
        "\tprint('Sample does not look Gaussian (reject H0) Shapiro-Wilk-test')"
      ],
      "execution_count": 81,
      "outputs": [
        {
          "output_type": "stream",
          "name": "stdout",
          "text": [
            "Sample does not look Gaussian (reject H0) Shapiro-Wilk-test\n"
          ]
        }
      ]
    },
    {
      "cell_type": "markdown",
      "metadata": {
        "id": "pTl4Kqr82ebD"
      },
      "source": [
        "QQ-plot"
      ]
    },
    {
      "cell_type": "code",
      "metadata": {
        "colab": {
          "base_uri": "https://localhost:8080/",
          "height": 299
        },
        "id": "t2gytmaw2N9D",
        "outputId": "dc80d8b4-fc05-4c82-8760-46c54777e4f4"
      },
      "source": [
        "stats.probplot(df[\"metrics\"], dist=\"norm\", plot=plt);"
      ],
      "execution_count": 95,
      "outputs": [
        {
          "output_type": "display_data",
          "data": {
            "image/png": "[encoded data removed]",
            "text/plain": [
              "<Figure size 432x288 with 1 Axes>"
            ]
          },
          "metadata": {
            "needs_background": "light"
          }
        }
      ]
    },
    {
      "cell_type": "markdown",
      "metadata": {
        "id": "EOwvSrxfYgg6"
      },
      "source": [
        "Получили, что мы отвергаем гипотезу о нормальности в трех тестах, поэтому применять t-test невозможно. Но если данные проходили по тестам, то нужно было бы проверить на гомогенность дисперсий с помощью критерия Левена (для двух выборок) или с помощью Барлетта."
      ]
    },
    {
      "cell_type": "markdown",
      "metadata": {
        "id": "eHDzBPioZ9tt"
      },
      "source": [
        "Тогда используем критерий Манна-Уитни-Вилкоксона - статистический критерий, используемый для оценки различий между двумя независимыми выборками по уровню какого-либо признака, измеренного количественно. Позволяет выявлять различия в значении параметра между малыми выборками.\n",
        "\n",
        "$H_0$: равенсто медиан распределений ранговых значений\n",
        "\n",
        "$H_A$: неравенсто медиан распределений ранговых значений"
      ]
    },
    {
      "cell_type": "code",
      "metadata": {
        "id": "WxzR9Ptk9VtD"
      },
      "source": [
        "from scipy.stats import mannwhitneyu"
      ],
      "execution_count": 82,
      "outputs": []
    },
    {
      "cell_type": "code",
      "metadata": {
        "id": "8sbEle7vB53e"
      },
      "source": [
        "group_A = df[df[\"variant\"] == \"A\"][\"metrics\"]\n",
        "group_B = df[df[\"variant\"] == \"B\"][\"metrics\"]"
      ],
      "execution_count": 83,
      "outputs": []
    },
    {
      "cell_type": "code",
      "metadata": {
        "id": "uuVjVpzBB3H_"
      },
      "source": [
        "_, pvalue = mannwhitneyu(group_A, group_B)"
      ],
      "execution_count": 84,
      "outputs": []
    },
    {
      "cell_type": "code",
      "metadata": {
        "id": "lvZIQ0UCsB_0",
        "colab": {
          "base_uri": "https://localhost:8080/"
        },
        "outputId": "ac0de42b-549e-4502-e6af-9483b0ca16f9"
      },
      "source": [
        "alpha = 0.05\n",
        "if pvalue > alpha:\n",
        "\tprint('Same distribution (fail to reject H0)')\n",
        "else:\n",
        "\tprint('Different distribution (reject H0)')"
      ],
      "execution_count": 85,
      "outputs": [
        {
          "output_type": "stream",
          "name": "stdout",
          "text": [
            "Different distribution (reject H0)\n"
          ]
        }
      ]
    },
    {
      "cell_type": "markdown",
      "metadata": {
        "id": "kaRhviKmGHfI"
      },
      "source": [
        "Нулевая гипотеза отвергается на выбранном уровне значимости, и различия между выборками признаются статистически значимыми."
      ]
    },
    {
      "cell_type": "markdown",
      "metadata": {
        "id": "h9F0dy3FzSvX"
      },
      "source": [
        "# **Задание 3**\n",
        "\n",
        "Дано две выборки по А/Б тесту.\n",
        "\n",
        "Две выборки несбалансированные - кол-во пользователей в каждой группе разные.\n",
        "\n",
        "Метрика, которую меряем в эксперименте (и которую используем для определения группы, которая лучше себя показала) - кол-во просмотренных страниц на пользователя \n",
        "\n",
        "Как вы будете принимать решение, какая группа лучше А или Б, и какие статистические методы (критерии) вы будете использовать, какие преобразования к данным применять? P.S. Вам может помочь лекция Виталия Черемисинова, где он рассказывал про А/Б тесты\n",
        "\n",
        "[Ссылка на данные](https://drive.google.com/file/d/1_g7Dw7-8QzTS47D6GNKMb0FzqMAWBDba/view?usp=sharing)\n",
        "\n",
        "Описание данных: \n",
        "\n",
        "* variant -- вариация в А/Б тесте (либо группа А -- например, сайт без изменений. Либо группа Б -- сайт с изменениями)\n",
        "* metrics -- значение определенной метрики в сервисе для пользователя (например, количество кликов). \n",
        "\n",
        "\n",
        "*Вместе с ответом на задание приложить код*"
      ]
    },
    {
      "cell_type": "code",
      "metadata": {
        "id": "NyQKTKtShpKy",
        "colab": {
          "base_uri": "https://localhost:8080/",
          "height": 419
        },
        "outputId": "73429265-2da8-4e41-ea44-5c665fcdf787"
      },
      "source": [
        "df = pd.read_csv(\"https://drive.google.com/u/0/uc?id=1_g7Dw7-8QzTS47D6GNKMb0FzqMAWBDba&export=download\", delimiter=\";\", index_col=0)\n",
        "df"
      ],
      "execution_count": 86,
      "outputs": [
        {
          "output_type": "execute_result",
          "data": {
            "text/html": [
              "<div>\n",
              "<style scoped>\n",
              "    .dataframe tbody tr th:only-of-type {\n",
              "        vertical-align: middle;\n",
              "    }\n",
              "\n",
              "    .dataframe tbody tr th {\n",
              "        vertical-align: top;\n",
              "    }\n",
              "\n",
              "    .dataframe thead th {\n",
              "        text-align: right;\n",
              "    }\n",
              "</style>\n",
              "<table border=\"1\" class=\"dataframe\">\n",
              "  <thead>\n",
              "    <tr style=\"text-align: right;\">\n",
              "      <th></th>\n",
              "      <th>variant</th>\n",
              "      <th>metrics</th>\n",
              "    </tr>\n",
              "  </thead>\n",
              "  <tbody>\n",
              "    <tr>\n",
              "      <th>1</th>\n",
              "      <td>A</td>\n",
              "      <td>1</td>\n",
              "    </tr>\n",
              "    <tr>\n",
              "      <th>2</th>\n",
              "      <td>A</td>\n",
              "      <td>4</td>\n",
              "    </tr>\n",
              "    <tr>\n",
              "      <th>3</th>\n",
              "      <td>A</td>\n",
              "      <td>15</td>\n",
              "    </tr>\n",
              "    <tr>\n",
              "      <th>4</th>\n",
              "      <td>A</td>\n",
              "      <td>1</td>\n",
              "    </tr>\n",
              "    <tr>\n",
              "      <th>5</th>\n",
              "      <td>A</td>\n",
              "      <td>10</td>\n",
              "    </tr>\n",
              "    <tr>\n",
              "      <th>...</th>\n",
              "      <td>...</td>\n",
              "      <td>...</td>\n",
              "    </tr>\n",
              "    <tr>\n",
              "      <th>108095</th>\n",
              "      <td>D</td>\n",
              "      <td>1</td>\n",
              "    </tr>\n",
              "    <tr>\n",
              "      <th>108096</th>\n",
              "      <td>A</td>\n",
              "      <td>1</td>\n",
              "    </tr>\n",
              "    <tr>\n",
              "      <th>108097</th>\n",
              "      <td>A</td>\n",
              "      <td>12</td>\n",
              "    </tr>\n",
              "    <tr>\n",
              "      <th>108098</th>\n",
              "      <td>A</td>\n",
              "      <td>8</td>\n",
              "    </tr>\n",
              "    <tr>\n",
              "      <th>108099</th>\n",
              "      <td>A</td>\n",
              "      <td>1</td>\n",
              "    </tr>\n",
              "  </tbody>\n",
              "</table>\n",
              "<p>108099 rows × 2 columns</p>\n",
              "</div>"
            ],
            "text/plain": [
              "       variant  metrics\n",
              "1            A        1\n",
              "2            A        4\n",
              "3            A       15\n",
              "4            A        1\n",
              "5            A       10\n",
              "...        ...      ...\n",
              "108095       D        1\n",
              "108096       A        1\n",
              "108097       A       12\n",
              "108098       A        8\n",
              "108099       A        1\n",
              "\n",
              "[108099 rows x 2 columns]"
            ]
          },
          "metadata": {},
          "execution_count": 86
        }
      ]
    },
    {
      "cell_type": "code",
      "metadata": {
        "id": "55DnN-1djgb2",
        "colab": {
          "base_uri": "https://localhost:8080/",
          "height": 142
        },
        "outputId": "cf40cf89-924d-4d78-cad3-4e16e0b98dfe"
      },
      "source": [
        "df.groupby([\"variant\"]).count()"
      ],
      "execution_count": 87,
      "outputs": [
        {
          "output_type": "execute_result",
          "data": {
            "text/html": [
              "<div>\n",
              "<style scoped>\n",
              "    .dataframe tbody tr th:only-of-type {\n",
              "        vertical-align: middle;\n",
              "    }\n",
              "\n",
              "    .dataframe tbody tr th {\n",
              "        vertical-align: top;\n",
              "    }\n",
              "\n",
              "    .dataframe thead th {\n",
              "        text-align: right;\n",
              "    }\n",
              "</style>\n",
              "<table border=\"1\" class=\"dataframe\">\n",
              "  <thead>\n",
              "    <tr style=\"text-align: right;\">\n",
              "      <th></th>\n",
              "      <th>metrics</th>\n",
              "    </tr>\n",
              "    <tr>\n",
              "      <th>variant</th>\n",
              "      <th></th>\n",
              "    </tr>\n",
              "  </thead>\n",
              "  <tbody>\n",
              "    <tr>\n",
              "      <th>A</th>\n",
              "      <td>92686</td>\n",
              "    </tr>\n",
              "    <tr>\n",
              "      <th>D</th>\n",
              "      <td>15413</td>\n",
              "    </tr>\n",
              "  </tbody>\n",
              "</table>\n",
              "</div>"
            ],
            "text/plain": [
              "         metrics\n",
              "variant         \n",
              "A          92686\n",
              "D          15413"
            ]
          },
          "metadata": {},
          "execution_count": 87
        }
      ]
    },
    {
      "cell_type": "code",
      "metadata": {
        "id": "HixSVtXSjfBG"
      },
      "source": [
        "group_A = df[df.variant == \"A\"]\n",
        "group_B = df[df.variant == \"D\"]"
      ],
      "execution_count": 88,
      "outputs": []
    },
    {
      "cell_type": "code",
      "metadata": {
        "id": "jkFHxsFth_CX",
        "colab": {
          "base_uri": "https://localhost:8080/",
          "height": 282
        },
        "outputId": "c5e55eba-1d1f-47bd-ff59-6eb4c707ee8a"
      },
      "source": [
        "sns.distplot(group_A[\"metrics\"].values, label='A', bins=10)\n",
        "sns.distplot(group_B[\"metrics\"].values, label='D', bins=10)\n",
        "\n",
        "plt.xlabel('value')\n",
        "plt.ylabel('density')\n",
        "plt.show()"
      ],
      "execution_count": 92,
      "outputs": [
        {
          "output_type": "display_data",
          "data": {
            "image/png": "[encoded data removed]",
            "text/plain": [
              "<Figure size 432x288 with 1 Axes>"
            ]
          },
          "metadata": {
            "needs_background": "light"
          }
        }
      ]
    },
    {
      "cell_type": "code",
      "metadata": {
        "id": "dOEa0Nb-it5F"
      },
      "source": [
        "from sklearn.utils import resample\n",
        "\n",
        "def bootstrap(sample, size=5000, boot=100000):\n",
        "    boot_means = np.zeros(boot)\n",
        "    for i in range(boot):\n",
        "        bootsample = resample(sample, n_samples=size, replace=True)\n",
        "        boot_means[i] = bootsample.mean()\n",
        "    return boot_means"
      ],
      "execution_count": 98,
      "outputs": []
    },
    {
      "cell_type": "code",
      "metadata": {
        "id": "w6SnQ163kfik"
      },
      "source": [
        "# бутстрепинг — операция, занимающая значительное время\n",
        "boot = 100000\n",
        "bootmean_A = bootstrap(group_A.metrics.to_numpy(), boot=boot)\n",
        "bootmean_B = bootstrap(group_B.metrics.to_numpy(), boot=boot)"
      ],
      "execution_count": 99,
      "outputs": []
    },
    {
      "cell_type": "code",
      "metadata": {
        "id": "F_sPCOadC426"
      },
      "source": [
        "a_q5, a_q95 = np.quantile(bootmean_A, [0.05, 0.95])\n",
        "b_q5, b_q95 = np.quantile(bootmean_B, [0.05, 0.95])"
      ],
      "execution_count": 100,
      "outputs": []
    },
    {
      "cell_type": "code",
      "metadata": {
        "id": "Fc2DBt7-wsIv",
        "colab": {
          "base_uri": "https://localhost:8080/",
          "height": 265
        },
        "outputId": "cf4a5058-df10-4c6d-e8bd-605103fe389c"
      },
      "source": [
        "sns.distplot(bootmean_A, label='A')\n",
        "sns.distplot(bootmean_B, label='B')\n",
        "plt.axvline(x=a_q5, linewidth=1.5, color='r', linestyle='--')\n",
        "plt.axvline(x=a_q95, linewidth=1.5, color='r', linestyle='--')\n",
        "plt.axvline(x=b_q5, linewidth=1.5, color='b', linestyle='--')\n",
        "plt.axvline(x=b_q95, linewidth=1.5, color='b', linestyle='--');"
      ],
      "execution_count": 101,
      "outputs": [
        {
          "output_type": "display_data",
          "data": {
            "image/png": "[encoded data removed]",
            "text/plain": [
              "<Figure size 432x288 with 1 Axes>"
            ]
          },
          "metadata": {
            "needs_background": "light"
          }
        }
      ]
    },
    {
      "cell_type": "markdown",
      "metadata": {
        "id": "rk3B2S5bZ7mZ"
      },
      "source": [
        "Вывод сделать просто — мы получим две плотности вероятности для каждой ветки эксперимента и сможем сравнивать, как пересекаются эти плотности. Если у нас перекрываются 0.5 и 0.95 квантили, значит нет статистически значимой разницы. Но не будем мелочиться и посчитаем p-value."
      ]
    },
    {
      "cell_type": "code",
      "metadata": {
        "id": "2ka57pbEpCS-"
      },
      "source": [
        "p_value = np.sum((group_A.metrics.mean() - group_B.metrics.mean()) <= np.abs(bootmean_A - bootmean_B)) / boot"
      ],
      "execution_count": 116,
      "outputs": []
    },
    {
      "cell_type": "code",
      "metadata": {
        "colab": {
          "base_uri": "https://localhost:8080/"
        },
        "id": "HxRF2_1p_QYw",
        "outputId": "ec0a0c1e-d1bc-4fdf-8644-eaf6111690df"
      },
      "source": [
        "p_value"
      ],
      "execution_count": 117,
      "outputs": [
        {
          "output_type": "execute_result",
          "data": {
            "text/plain": [
              "0.74125"
            ]
          },
          "metadata": {},
          "execution_count": 117
        }
      ]
    },
    {
      "cell_type": "markdown",
      "metadata": {
        "id": "SyuC9ghxLrsw"
      },
      "source": [
        "Получили значение больше, чем 0.05, что означает, что нет  статистически значимой разницы"
      ]
    },
    {
      "cell_type": "markdown",
      "metadata": {
        "id": "Wz7MheSe9dpc"
      },
      "source": [
        "Кстати, можно было еще применить данную библиотеку для бутстрапа:  https://github.com/facebookincubator/bootstrapped"
      ]
    },
    {
      "cell_type": "markdown",
      "metadata": {
        "id": "aNKnEixmzSvb"
      },
      "source": [
        "# **Задание 4**\n",
        "\n",
        "Есть данные с большой дисперсии у метрики (диспресию метрики можно посчитать для каждой группы). Для их дальнейшего анализа дисперсию необходимо сократить. Как определить, что дисперсия действительно большая? Если она большая, как вы будете ее чистить? Ответ аргументировать и описать.  P.S. Вам может помочь лекция Виталия Черемисинова, где он рассказывал про А/Б тесты\n",
        "\n",
        "Описание данных: \n",
        "\n",
        "* metrics -- значение определенной метрики в сервисе для пользователя (например, количество кликов). \n",
        "\n",
        "[Ссылка на данные](https://drive.google.com/file/d/1fc8BGSjDiwbZW6rcr3mMSwAjU2T_BpGW/view?usp=sharing)\n",
        "\n",
        "*Вместе с ответом на задание приложить код*"
      ]
    },
    {
      "cell_type": "code",
      "metadata": {
        "id": "B0PeCHR_GPRo",
        "colab": {
          "base_uri": "https://localhost:8080/",
          "height": 419
        },
        "outputId": "2d52667d-0135-4a18-a1b3-06c9c7c7635a"
      },
      "source": [
        "df = pd.read_csv(\"https://drive.google.com/u/0/uc?id=1fc8BGSjDiwbZW6rcr3mMSwAjU2T_BpGW&export=download\", delimiter=\";\", index_col=0)\n",
        "df"
      ],
      "execution_count": 118,
      "outputs": [
        {
          "output_type": "execute_result",
          "data": {
            "text/html": [
              "<div>\n",
              "<style scoped>\n",
              "    .dataframe tbody tr th:only-of-type {\n",
              "        vertical-align: middle;\n",
              "    }\n",
              "\n",
              "    .dataframe tbody tr th {\n",
              "        vertical-align: top;\n",
              "    }\n",
              "\n",
              "    .dataframe thead th {\n",
              "        text-align: right;\n",
              "    }\n",
              "</style>\n",
              "<table border=\"1\" class=\"dataframe\">\n",
              "  <thead>\n",
              "    <tr style=\"text-align: right;\">\n",
              "      <th></th>\n",
              "      <th>metrics</th>\n",
              "    </tr>\n",
              "  </thead>\n",
              "  <tbody>\n",
              "    <tr>\n",
              "      <th>1</th>\n",
              "      <td>1</td>\n",
              "    </tr>\n",
              "    <tr>\n",
              "      <th>2</th>\n",
              "      <td>1</td>\n",
              "    </tr>\n",
              "    <tr>\n",
              "      <th>3</th>\n",
              "      <td>4</td>\n",
              "    </tr>\n",
              "    <tr>\n",
              "      <th>4</th>\n",
              "      <td>1</td>\n",
              "    </tr>\n",
              "    <tr>\n",
              "      <th>5</th>\n",
              "      <td>1</td>\n",
              "    </tr>\n",
              "    <tr>\n",
              "      <th>...</th>\n",
              "      <td>...</td>\n",
              "    </tr>\n",
              "    <tr>\n",
              "      <th>306835</th>\n",
              "      <td>8</td>\n",
              "    </tr>\n",
              "    <tr>\n",
              "      <th>306836</th>\n",
              "      <td>11</td>\n",
              "    </tr>\n",
              "    <tr>\n",
              "      <th>306837</th>\n",
              "      <td>1</td>\n",
              "    </tr>\n",
              "    <tr>\n",
              "      <th>306838</th>\n",
              "      <td>81</td>\n",
              "    </tr>\n",
              "    <tr>\n",
              "      <th>306839</th>\n",
              "      <td>1</td>\n",
              "    </tr>\n",
              "  </tbody>\n",
              "</table>\n",
              "<p>306839 rows × 1 columns</p>\n",
              "</div>"
            ],
            "text/plain": [
              "        metrics\n",
              "1             1\n",
              "2             1\n",
              "3             4\n",
              "4             1\n",
              "5             1\n",
              "...         ...\n",
              "306835        8\n",
              "306836       11\n",
              "306837        1\n",
              "306838       81\n",
              "306839        1\n",
              "\n",
              "[306839 rows x 1 columns]"
            ]
          },
          "metadata": {},
          "execution_count": 118
        }
      ]
    },
    {
      "cell_type": "markdown",
      "metadata": {
        "id": "snmDGoQjbkU0"
      },
      "source": [
        "[Статья](https://www.thinkwithgoogle.com/intl/ru-ru/products-tools/analytical-tools/money-and-ab-tests/)\n",
        "\n",
        "Как стабилизировать данные, чтобы было проще сравнить средние при помощи критерия? Почистить данные.\n",
        "\n",
        "Можем убрать все значения, которые выходят за N стандартных отклонений от среднего и воспринимать их как выбросы. Отрезав эти выбросы, мы стабилизируем выборку, что позволит проще посчитать метрики."
      ]
    },
    {
      "cell_type": "code",
      "metadata": {
        "id": "CXOH9mYdLPwn",
        "colab": {
          "base_uri": "https://localhost:8080/"
        },
        "outputId": "075ecd5f-af42-46fc-976c-133149f3361a"
      },
      "source": [
        "df.metrics.var()"
      ],
      "execution_count": 119,
      "outputs": [
        {
          "output_type": "execute_result",
          "data": {
            "text/plain": [
              "511.99823268544515"
            ]
          },
          "metadata": {},
          "execution_count": 119
        }
      ]
    },
    {
      "cell_type": "markdown",
      "metadata": {
        "id": "3lPDsAHubn-X"
      },
      "source": [
        "Первая мысль: уберем возможные \"выбросы\". Для этого найдем 99-квантиль и оставим все значения, которые меньше этого значения"
      ]
    },
    {
      "cell_type": "code",
      "metadata": {
        "id": "0Ah4kbHua1p7"
      },
      "source": [
        "q_99 = df[\"metrics\"].quantile(0.99)\n",
        "df_clear = df[df[\"metrics\"] <= q_99]"
      ],
      "execution_count": 122,
      "outputs": []
    },
    {
      "cell_type": "markdown",
      "metadata": {
        "id": "wyE3Zf-hcG__"
      },
      "source": [
        "Найдем дисперсию"
      ]
    },
    {
      "cell_type": "code",
      "metadata": {
        "id": "GdPVS_FLbMxt",
        "colab": {
          "base_uri": "https://localhost:8080/"
        },
        "outputId": "7a8b6a9e-103d-4d5c-8bf3-363a0cad9c7c"
      },
      "source": [
        "df_clear.metrics.var()"
      ],
      "execution_count": 123,
      "outputs": [
        {
          "output_type": "execute_result",
          "data": {
            "text/plain": [
              "279.8730552637073"
            ]
          },
          "metadata": {},
          "execution_count": 123
        }
      ]
    },
    {
      "cell_type": "markdown",
      "metadata": {
        "id": "9KNkt0ufcO42"
      },
      "source": [
        "Уменьшили почти в два раза, но может произойти такое, что мы убрали важных для нас покупателей, что нивелирует пользу от уменьшения дисперсии таким способом"
      ]
    },
    {
      "cell_type": "markdown",
      "metadata": {
        "id": "tZk_nU7D-VoY"
      },
      "source": [
        "Тогда используем трансформацию Бокса-Кокса."
      ]
    },
    {
      "cell_type": "code",
      "metadata": {
        "id": "lnm2je0p-s-8"
      },
      "source": [
        "box_cox_metrics, _= stats.boxcox(df.metrics)"
      ],
      "execution_count": 124,
      "outputs": []
    },
    {
      "cell_type": "code",
      "metadata": {
        "id": "wFwtC44k_LTL",
        "colab": {
          "base_uri": "https://localhost:8080/"
        },
        "outputId": "10253d32-4b33-4ca4-dc6f-fa0f18f0352f"
      },
      "source": [
        "box_cox_metrics.var()"
      ],
      "execution_count": 125,
      "outputs": [
        {
          "output_type": "execute_result",
          "data": {
            "text/plain": [
              "0.43416179602413135"
            ]
          },
          "metadata": {},
          "execution_count": 125
        }
      ]
    },
    {
      "cell_type": "code",
      "metadata": {
        "id": "fFnM4Om1-076",
        "colab": {
          "base_uri": "https://localhost:8080/",
          "height": 265
        },
        "outputId": "ad93a517-cdb4-44e4-d654-4fd920c48739"
      },
      "source": [
        "plt.hist(box_cox_metrics);"
      ],
      "execution_count": 126,
      "outputs": [
        {
          "output_type": "display_data",
          "data": {
            "image/png": "[encoded data removed]",
            "text/plain": [
              "<Figure size 432x288 with 1 Axes>"
            ]
          },
          "metadata": {
            "needs_background": "light"
          }
        }
      ]
    },
    {
      "cell_type": "markdown",
      "metadata": {
        "id": "ET3g7Ja7_Z4I"
      },
      "source": [
        "Дисперсия уменьшена! Но стоит помнить, что иметь дела мы теперь будем \n",
        "\n",
        "$$y = \\begin{cases} \n",
        "\\frac{(x^\\lambda - 1)}{\\lambda}, &  \\lambda > 0\\\\ \n",
        "log(x), & \\lambda = 0 \n",
        "\\end{cases}$$\n",
        "\n",
        "с такими данными, поэтому после эксперимента мы должны будем вернуть изначальную величину\n"
      ]
    },
    {
      "cell_type": "markdown",
      "metadata": {
        "id": "KO8Q3wqR_IwH"
      },
      "source": [
        "----\n",
        "Также мы можем воспользуемся децильным  [методом уменьшении дисперсии](https://medium.com/statistics-experiments/децильный-метод-или-сокращение-дисперсии-c06758059727). Каждому значению присвоем номер децили, которой оно соответствует."
      ]
    },
    {
      "cell_type": "code",
      "metadata": {
        "id": "BQWIJCnGQhyQ"
      },
      "source": [
        "df_clear = df_clear.assign(decile = pd.qcut(df_clear.metrics.rank(method='first'), 10).values.codes)"
      ],
      "execution_count": 134,
      "outputs": []
    },
    {
      "cell_type": "code",
      "metadata": {
        "id": "hpojb1Rzc8s4",
        "colab": {
          "base_uri": "https://localhost:8080/",
          "height": 390
        },
        "outputId": "c399433a-a245-4f4b-950e-f747cf1e6149"
      },
      "source": [
        "df_clear.groupby('decile').var()"
      ],
      "execution_count": 136,
      "outputs": [
        {
          "output_type": "execute_result",
          "data": {
            "text/html": [
              "<div>\n",
              "<style scoped>\n",
              "    .dataframe tbody tr th:only-of-type {\n",
              "        vertical-align: middle;\n",
              "    }\n",
              "\n",
              "    .dataframe tbody tr th {\n",
              "        vertical-align: top;\n",
              "    }\n",
              "\n",
              "    .dataframe thead th {\n",
              "        text-align: right;\n",
              "    }\n",
              "</style>\n",
              "<table border=\"1\" class=\"dataframe\">\n",
              "  <thead>\n",
              "    <tr style=\"text-align: right;\">\n",
              "      <th></th>\n",
              "      <th>metrics</th>\n",
              "    </tr>\n",
              "    <tr>\n",
              "      <th>decile</th>\n",
              "      <th></th>\n",
              "    </tr>\n",
              "  </thead>\n",
              "  <tbody>\n",
              "    <tr>\n",
              "      <th>0</th>\n",
              "      <td>0.000000</td>\n",
              "    </tr>\n",
              "    <tr>\n",
              "      <th>1</th>\n",
              "      <td>0.000000</td>\n",
              "    </tr>\n",
              "    <tr>\n",
              "      <th>2</th>\n",
              "      <td>0.000000</td>\n",
              "    </tr>\n",
              "    <tr>\n",
              "      <th>3</th>\n",
              "      <td>0.000000</td>\n",
              "    </tr>\n",
              "    <tr>\n",
              "      <th>4</th>\n",
              "      <td>0.226154</td>\n",
              "    </tr>\n",
              "    <tr>\n",
              "      <th>5</th>\n",
              "      <td>0.234355</td>\n",
              "    </tr>\n",
              "    <tr>\n",
              "      <th>6</th>\n",
              "      <td>0.481585</td>\n",
              "    </tr>\n",
              "    <tr>\n",
              "      <th>7</th>\n",
              "      <td>2.013268</td>\n",
              "    </tr>\n",
              "    <tr>\n",
              "      <th>8</th>\n",
              "      <td>21.466560</td>\n",
              "    </tr>\n",
              "    <tr>\n",
              "      <th>9</th>\n",
              "      <td>471.772300</td>\n",
              "    </tr>\n",
              "  </tbody>\n",
              "</table>\n",
              "</div>"
            ],
            "text/plain": [
              "           metrics\n",
              "decile            \n",
              "0         0.000000\n",
              "1         0.000000\n",
              "2         0.000000\n",
              "3         0.000000\n",
              "4         0.226154\n",
              "5         0.234355\n",
              "6         0.481585\n",
              "7         2.013268\n",
              "8        21.466560\n",
              "9       471.772300"
            ]
          },
          "metadata": {},
          "execution_count": 136
        }
      ]
    },
    {
      "cell_type": "markdown",
      "metadata": {
        "id": "zAF5CxiIZUQV"
      },
      "source": [
        "---\n",
        "Можно еще попробовать бакетирование, но не уверен, что работает правильно. Так что на этом задание всё. "
      ]
    },
    {
      "cell_type": "code",
      "metadata": {
        "id": "S8QIb_wtLXV8"
      },
      "source": [
        "number_of_bucket = 100"
      ],
      "execution_count": 137,
      "outputs": []
    },
    {
      "cell_type": "code",
      "metadata": {
        "id": "c_2DNGR2MQYl"
      },
      "source": [
        "df_clear['bucket'] = np.random.randint(0, number_of_bucket, size=len(df_clear))"
      ],
      "execution_count": 138,
      "outputs": []
    },
    {
      "cell_type": "code",
      "metadata": {
        "id": "PwmhwvpRMTUc",
        "colab": {
          "base_uri": "https://localhost:8080/",
          "height": 419
        },
        "outputId": "22dc5913-5037-45bd-a088-8cecf3f77ffe"
      },
      "source": [
        "df_clear"
      ],
      "execution_count": 139,
      "outputs": [
        {
          "output_type": "execute_result",
          "data": {
            "text/html": [
              "<div>\n",
              "<style scoped>\n",
              "    .dataframe tbody tr th:only-of-type {\n",
              "        vertical-align: middle;\n",
              "    }\n",
              "\n",
              "    .dataframe tbody tr th {\n",
              "        vertical-align: top;\n",
              "    }\n",
              "\n",
              "    .dataframe thead th {\n",
              "        text-align: right;\n",
              "    }\n",
              "</style>\n",
              "<table border=\"1\" class=\"dataframe\">\n",
              "  <thead>\n",
              "    <tr style=\"text-align: right;\">\n",
              "      <th></th>\n",
              "      <th>metrics</th>\n",
              "      <th>decile</th>\n",
              "      <th>bucket</th>\n",
              "    </tr>\n",
              "  </thead>\n",
              "  <tbody>\n",
              "    <tr>\n",
              "      <th>1</th>\n",
              "      <td>1</td>\n",
              "      <td>0</td>\n",
              "      <td>10</td>\n",
              "    </tr>\n",
              "    <tr>\n",
              "      <th>2</th>\n",
              "      <td>1</td>\n",
              "      <td>0</td>\n",
              "      <td>68</td>\n",
              "    </tr>\n",
              "    <tr>\n",
              "      <th>3</th>\n",
              "      <td>4</td>\n",
              "      <td>6</td>\n",
              "      <td>47</td>\n",
              "    </tr>\n",
              "    <tr>\n",
              "      <th>4</th>\n",
              "      <td>1</td>\n",
              "      <td>0</td>\n",
              "      <td>49</td>\n",
              "    </tr>\n",
              "    <tr>\n",
              "      <th>5</th>\n",
              "      <td>1</td>\n",
              "      <td>0</td>\n",
              "      <td>48</td>\n",
              "    </tr>\n",
              "    <tr>\n",
              "      <th>...</th>\n",
              "      <td>...</td>\n",
              "      <td>...</td>\n",
              "      <td>...</td>\n",
              "    </tr>\n",
              "    <tr>\n",
              "      <th>306835</th>\n",
              "      <td>8</td>\n",
              "      <td>7</td>\n",
              "      <td>72</td>\n",
              "    </tr>\n",
              "    <tr>\n",
              "      <th>306836</th>\n",
              "      <td>11</td>\n",
              "      <td>8</td>\n",
              "      <td>83</td>\n",
              "    </tr>\n",
              "    <tr>\n",
              "      <th>306837</th>\n",
              "      <td>1</td>\n",
              "      <td>4</td>\n",
              "      <td>36</td>\n",
              "    </tr>\n",
              "    <tr>\n",
              "      <th>306838</th>\n",
              "      <td>81</td>\n",
              "      <td>9</td>\n",
              "      <td>95</td>\n",
              "    </tr>\n",
              "    <tr>\n",
              "      <th>306839</th>\n",
              "      <td>1</td>\n",
              "      <td>4</td>\n",
              "      <td>95</td>\n",
              "    </tr>\n",
              "  </tbody>\n",
              "</table>\n",
              "<p>303853 rows × 3 columns</p>\n",
              "</div>"
            ],
            "text/plain": [
              "        metrics  decile  bucket\n",
              "1             1       0      10\n",
              "2             1       0      68\n",
              "3             4       6      47\n",
              "4             1       0      49\n",
              "5             1       0      48\n",
              "...         ...     ...     ...\n",
              "306835        8       7      72\n",
              "306836       11       8      83\n",
              "306837        1       4      36\n",
              "306838       81       9      95\n",
              "306839        1       4      95\n",
              "\n",
              "[303853 rows x 3 columns]"
            ]
          },
          "metadata": {},
          "execution_count": 139
        }
      ]
    },
    {
      "cell_type": "code",
      "metadata": {
        "id": "qmFp17vXMJgX",
        "colab": {
          "base_uri": "https://localhost:8080/",
          "height": 265
        },
        "outputId": "a90623e9-0f41-44cd-dfce-c9e3017c4405"
      },
      "source": [
        "df_clear.groupby(['bucket']).mean()['metrics'].plot(kind='hist');"
      ],
      "execution_count": 140,
      "outputs": [
        {
          "output_type": "display_data",
          "data": {
            "image/png": "[encoded data removed]",
            "text/plain": [
              "<Figure size 432x288 with 1 Axes>"
            ]
          },
          "metadata": {
            "needs_background": "light"
          }
        }
      ]
    },
    {
      "cell_type": "markdown",
      "metadata": {
        "id": "OxL9jyw6zSve"
      },
      "source": [
        "# **Задание 5**\n",
        "\n",
        "Есть эксперимент с поисковыми подсказками. Вы хотим узнать, как изменился CTR в каждой группе эксперимента.\n",
        "\n",
        "**Данные**\n",
        "\n",
        "- id - уникальный идентификатор пользователя\n",
        "- action - количество кликов\n",
        "- view - кол-во просмотров на одну сессию\n",
        "- variant - вариант a/b теста, где 0 - это версия \"A\", 1 -  версия \"B\".\n",
        "\n",
        "**Задача**\n",
        "\n",
        "- сформировать метрику для оценки эксперимента\n",
        "- подобрать критерий под особенности данных\n",
        "- сделать вывод о значимости эффекта\n",
        "\n",
        "**Данные** \n",
        "\n",
        "[Ссылка на данные](https://www.dropbox.com/s/fdki267uilkfq7l/task5.csv)"
      ]
    },
    {
      "cell_type": "code",
      "metadata": {
        "id": "2wsOBOeJnS7Y",
        "colab": {
          "base_uri": "https://localhost:8080/"
        },
        "outputId": "60adc789-45f3-4446-e2ca-af986e23d142"
      },
      "source": [
        "!wget -O test_5.csv https://www.dropbox.com/s/fdki267uilkfq7l/task5.csv"
      ],
      "execution_count": 144,
      "outputs": [
        {
          "output_type": "stream",
          "name": "stdout",
          "text": [
            "--2021-09-08 17:10:23--  https://www.dropbox.com/s/fdki267uilkfq7l/task5.csv\n",
            "Resolving www.dropbox.com (www.dropbox.com)... 162.125.1.18, 2620:100:6022:18::a27d:4212\n",
            "Connecting to www.dropbox.com (www.dropbox.com)|162.125.1.18|:443... connected.\n",
            "HTTP request sent, awaiting response... 301 Moved Permanently\n",
            "Location: /s/raw/fdki267uilkfq7l/task5.csv [following]\n",
            "--2021-09-08 17:10:23--  https://www.dropbox.com/s/raw/fdki267uilkfq7l/task5.csv\n",
            "Reusing existing connection to www.dropbox.com:443.\n",
            "HTTP request sent, awaiting response... 302 Found\n",
            "Location: https://ucf8b10d56ade00eab90e7366189.dl.dropboxusercontent.com/cd/0/inline/BVzoh6OPrxU8_cYmM0AsuzcOPw2DRnSP9A-0f8nQOSfg1fi3n9jxJaGFJ0pTeRAN2l383HtV5alHBvVS55Vpl4uoVhH5b08OIpO70AirOieE0jnJFDpmbBFNGLhCEuvF3tnDkWaQDqUiA-eAeBR0QvnX/file# [following]\n",
            "--2021-09-08 17:10:23--  https://ucf8b10d56ade00eab90e7366189.dl.dropboxusercontent.com/cd/0/inline/BVzoh6OPrxU8_cYmM0AsuzcOPw2DRnSP9A-0f8nQOSfg1fi3n9jxJaGFJ0pTeRAN2l383HtV5alHBvVS55Vpl4uoVhH5b08OIpO70AirOieE0jnJFDpmbBFNGLhCEuvF3tnDkWaQDqUiA-eAeBR0QvnX/file\n",
            "Resolving ucf8b10d56ade00eab90e7366189.dl.dropboxusercontent.com (ucf8b10d56ade00eab90e7366189.dl.dropboxusercontent.com)... 162.125.1.15, 2620:100:6016:15::a27d:10f\n",
            "Connecting to ucf8b10d56ade00eab90e7366189.dl.dropboxusercontent.com (ucf8b10d56ade00eab90e7366189.dl.dropboxusercontent.com)|162.125.1.15|:443... connected.\n",
            "HTTP request sent, awaiting response... 200 OK\n",
            "Length: 115994 (113K) [text/plain]\n",
            "Saving to: ‘test_5.csv’\n",
            "\n",
            "test_5.csv          100%[===================>] 113.28K   721KB/s    in 0.2s    \n",
            "\n",
            "2021-09-08 17:10:24 (721 KB/s) - ‘test_5.csv’ saved [115994/115994]\n",
            "\n"
          ]
        }
      ]
    },
    {
      "cell_type": "markdown",
      "metadata": {
        "id": "MFZLAyfmNb7g"
      },
      "source": [
        "Посмотрим на определение CTR. CTR - это показатель кликабельности. Это процент людей, которые нажимают на вашу рекламу. Его выражают через отношение количество кликов на количество просмотров, т.е. это пропорция. Применим [z-test](https://www.statisticshowto.com/z-test/) для двух пропорций.\n",
        "\n"
      ]
    },
    {
      "cell_type": "markdown",
      "metadata": {
        "id": "I8jFpwydOUvp"
      },
      "source": [
        "$H_0$ для теста состоит в том, что пропорции одинаковы.\n",
        "\n",
        "$H_A$ состоит в том, что пропорции не совпадают."
      ]
    },
    {
      "cell_type": "code",
      "metadata": {
        "id": "ovjtiHGXnVhh",
        "colab": {
          "base_uri": "https://localhost:8080/",
          "height": 419
        },
        "outputId": "831840e0-ea79-4cb0-fbf7-70f3dd2bebe0"
      },
      "source": [
        "df = pd.read_csv(\"test_5.csv\")\n",
        "df"
      ],
      "execution_count": 145,
      "outputs": [
        {
          "output_type": "execute_result",
          "data": {
            "text/html": [
              "<div>\n",
              "<style scoped>\n",
              "    .dataframe tbody tr th:only-of-type {\n",
              "        vertical-align: middle;\n",
              "    }\n",
              "\n",
              "    .dataframe tbody tr th {\n",
              "        vertical-align: top;\n",
              "    }\n",
              "\n",
              "    .dataframe thead th {\n",
              "        text-align: right;\n",
              "    }\n",
              "</style>\n",
              "<table border=\"1\" class=\"dataframe\">\n",
              "  <thead>\n",
              "    <tr style=\"text-align: right;\">\n",
              "      <th></th>\n",
              "      <th>id</th>\n",
              "      <th>variant</th>\n",
              "      <th>view</th>\n",
              "      <th>action</th>\n",
              "    </tr>\n",
              "  </thead>\n",
              "  <tbody>\n",
              "    <tr>\n",
              "      <th>0</th>\n",
              "      <td>88258</td>\n",
              "      <td>A</td>\n",
              "      <td>10</td>\n",
              "      <td>2</td>\n",
              "    </tr>\n",
              "    <tr>\n",
              "      <th>1</th>\n",
              "      <td>109938</td>\n",
              "      <td>A</td>\n",
              "      <td>3</td>\n",
              "      <td>1</td>\n",
              "    </tr>\n",
              "    <tr>\n",
              "      <th>2</th>\n",
              "      <td>117644</td>\n",
              "      <td>A</td>\n",
              "      <td>7</td>\n",
              "      <td>5</td>\n",
              "    </tr>\n",
              "    <tr>\n",
              "      <th>3</th>\n",
              "      <td>374080</td>\n",
              "      <td>A</td>\n",
              "      <td>9</td>\n",
              "      <td>9</td>\n",
              "    </tr>\n",
              "    <tr>\n",
              "      <th>4</th>\n",
              "      <td>662082</td>\n",
              "      <td>A</td>\n",
              "      <td>1</td>\n",
              "      <td>1</td>\n",
              "    </tr>\n",
              "    <tr>\n",
              "      <th>...</th>\n",
              "      <td>...</td>\n",
              "      <td>...</td>\n",
              "      <td>...</td>\n",
              "      <td>...</td>\n",
              "    </tr>\n",
              "    <tr>\n",
              "      <th>8186</th>\n",
              "      <td>7706713</td>\n",
              "      <td>B</td>\n",
              "      <td>1</td>\n",
              "      <td>1</td>\n",
              "    </tr>\n",
              "    <tr>\n",
              "      <th>8187</th>\n",
              "      <td>7875223</td>\n",
              "      <td>B</td>\n",
              "      <td>1</td>\n",
              "      <td>1</td>\n",
              "    </tr>\n",
              "    <tr>\n",
              "      <th>8188</th>\n",
              "      <td>4617329</td>\n",
              "      <td>B</td>\n",
              "      <td>9</td>\n",
              "      <td>4</td>\n",
              "    </tr>\n",
              "    <tr>\n",
              "      <th>8189</th>\n",
              "      <td>5394863</td>\n",
              "      <td>B</td>\n",
              "      <td>5</td>\n",
              "      <td>1</td>\n",
              "    </tr>\n",
              "    <tr>\n",
              "      <th>8190</th>\n",
              "      <td>7558165</td>\n",
              "      <td>B</td>\n",
              "      <td>1</td>\n",
              "      <td>1</td>\n",
              "    </tr>\n",
              "  </tbody>\n",
              "</table>\n",
              "<p>8191 rows × 4 columns</p>\n",
              "</div>"
            ],
            "text/plain": [
              "           id variant  view  action\n",
              "0       88258       A    10       2\n",
              "1      109938       A     3       1\n",
              "2      117644       A     7       5\n",
              "3      374080       A     9       9\n",
              "4      662082       A     1       1\n",
              "...       ...     ...   ...     ...\n",
              "8186  7706713       B     1       1\n",
              "8187  7875223       B     1       1\n",
              "8188  4617329       B     9       4\n",
              "8189  5394863       B     5       1\n",
              "8190  7558165       B     1       1\n",
              "\n",
              "[8191 rows x 4 columns]"
            ]
          },
          "metadata": {},
          "execution_count": 145
        }
      ]
    },
    {
      "cell_type": "markdown",
      "metadata": {
        "id": "yg5Hk70-zeDl"
      },
      "source": [
        "Можно использовать Id для бакетирования, но мы посмотрим значения z-статистики для пропорции"
      ]
    },
    {
      "cell_type": "code",
      "metadata": {
        "id": "lSs-1_2QnEYG"
      },
      "source": [
        "group_A = df[df.variant == \"A\"]\n",
        "group_B = df[df.variant == \"B\"]"
      ],
      "execution_count": 146,
      "outputs": []
    },
    {
      "cell_type": "code",
      "metadata": {
        "id": "HWECgYgo4Fit",
        "colab": {
          "base_uri": "https://localhost:8080/",
          "height": 142
        },
        "outputId": "0090f711-e292-478e-8d86-f63af79a8c49"
      },
      "source": [
        "group_data = df.groupby('variant')[['view', 'action']].sum()\n",
        "group_data"
      ],
      "execution_count": 147,
      "outputs": [
        {
          "output_type": "execute_result",
          "data": {
            "text/html": [
              "<div>\n",
              "<style scoped>\n",
              "    .dataframe tbody tr th:only-of-type {\n",
              "        vertical-align: middle;\n",
              "    }\n",
              "\n",
              "    .dataframe tbody tr th {\n",
              "        vertical-align: top;\n",
              "    }\n",
              "\n",
              "    .dataframe thead th {\n",
              "        text-align: right;\n",
              "    }\n",
              "</style>\n",
              "<table border=\"1\" class=\"dataframe\">\n",
              "  <thead>\n",
              "    <tr style=\"text-align: right;\">\n",
              "      <th></th>\n",
              "      <th>view</th>\n",
              "      <th>action</th>\n",
              "    </tr>\n",
              "    <tr>\n",
              "      <th>variant</th>\n",
              "      <th></th>\n",
              "      <th></th>\n",
              "    </tr>\n",
              "  </thead>\n",
              "  <tbody>\n",
              "    <tr>\n",
              "      <th>A</th>\n",
              "      <td>20303</td>\n",
              "      <td>12369</td>\n",
              "    </tr>\n",
              "    <tr>\n",
              "      <th>B</th>\n",
              "      <td>15883</td>\n",
              "      <td>9627</td>\n",
              "    </tr>\n",
              "  </tbody>\n",
              "</table>\n",
              "</div>"
            ],
            "text/plain": [
              "          view  action\n",
              "variant               \n",
              "A        20303   12369\n",
              "B        15883    9627"
            ]
          },
          "metadata": {},
          "execution_count": 147
        }
      ]
    },
    {
      "cell_type": "markdown",
      "metadata": {
        "id": "owXO_dMkpwiC"
      },
      "source": [
        "Используем z-test для пропорций"
      ]
    },
    {
      "cell_type": "code",
      "metadata": {
        "id": "uswkWqn_nZNZ"
      },
      "source": [
        "conversions = group_data['action']\n",
        "clicks = group_data['view']"
      ],
      "execution_count": 148,
      "outputs": []
    },
    {
      "cell_type": "code",
      "metadata": {
        "id": "pilGErHFnqZ6",
        "colab": {
          "base_uri": "https://localhost:8080/"
        },
        "outputId": "62e1101c-4e17-4ea8-f18d-3aa430e2d871"
      },
      "source": [
        "from statsmodels.stats.proportion import proportions_ztest\n",
        "\n",
        "zscore, pvalue = proportions_ztest(conversions, clicks, alternative='two-sided')\n",
        "print('zscore = {:.4f}, pvalue = {:.4f}'.format(zscore, pvalue))"
      ],
      "execution_count": 149,
      "outputs": [
        {
          "output_type": "stream",
          "name": "stdout",
          "text": [
            "zscore = 0.5995, pvalue = 0.5488\n"
          ]
        }
      ]
    },
    {
      "cell_type": "code",
      "metadata": {
        "id": "QXOtoqkRZ3Bt"
      },
      "source": [
        "p_1, p_2 = group_data.apply(lambda x: x[1] / x[0], axis=1).to_numpy()"
      ],
      "execution_count": 155,
      "outputs": []
    },
    {
      "cell_type": "code",
      "metadata": {
        "id": "ZXFJ0KlM2FPK"
      },
      "source": [
        "p = np.divide(*group_data.sum().to_numpy()[::-1]) # (group_data['action']['A']+group_data['action'][\"B\"]) / (group_data['view'][\"A\"]+group_data['view'][\"B\"])\n",
        "\n",
        "z_static_obs = (p_1 - p_2)/ np.sqrt(p * (1-p) * (1 / group_data['view']).sum()) # (1 / group_data['view']['A'] + 1 / group_data['view']['B'])"
      ],
      "execution_count": 173,
      "outputs": []
    },
    {
      "cell_type": "code",
      "metadata": {
        "id": "8QhxkO923wnJ",
        "colab": {
          "base_uri": "https://localhost:8080/"
        },
        "outputId": "202bf357-aa4b-43af-a8b4-7b16716d4667"
      },
      "source": [
        "z_static_obs"
      ],
      "execution_count": 174,
      "outputs": [
        {
          "output_type": "execute_result",
          "data": {
            "text/plain": [
              "0.5995066080068987"
            ]
          },
          "metadata": {},
          "execution_count": 174
        }
      ]
    },
    {
      "cell_type": "markdown",
      "metadata": {
        "id": "UGfd5W9ZpGeo"
      },
      "source": [
        "В результате p-value= 0.5488 > alpha=0.05 и мы не можем отклонить H0, что означает, что высокий CTR, наблюдаемый в экспериментальной группе, обусловлен  случайностью. Рекомендация для маркетинговой команды / команды продуктов заключается в том, чтобы не развертывать этот новый план/изменения."
      ]
    },
    {
      "cell_type": "code",
      "metadata": {
        "id": "Lk2t1HELy7vA"
      },
      "source": [
        "def bootstrap_for_proportion(action_a, action_b, view_a, view_b, boot=10000):\n",
        "    \"\"\"\n",
        "    https://www.statisticshowto.com/z-test/\n",
        "    \"\"\"\n",
        "    statistics = np.zeros(boot)\n",
        "    for i in range(boot):\n",
        "        # actions\n",
        "        bootsample_action_A = resample(action_a, n_samples=len(action_a), replace=True)\n",
        "        bootsample_action_B = resample(action_b, n_samples=len(action_b), replace=True)\n",
        "        # views\n",
        "        bootsample_view_A = resample(view_a, n_samples=len(view_a), replace=True)\n",
        "        bootsample_view_B = resample(view_b, n_samples=len(view_b), replace=True)\n",
        "        # sums\n",
        "        boot_action_a = bootsample_action_A.sum()\n",
        "        boot_action_b = bootsample_action_B.sum()\n",
        "        boot_view_a = bootsample_view_A.sum()\n",
        "        boot_view_b = bootsample_view_B.sum()\n",
        "        # proportions\n",
        "        p_a = boot_action_a / boot_view_a\n",
        "        p_b = boot_action_b / boot_view_b\n",
        "\n",
        "        p = (boot_action_a + boot_action_b) / (boot_view_a + boot_view_b)\n",
        "        z_statistic = (p_a - p_b) / np.sqrt(p * (1-p) * (1 / boot_view_a + 1 / boot_view_b))\n",
        "        statistics[i] = z_statistic\n",
        "    \n",
        "    return statistics"
      ],
      "execution_count": 176,
      "outputs": []
    },
    {
      "cell_type": "code",
      "metadata": {
        "id": "bXbBqLxvy3L5"
      },
      "source": [
        "boot = 10000\n",
        "z_statistics_bootstrap = bootstrap_for_proportion(group_A.action, group_B.action,\n",
        "                                                  group_A.view, group_B.view, boot)"
      ],
      "execution_count": 178,
      "outputs": []
    },
    {
      "cell_type": "code",
      "metadata": {
        "id": "jGCY13mG2_o3",
        "colab": {
          "base_uri": "https://localhost:8080/"
        },
        "outputId": "a66948b3-3905-42ab-fc91-fc480aecf4e4"
      },
      "source": [
        "pvalue = np.sum(z_statistics_bootstrap >= z_static_obs) / boot\n",
        "pvalue"
      ],
      "execution_count": 179,
      "outputs": [
        {
          "output_type": "execute_result",
          "data": {
            "text/plain": [
              "0.4989"
            ]
          },
          "metadata": {},
          "execution_count": 179
        }
      ]
    },
    {
      "cell_type": "markdown",
      "metadata": {
        "id": "TCYjYWee8UDW"
      },
      "source": [
        "Заметим, что p_value ниже, чем в proportions_ztest, но при этом мы все еще не можем отклонить $H_0$"
      ]
    }
  ]
}