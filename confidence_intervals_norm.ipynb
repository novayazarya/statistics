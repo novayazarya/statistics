{
 "cells": [
  {
   "cell_type": "markdown",
   "metadata": {},
   "source": [
    "# Доверительные интервалы. Нормальное распределение с неизвестным средним и известной дисперсией"
   ]
  },
  {
   "cell_type": "markdown",
   "metadata": {},
   "source": [
    "**Задача.** Сравнить на выборках размера 50 для $\\mathcal{N}(\\theta,4)$ доверительные интервалы:\n",
    "(1) теоретический, (2) на основе параметрического бутстрэпа, (3) на основе непараметрического бутстрэпа. Сам параметр $\\theta$ сгенерировать из равномерного распределения на $[-5,5]$. "
   ]
  },
  {
   "cell_type": "code",
   "execution_count": 1,
   "metadata": {},
   "outputs": [],
   "source": [
    "import numpy as np # для генерации случайных величин и работы с массивами\n",
    "from scipy import stats # чтобы считать квантили"
   ]
  },
  {
   "cell_type": "code",
   "execution_count": 2,
   "metadata": {},
   "outputs": [],
   "source": [
    "np.random.seed(123) # фиксируем seed"
   ]
  },
  {
   "cell_type": "code",
   "execution_count": 3,
   "metadata": {},
   "outputs": [],
   "source": [
    "# Фиксируем параметры задачи\n",
    "\n",
    "n = 50 # размер выборки \n",
    "alpha = 0.05 # параметр ошибки\n",
    "\n",
    "theta = np.random.uniform(-5,5) # неизвестное среднее нормального распределения\n",
    "sigma = 2 # известная sigma нормального распределения"
   ]
  },
  {
   "cell_type": "code",
   "execution_count": 4,
   "metadata": {},
   "outputs": [],
   "source": [
    "# Сгенерируем выборку из нужного распределения\n",
    "sample = np.random.normal(theta, sigma, size=n)"
   ]
  },
  {
   "cell_type": "code",
   "execution_count": 5,
   "metadata": {},
   "outputs": [
    {
     "name": "stdout",
     "output_type": "stream",
     "text": [
      "Значение theta равно 1.9646918559786162\n"
     ]
    }
   ],
   "source": [
    "print(\"Значение theta равно\",theta)"
   ]
  },
  {
   "cell_type": "markdown",
   "metadata": {},
   "source": [
    "### Теоретический доверительный интервал"
   ]
  },
  {
   "cell_type": "markdown",
   "metadata": {},
   "source": [
    "Напомним, что теоретический доверительный интервал вычисляется следующим образом: \n",
    "\n",
    "$$\n",
    "\\mathbb{P}\\left( \\bar{X} - \\frac{c_{1-\\frac{\\alpha} 2} \\sigma}{\\sqrt{n}} < \\mu < \\bar{X} + \\frac{c_{1-\\frac{\\alpha} 2}\\sigma}{\\sqrt{n}} \\right) = 1-\\alpha,\n",
    "$$\n",
    "где $c_{\\alpha}$ — квантиль распределения $\\mathcal{N}(0,1)$ уровня $\\alpha$."
   ]
  },
  {
   "cell_type": "code",
   "execution_count": 6,
   "metadata": {},
   "outputs": [],
   "source": [
    "# Вычисляем теоретический доверительный интервал\n",
    "\n",
    "CI_Theoretical = [np.mean(sample) - stats.norm.ppf(1-alpha/2)*sigma/np.sqrt(n),\n",
    "                  np.mean(sample) + stats.norm.ppf(1-alpha/2)*sigma/np.sqrt(n)]"
   ]
  },
  {
   "cell_type": "code",
   "execution_count": 7,
   "metadata": {},
   "outputs": [
    {
     "name": "stdout",
     "output_type": "stream",
     "text": [
      "Теоретический доверительный интервал равен [1.1210678915076362, 2.2297909509873786]\n"
     ]
    }
   ],
   "source": [
    "print(\"Теоретический доверительный интервал равен\", CI_Theoretical)"
   ]
  },
  {
   "cell_type": "markdown",
   "metadata": {},
   "source": [
    "### Доверительный интервал на основе параметрического бутстрэпа"
   ]
  },
  {
   "cell_type": "code",
   "execution_count": 8,
   "metadata": {},
   "outputs": [],
   "source": [
    "# Параметры для бутстрэпа\n",
    "number_of_bootstrap_samples = 5 # количество бутстрэп-выборок\n",
    "size_of_bootstrap_samples = 20 # размер бутстрэп-выборок"
   ]
  },
  {
   "cell_type": "code",
   "execution_count": 9,
   "metadata": {},
   "outputs": [],
   "source": [
    "# Оцениваем неизвестный параметр theta \n",
    "mean = np.mean(sample) "
   ]
  },
  {
   "cell_type": "code",
   "execution_count": 10,
   "metadata": {},
   "outputs": [],
   "source": [
    "# Генерируем выборку из распределения N(sample_mean, sigma)\n",
    "bootstrap_samples = np.random.normal(mean, sigma, size=[number_of_bootstrap_samples, size_of_bootstrap_samples]) "
   ]
  },
  {
   "cell_type": "code",
   "execution_count": 11,
   "metadata": {},
   "outputs": [
    {
     "data": {
      "text/plain": [
       "array([[-2.38915554e+00,  2.84044601e+00,  2.33077826e-01,\n",
       "        -1.72941778e+00,  3.21071236e+00,  2.41678753e+00,\n",
       "         5.82634813e+00,  1.93094480e+00,  5.27520832e+00,\n",
       "         4.15216213e+00,  3.50294332e+00,  2.60796549e+00,\n",
       "         1.92550874e+00,  1.28012758e+00,  2.19359582e-01,\n",
       "         4.54802583e-01, -7.06685196e-02,  1.98836749e+00,\n",
       "         2.24853355e+00,  3.41086502e+00],\n",
       "       [ 4.21046524e+00,  5.89110938e+00,  1.20325052e+00,\n",
       "         1.21126576e+00, -4.80849395e-01,  4.00179850e+00,\n",
       "         2.72040957e+00,  5.36415985e+00,  3.06655743e+00,\n",
       "         1.31205101e+00,  8.30908113e-01,  3.69887030e+00,\n",
       "         1.54191459e+00,  1.36330164e+00,  4.84235890e+00,\n",
       "         1.02241458e-01,  2.69854958e+00,  4.55831042e+00,\n",
       "         1.61395007e-03,  2.59517343e+00],\n",
       "       [-1.17797133e+00,  5.61969922e-01,  2.03510919e+00,\n",
       "        -2.61349833e+00,  2.21251450e-01,  2.29026567e+00,\n",
       "         9.00351897e-01,  6.83852547e-02,  3.55340788e+00,\n",
       "         2.55106836e+00,  3.95761257e+00,  2.01833297e+00,\n",
       "        -1.42372825e+00, -2.72617542e-01, -4.22791788e-01,\n",
       "         7.45760659e-01,  6.94309647e-01,  3.67692082e+00,\n",
       "         5.97245780e+00,  4.54024793e+00],\n",
       "       [ 1.40872275e+00,  1.68697753e+00,  3.40187800e-01,\n",
       "        -2.05808409e-01,  3.53704905e+00,  1.76811476e+00,\n",
       "         4.34890390e+00,  2.23594998e+00,  4.66869035e+00,\n",
       "         3.07126152e-01,  2.34603142e+00, -5.81681104e-01,\n",
       "         1.40797518e+00,  1.05350915e-01,  1.20362375e+00,\n",
       "        -1.14848557e+00, -1.00093047e-01,  1.88396364e+00,\n",
       "         2.52042147e+00,  1.27398565e+00],\n",
       "       [-1.15802484e+00,  6.26636832e+00,  3.32182895e+00,\n",
       "         3.40122682e+00,  1.79829200e+00,  1.40967266e+00,\n",
       "         1.05446496e+00,  2.30602491e+00,  2.47074591e-01,\n",
       "         3.55568053e+00,  3.81006306e+00, -8.24343733e-01,\n",
       "         2.31820362e+00,  1.60397126e-01,  2.35115247e+00,\n",
       "         3.01047135e+00, -2.14320701e+00, -2.01258343e+00,\n",
       "         2.42309753e+00,  4.69489702e+00]])"
      ]
     },
     "execution_count": 11,
     "metadata": {},
     "output_type": "execute_result"
    }
   ],
   "source": [
    "bootstrap_samples"
   ]
  },
  {
   "cell_type": "code",
   "execution_count": 18,
   "metadata": {},
   "outputs": [],
   "source": [
    "# Считаем среднее для каждой выборки \n",
    "bootstrap_estimates = np.apply_along_axis(np.mean, 1, bootstrap_samples)"
   ]
  },
  {
   "cell_type": "code",
   "execution_count": 13,
   "metadata": {},
   "outputs": [],
   "source": [
    "# Вычисляем параметрический бутстрэп доверительный интервал\n",
    "CI_Bootstrap_Parametric = [np.quantile(bootstrap_estimates, alpha/2),\n",
    "                           np.quantile(bootstrap_estimates, 1 - alpha/2)]"
   ]
  },
  {
   "cell_type": "code",
   "execution_count": 14,
   "metadata": {},
   "outputs": [
    {
     "name": "stdout",
     "output_type": "stream",
     "text": [
      "Доверительный интервал на основе парметрического бустрэпа равен [1.399493046654126, 2.479680304445111]\n"
     ]
    }
   ],
   "source": [
    "print(\"Доверительный интервал на основе парметрического бустрэпа равен\", CI_Bootstrap_Parametric)"
   ]
  },
  {
   "cell_type": "markdown",
   "metadata": {},
   "source": [
    "### Доверительный интервал на основе непараметрического бутстрэпа"
   ]
  },
  {
   "cell_type": "code",
   "execution_count": 19,
   "metadata": {},
   "outputs": [],
   "source": [
    "# Будем использовать те же параметры\n",
    "bootstrap_samples_num = 5 # количество бутстрэп-выборок\n",
    "bootstrap_samples_size = 20 # размер бутстрэп-выборок"
   ]
  },
  {
   "cell_type": "code",
   "execution_count": 20,
   "metadata": {},
   "outputs": [],
   "source": [
    "# Генерируем выборку из распределения N(bootstrap_mean, sigma)\n",
    "bootstrap_samples = np.random.choice(sample, size=[bootstrap_samples_num, bootstrap_samples_size]) "
   ]
  },
  {
   "cell_type": "code",
   "execution_count": 21,
   "metadata": {},
   "outputs": [],
   "source": [
    "# Считаем среднее для каждой выборки \n",
    "bootstrap_estimates = np.apply_along_axis(np.mean, 1, bootstrap_samples)"
   ]
  },
  {
   "cell_type": "code",
   "execution_count": 22,
   "metadata": {},
   "outputs": [],
   "source": [
    "# Вычисляем непараметрический бутстрэп доверительный интервал\n",
    "CI_Bootstrap_Nonparametric = [np.quantile(bootstrap_estimates, alpha/2),\n",
    "                              np.quantile(bootstrap_estimates, 1 - alpha/2)]"
   ]
  },
  {
   "cell_type": "code",
   "execution_count": 23,
   "metadata": {},
   "outputs": [
    {
     "name": "stdout",
     "output_type": "stream",
     "text": [
      "Доверительный интервал на основе (непарметрического) бустрэпа равен [1.2358234893998905, 1.901530517483673]\n"
     ]
    }
   ],
   "source": [
    "print(\"Доверительный интервал на основе (непарметрического) бустрэпа равен\", CI_Bootstrap_Nonparametric)"
   ]
  },
  {
   "cell_type": "markdown",
   "metadata": {},
   "source": [
    "### Как сравнить полученные доверительные интервалы? "
   ]
  },
  {
   "cell_type": "markdown",
   "metadata": {},
   "source": [
    "Можно попробовать сравнить длину полученных доверительных интервалов. \n",
    "Будет ли длина хорошей оценкой качества интервалов?"
   ]
  },
  {
   "cell_type": "code",
   "execution_count": 25,
   "metadata": {},
   "outputs": [
    {
     "name": "stdout",
     "output_type": "stream",
     "text": [
      "Длина теоретического доверительного интервала:  1.1087230594797424\n",
      "Длина доверительного интервала на основе парметрического бустрэпа:  1.080187257790985\n",
      "Длина доверительного интервала на основе непарметрического бустрэпа:  0.6657070280837825\n"
     ]
    }
   ],
   "source": [
    "print(\"Длина теоретического доверительного интервала: \", CI_Theoretical[1] - CI_Theoretical[0])\n",
    "print(\"Длина доверительного интервала на основе парметрического бустрэпа: \",\n",
    "                                                       CI_Bootstrap_Parametric[1] - CI_Bootstrap_Parametric[0])\n",
    "print(\"Длина доверительного интервала на основе непарметрического бустрэпа: \",\n",
    "                                                       CI_Bootstrap_Nonparametric[1] - CI_Bootstrap_Nonparametric[0])"
   ]
  },
  {
   "cell_type": "markdown",
   "metadata": {},
   "source": [
    "Проверим, с какой частотой истинное значение параметра попадает в данные доверительные интервалы"
   ]
  },
  {
   "cell_type": "code",
   "execution_count": 26,
   "metadata": {},
   "outputs": [],
   "source": [
    "N_samples = 10000 # количество \"экспериентов\" по вычислению доверительных интервалов\n",
    "\n",
    "theoretical = np.zeros(N_samples) # здесь будем хранить результаты для теоретического доверительного интервала\n",
    "parametric_bootstrap = np.zeros(N_samples) # здесь будем хранить результаты для параметрического бутстрэпа \n",
    "nonparametric_bootstrap = np.zeros(N_samples) # здесь будем хранить результаты для непараметрического бутстрэпа "
   ]
  },
  {
   "cell_type": "code",
   "execution_count": 27,
   "metadata": {},
   "outputs": [],
   "source": [
    "# Вычисляем теоретический доверительный интервал\n",
    "\n",
    "def Theoretical(sample, alpha):\n",
    "    n = len(sample)\n",
    "    mean = np.mean(sample)\n",
    "    return [mean - stats.norm.ppf(1 - alpha/2) * sigma / np.sqrt(n),\n",
    "            mean + stats.norm.ppf(1 - alpha/2) * sigma / np.sqrt(n)]"
   ]
  },
  {
   "cell_type": "code",
   "execution_count": 28,
   "metadata": {},
   "outputs": [],
   "source": [
    "# Вычисляем доверительный интервал на основе параметрического бутстрэпа\n",
    "\n",
    "def Parametric_bootstrap(sample, alpha, number_of_bootstrap_samples, size_of_bootstrap_samples):\n",
    "    n = len(sample)\n",
    "    mean = np.mean(sample)\n",
    "    bootstrap_samples = np.random.normal(mean, sigma, size=[number_of_bootstrap_samples,\n",
    "                                                                      size_of_bootstrap_samples]) \n",
    "    bootstrap_estimates = np.apply_along_axis(np.mean, 1, bootstrap_samples)\n",
    "    return [np.quantile(bootstrap_estimates, alpha/2), np.quantile(bootstrap_estimates, 1 - alpha/2)]"
   ]
  },
  {
   "cell_type": "code",
   "execution_count": 29,
   "metadata": {},
   "outputs": [],
   "source": [
    "# Вычисляем доверительный интервал на основе непараметрического бутстрэпа\n",
    "\n",
    "def Nonparametric_bootstrap(sample, alpha, number_of_bootstrap_samples, size_of_bootstrap_samples):\n",
    "    bootstrap_samples = np.random.choice(sample, size=[number_of_bootstrap_samples, size_of_bootstrap_samples]) \n",
    "    bootstrap_estimates = np.apply_along_axis(np.mean, 1, bootstrap_samples)\n",
    "    return [np.quantile(bootstrap_estimates, alpha/2), np.quantile(bootstrap_estimates, 1 - alpha/2)]"
   ]
  },
  {
   "cell_type": "code",
   "execution_count": 30,
   "metadata": {},
   "outputs": [],
   "source": [
    "# Проведем N_samples экспериментов\n",
    "for i in range(N_samples):\n",
    "    sample = np.random.normal(theta, sigma, size=n)\n",
    "    # теоретические интервалы\n",
    "    CI_Theoretical = Theoretical(sample,alpha)\n",
    "    theoretical[i] = (theta >= CI_Theoretical[0]) and (theta <= CI_Theoretical[1])\n",
    "    \n",
    "    CI_parametric_bootstrap = Parametric_bootstrap(sample,\n",
    "                                                   alpha,\n",
    "                                                   number_of_bootstrap_samples,\n",
    "                                                   size_of_bootstrap_samples)\n",
    "    parametric_bootstrap[i] = (theta >= CI_parametric_bootstrap[0]) and\n",
    "                              (theta <= CI_parametric_bootstrap[1])\n",
    "    \n",
    "    CI_nonparametric_bootstrap = Nonparametric_bootstrap(sample,\n",
    "                                                         alpha,\n",
    "                                                         number_of_bootstrap_samples,\n",
    "                                                         size_of_bootstrap_samples)\n",
    "    nonparametric_bootstrap[i] = (theta >= CI_nonparametric_bootstrap[0]) and\n",
    "                                 (theta <= CI_nonparametric_bootstrap[1])"
   ]
  },
  {
   "cell_type": "code",
   "execution_count": 31,
   "metadata": {},
   "outputs": [
    {
     "name": "stdout",
     "output_type": "stream",
     "text": [
      "Частота попадания истинного параметра в доверительный интервал:\n",
      "- для теоретического доверительного интервала  0.9525\n",
      "- для параметрического бутстрэп доверительного интервала  0.7763\n",
      "- для непараметрического бутстрэп доверительного интервала  0.7771\n"
     ]
    }
   ],
   "source": [
    "print(\"Частота попадания истинного параметра в доверительный интервал:\")\n",
    "print(\"- для теоретического доверительного интервала \", np.mean(theoretical))\n",
    "print(\"- для параметрического бутстрэп доверительного интервала \", np.mean(parametric_bootstrap))\n",
    "print(\"- для непараметрического бутстрэп доверительного интервала \", np.mean(nonparametric_bootstrap))"
   ]
  }
 ],
 "metadata": {
  "kernelspec": {
   "display_name": "Python 3",
   "language": "python",
   "name": "python3"
  },
  "language_info": {
   "codemirror_mode": {
    "name": "ipython",
    "version": 3
   },
   "file_extension": ".py",
   "mimetype": "text/x-python",
   "name": "python",
   "nbconvert_exporter": "python",
   "pygments_lexer": "ipython3",
   "version": "3.8.3"
  }
 },
 "nbformat": 4,
 "nbformat_minor": 2
}
