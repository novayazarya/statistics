{
  "nbformat": 4,
  "nbformat_minor": 0,
  "metadata": {
    "kernelspec": {
      "display_name": "Python 3",
      "language": "python",
      "name": "python3"
    },
    "language_info": {
      "codemirror_mode": {
        "name": "ipython",
        "version": 3
      },
      "file_extension": ".py",
      "mimetype": "text/x-python",
      "name": "python",
      "nbconvert_exporter": "python",
      "pygments_lexer": "ipython3",
      "version": "3.8.5"
    },
    "colab": {
      "name": "sem10_stat.ipynb",
      "provenance": [],
      "toc_visible": true
    }
  },
  "cells": [
    {
      "cell_type": "code",
      "metadata": {
        "id": "ez7V5PZYeJ-C"
      },
      "source": [
        "import pandas as pd\n",
        "import numpy as np\n",
        "import random\n",
        "import scipy as sp\n",
        "import scipy.stats as sts\n",
        "import matplotlib.pyplot as plt\n",
        "\n",
        "random.seed(42)"
      ],
      "execution_count": 2,
      "outputs": []
    },
    {
      "cell_type": "markdown",
      "metadata": {
        "id": "z5PnrdtN-ltL"
      },
      "source": [
        "<a id='rv'></a>\n",
        "# Случайные величины. Нормальный закон распределения."
      ]
    },
    {
      "cell_type": "markdown",
      "metadata": {
        "collapsed": true,
        "id": "CnjcXBn2-ltL"
      },
      "source": [
        "Случайные величины бывают:\n",
        "- дискретные\n",
        "- непрерывные"
      ]
    },
    {
      "cell_type": "markdown",
      "metadata": {
        "id": "fvhBwi2w-ltL"
      },
      "source": [
        "На практике статистические заключения опираются на допущения о том, как распределены рассматриваемые случайные переменные (данные). (Даже принято преобразовывать данные с тем, чтобы они соответствовали одному из известных распределений)"
      ]
    },
    {
      "cell_type": "markdown",
      "metadata": {
        "id": "Qb09lL7a-ltM"
      },
      "source": [
        "<a id='pd'></a>\n",
        "## Распределение вероятностей"
      ]
    },
    {
      "cell_type": "markdown",
      "metadata": {
        "collapsed": true,
        "id": "AQsf8QGo-ltM"
      },
      "source": [
        "*Закон распределения вероятностей* — это выражение, которое определяет, какие значения будет принимать данная переменная или параметр, и как часто будет встречаться каждое из этих значений."
      ]
    },
    {
      "cell_type": "markdown",
      "metadata": {
        "id": "doy1j9Ar-ltM"
      },
      "source": [
        "Иногда закон распределения случайной величины можно выписать сразу. Например, если случайная величина $X$ - число выпадающих  очков при бросках игральной кости (шестигранный кубик с точками), то закон распределения ее значений такой:\n",
        "\n",
        "| | | | | | | |\n",
        "|-------------:|:---------|:--------|:---------|:---------|:--------|:---------|\n",
        "|$$X$$         |1         |2        |3         |4         |5        |6         |\n",
        "|$$p(X)$$      |1/6       |1/6      |1/6       |1/6       |1/6      |1/6       |\n"
      ]
    },
    {
      "cell_type": "markdown",
      "metadata": {
        "collapsed": true,
        "id": "FlgIq8qB-ltN"
      },
      "source": [
        "Но далеко не всегда мы  знаем заранее закон распределения случайной величины (ее функцию вероятности). В таком случае мы ее стараемся оценить на основании имеющихся данных. "
      ]
    },
    {
      "cell_type": "markdown",
      "metadata": {
        "collapsed": true,
        "id": "aLE-LFS1-ltN"
      },
      "source": [
        "Раздобудем результаты $n=200$ бросков игральной кости. Чтобы не бросать кубик самим, смоделируем результаты в Python:"
      ]
    },
    {
      "cell_type": "code",
      "metadata": {
        "colab": {
          "base_uri": "https://localhost:8080/"
        },
        "id": "joUtaXBb-ltN",
        "outputId": "40913cb6-65cb-4044-dc81-ccabb77d2c47"
      },
      "source": [
        "n = 20000\n",
        "sample = np.random.choice([1,2,3,4,5,6], n)\n",
        "print(\"Выпавшие значения Х:\", sample)"
      ],
      "execution_count": 2,
      "outputs": [
        {
          "output_type": "stream",
          "name": "stdout",
          "text": [
            "Выпавшие значения Х: [1 4 2 ... 6 6 6]\n"
          ]
        }
      ]
    },
    {
      "cell_type": "markdown",
      "metadata": {
        "id": "yU36TF4b-ltN"
      },
      "source": [
        "Тогда вероятности значений случайной величины  X можно оценить с помощью *относительных частот* выпадения значений. "
      ]
    },
    {
      "cell_type": "code",
      "metadata": {
        "colab": {
          "base_uri": "https://localhost:8080/"
        },
        "id": "hA8480n1-ltO",
        "outputId": "28c05d65-c895-4475-9c98-daf34c1d4843"
      },
      "source": [
        "# посчитаем число выпадений каждой из сторон:\n",
        "from collections import Counter\n",
        "\n",
        "c = Counter(sample)\n",
        "\n",
        "print(\"Число выпадений каждого значения:\")    \n",
        "print(c, '\\n')\n",
        "\n",
        "# получим вероятности, поделив каждое число выпадений на общее количество бросков:\n",
        "\n",
        "print(\"Вероятности выпадений каждого значения:\")\n",
        "p_X = {key: value / n for key, value in c.items()}\n",
        "print(p_X)"
      ],
      "execution_count": 3,
      "outputs": [
        {
          "output_type": "stream",
          "name": "stdout",
          "text": [
            "Число выпадений каждого значения:\n",
            "Counter({2: 3380, 4: 3375, 3: 3328, 5: 3319, 1: 3304, 6: 3294}) \n",
            "\n",
            "Вероятности выпадений каждого значения:\n",
            "{1: 0.1652, 4: 0.16875, 2: 0.169, 3: 0.1664, 6: 0.1647, 5: 0.16595}\n"
          ]
        }
      ]
    },
    {
      "cell_type": "code",
      "metadata": {
        "id": "ObJYyltu-ltO",
        "outputId": "862256f2-9501-44a3-f84d-f9d84aa35aa8",
        "colab": {
          "base_uri": "https://localhost:8080/",
          "height": 265
        }
      },
      "source": [
        "# Нарисуем распределение вероятностей:\n",
        "for key in p_X:\n",
        "    plt.scatter([key], p_X[key], label=key)\n",
        "plt.show()"
      ],
      "execution_count": 4,
      "outputs": [
        {
          "output_type": "display_data",
          "data": {
            "image/png": "[encoded data removed]",
            "text/plain": [
              "<Figure size 432x288 with 1 Axes>"
            ]
          },
          "metadata": {
            "needs_background": "light"
          }
        }
      ]
    },
    {
      "cell_type": "markdown",
      "metadata": {
        "id": "sXcUn_l3-ltO"
      },
      "source": [
        "**Задание.** Проведите эксперименты для $n=2000,20000,200000$ бросков. Что происходит с вероятностями? Что это за значение, к которому вероятности стремятся?"
      ]
    },
    {
      "cell_type": "markdown",
      "metadata": {
        "id": "ufdl4kco-ltO"
      },
      "source": [
        "<a id='cdf'></a>\n",
        "## Функция распределения"
      ]
    },
    {
      "cell_type": "markdown",
      "metadata": {
        "id": "1ADNxuxL-ltO"
      },
      "source": [
        "Знание распределения вероятностей позволяет построить *функцию распределения* $F(x)$. (Обратное тоже верно)))\n",
        "\n",
        "$F(x)$ - это вероятность того, что случайная величина  $X$  примет значение меньшее, чем $x$, т.е.\n",
        "\n",
        "$$F(x)=P(X<=x)$$\n",
        "\n",
        "Из этого определения следует очень важная для практики формула вероятности попадания случайной величины $X$ в интервал:\n",
        "\n",
        "**$$P(a<X<=b)=F(b)-F(a)$$**\n",
        "\n"
      ]
    },
    {
      "cell_type": "code",
      "metadata": {
        "colab": {
          "base_uri": "https://localhost:8080/"
        },
        "id": "KYQ4MSU2Cjef",
        "outputId": "a27166c7-21b1-42f7-b700-e73443eb9bfc"
      },
      "source": [
        "sample.shape"
      ],
      "execution_count": null,
      "outputs": [
        {
          "data": {
            "text/plain": [
              "(20000,)"
            ]
          },
          "execution_count": 5,
          "metadata": {},
          "output_type": "execute_result"
        }
      ]
    },
    {
      "cell_type": "code",
      "metadata": {
        "colab": {
          "base_uri": "https://localhost:8080/",
          "height": 279
        },
        "id": "Zsjfv_r8-ltP",
        "outputId": "b616981b-43f1-45fb-b336-adaccb3d6e2b"
      },
      "source": [
        "# Построим функцию распределения для нашей выборки. \n",
        "from statsmodels.distributions.empirical_distribution import ECDF\n",
        "F = ECDF(sample, side='right')\n",
        "plt.step(F.x, F.y, label='F(x)')\n",
        "\n",
        "plt.ylabel('$F(x)$')\n",
        "plt.xlabel('$x$')\n",
        "plt.legend(loc='upper left');"
      ],
      "execution_count": 83,
      "outputs": [
        {
          "output_type": "display_data",
          "data": {
            "image/png": "[encoded data removed]",
            "text/plain": [
              "<Figure size 432x288 with 1 Axes>"
            ]
          },
          "metadata": {
            "needs_background": "light"
          }
        }
      ]
    },
    {
      "cell_type": "code",
      "metadata": {
        "colab": {
          "base_uri": "https://localhost:8080/"
        },
        "id": "aCatVnIQ-ltP",
        "outputId": "97dc30c2-9699-442e-82a6-e9c16f0f285a"
      },
      "source": [
        "F([5]), F([10])"
      ],
      "execution_count": 7,
      "outputs": [
        {
          "output_type": "execute_result",
          "data": {
            "text/plain": [
              "(array([0.8353]), array([1.]))"
            ]
          },
          "metadata": {},
          "execution_count": 7
        }
      ]
    },
    {
      "cell_type": "markdown",
      "metadata": {
        "id": "XiHxoKNG-ltP"
      },
      "source": [
        "**Задание.**\n",
        "1. Найдите F(1), F(3), F(6), F(10). Почему получились именно такие значения?\n",
        "\n",
        "2. Найдите вероятность того, что при броске выпадет не менее 3 и не более 5 очков."
      ]
    },
    {
      "cell_type": "code",
      "metadata": {
        "id": "PSr8YfhheJ-g",
        "outputId": "2a788ebc-4ff4-47d1-815a-4c89dee859bf",
        "colab": {
          "base_uri": "https://localhost:8080/"
        }
      },
      "source": [
        "F([1]), F([3]), F([6]), F([10])"
      ],
      "execution_count": 8,
      "outputs": [
        {
          "output_type": "execute_result",
          "data": {
            "text/plain": [
              "(array([0.1652]), array([0.5006]), array([1.]), array([1.]))"
            ]
          },
          "metadata": {},
          "execution_count": 8
        }
      ]
    },
    {
      "cell_type": "code",
      "metadata": {
        "id": "jsTxS5WtgC5n",
        "outputId": "a000ad89-966c-4e91-92f1-a8aa8b329487",
        "colab": {
          "base_uri": "https://localhost:8080/"
        }
      },
      "source": [
        "F([5]) - F([3]) # 𝑃(3<𝑋<=5)=𝐹(5)−𝐹(3)"
      ],
      "execution_count": 85,
      "outputs": [
        {
          "output_type": "execute_result",
          "data": {
            "text/plain": [
              "array([0.3347])"
            ]
          },
          "metadata": {},
          "execution_count": 85
        }
      ]
    },
    {
      "cell_type": "markdown",
      "metadata": {
        "id": "ce23gZxveJ-h"
      },
      "source": [
        "Построим гистаграмму принимаемых значений"
      ]
    },
    {
      "cell_type": "code",
      "metadata": {
        "id": "7IGgBU3TeJ-h",
        "outputId": "41fb722b-c9ad-479f-cb8b-91b21829f438"
      },
      "source": [
        "plt.hist(sample, bins=6, density=True);"
      ],
      "execution_count": null,
      "outputs": [
        {
          "data": {
            "image/png": "[encoded data removed]",
            "text/plain": [
              "<Figure size 432x288 with 1 Axes>"
            ]
          },
          "metadata": {
            "needs_background": "light"
          },
          "output_type": "display_data"
        }
      ]
    },
    {
      "cell_type": "code",
      "metadata": {
        "id": "UVD0HZJpeJ-i",
        "outputId": "c77b5a5a-3061-4746-ea89-ffd15b756836"
      },
      "source": [
        "plt.hist(sample, bins=100, density=True, cumulative=True);"
      ],
      "execution_count": null,
      "outputs": [
        {
          "data": {
            "image/png": "[encoded data removed]",
            "text/plain": [
              "<Figure size 432x288 with 1 Axes>"
            ]
          },
          "metadata": {
            "needs_background": "light"
          },
          "output_type": "display_data"
        }
      ]
    },
    {
      "cell_type": "markdown",
      "metadata": {
        "id": "RKvrHhZm-ltQ"
      },
      "source": [
        "<a id='nb'></a>\n",
        "## Нормальный закон распределения"
      ]
    },
    {
      "cell_type": "markdown",
      "metadata": {
        "id": "-NlQuKjW-ltQ"
      },
      "source": [
        "В теории статистики доказаны две теоремы, которые обосновывают все статистические вычисления. В силу своей важности эти теоремы получили громкие названия - Центральная предельная теорема и Закон больших чисел.\n",
        "\n"
      ]
    },
    {
      "cell_type": "markdown",
      "metadata": {
        "id": "iV5r-e9K-ltQ"
      },
      "source": [
        "<a id='lbn'></a>\n",
        "### Закон больших чисел и центральная предельная теорема"
      ]
    },
    {
      "cell_type": "markdown",
      "metadata": {
        "id": "XAytLZIk-ltQ"
      },
      "source": [
        "*Закон больших чисел*  утверждает, что какое бы ни было распределение случайной величины, среднее арифметическое ее реализаций при их большом числе близко к истинному значению среднего значения распределения. "
      ]
    },
    {
      "cell_type": "markdown",
      "metadata": {
        "id": "sgbVipgG-ltQ"
      },
      "source": [
        "*Центральная предельная теорема* утверждает, что если случайная величина формирует свои значения под действием многочисленных, независимых факторов, влияние каждого из которых пренебрежимо мало, то такая величина распределена нормально. \n",
        "\n",
        "То есть имеет распределение, которое называют *нормальным*, и свойства которого очень хорошо изучены. "
      ]
    },
    {
      "cell_type": "markdown",
      "metadata": {
        "id": "d-NnMGxyeJ-j"
      },
      "source": [
        "По ЦПТ получается, что среднее случайных величин будет распределено как $N(\\mu, \\sigma^2/n)$\n",
        "\n",
        "Напишите функцию, которая будет выдавать ожидаемое нами стандартное отклонение для среднего по k случайных равномерно распределенным  от 0 до 1 величинам\n",
        "\n",
        "*Подсказка:*\n",
        "Вообще говоря дисперсия равномерной случайной величины равна $\\frac{(b - a)^2}{12}$"
      ]
    },
    {
      "cell_type": "code",
      "metadata": {
        "id": "3k2BOasHeJ-q"
      },
      "source": [
        "def get_std(k):\n",
        "    return np.sqrt((1 / 12.) / k)"
      ],
      "execution_count": 24,
      "outputs": []
    },
    {
      "cell_type": "markdown",
      "metadata": {
        "id": "VklmHFEi-ltR"
      },
      "source": [
        "#### Давайте посмотрим на теорему в действии\n",
        "\n",
        "Сформируем случайную величину, которая представляет собой сумму $k$ случайных чисел из какого-нибудь распределения (например, равномерного). Сгенерируем  $N$ таких сумм и посмотрим, как они будут распределены."
      ]
    },
    {
      "cell_type": "code",
      "metadata": {
        "id": "P0nk9DEP-ltR"
      },
      "source": [
        "N = 10000\n",
        "k = 10"
      ],
      "execution_count": 44,
      "outputs": []
    },
    {
      "cell_type": "code",
      "metadata": {
        "colab": {
          "base_uri": "https://localhost:8080/",
          "height": 265
        },
        "id": "1zoIFDwj-ltR",
        "outputId": "eccaf4e0-f863-44e8-920a-16ec203f5f45"
      },
      "source": [
        "# Убедимся, что умеем генерировать массив из N случайных равномерно распределенных на [0; 1] чисел\n",
        "plt.hist(np.random.random(N));"
      ],
      "execution_count": 45,
      "outputs": [
        {
          "output_type": "display_data",
          "data": {
            "image/png": "[encoded data removed]",
            "text/plain": [
              "<Figure size 432x288 with 1 Axes>"
            ]
          },
          "metadata": {
            "needs_background": "light"
          }
        }
      ]
    },
    {
      "cell_type": "code",
      "metadata": {
        "colab": {
          "base_uri": "https://localhost:8080/",
          "height": 265
        },
        "id": "goL6wmHM-ltR",
        "outputId": "21b89a70-1172-4afd-9dd8-1fc095db42c9"
      },
      "source": [
        "# Складываем покоординатно k массивов, получаем массив из N сумм, строим  гистограмму\n",
        "uniform_sum = sum(np.random.random(N) for _ in range(k))\n",
        "plt.hist(uniform_sum, bins=100);"
      ],
      "execution_count": 46,
      "outputs": [
        {
          "output_type": "display_data",
          "data": {
            "image/png": "[encoded data removed]",
            "text/plain": [
              "<Figure size 432x288 with 1 Axes>"
            ]
          },
          "metadata": {
            "needs_background": "light"
          }
        }
      ]
    },
    {
      "cell_type": "code",
      "metadata": {
        "id": "dI3E0EP2eJ-s",
        "outputId": "7e22765c-00c4-4c47-ead2-a0435b95a58c",
        "colab": {
          "base_uri": "https://localhost:8080/",
          "height": 265
        }
      },
      "source": [
        "# А теперь давайте посмотрим на то, как распределено среднее по этим величинам\n",
        "uniform_mean = uniform_sum / k\n",
        "plt.hist(uniform_mean, bins=100)\n",
        "plt.xlim([0,1]);"
      ],
      "execution_count": 47,
      "outputs": [
        {
          "output_type": "display_data",
          "data": {
            "image/png": "[encoded data removed]",
            "text/plain": [
              "<Figure size 432x288 with 1 Axes>"
            ]
          },
          "metadata": {
            "needs_background": "light"
          }
        }
      ]
    },
    {
      "cell_type": "code",
      "metadata": {
        "id": "ramvNTMoeJ-t",
        "outputId": "698caa49-ed0a-406e-adb5-364eee59bcd6",
        "colab": {
          "base_uri": "https://localhost:8080/"
        }
      },
      "source": [
        "np.mean(uniform_mean), np.std(uniform_mean), get_std(k)"
      ],
      "execution_count": 48,
      "outputs": [
        {
          "output_type": "execute_result",
          "data": {
            "text/plain": [
              "(0.499433470377901, 0.0912891350639674, 0.09128709291752768)"
            ]
          },
          "metadata": {},
          "execution_count": 48
        }
      ]
    },
    {
      "cell_type": "code",
      "metadata": {
        "id": "rNWaGayAeJ-u"
      },
      "source": [
        "k = 100"
      ],
      "execution_count": 49,
      "outputs": []
    },
    {
      "cell_type": "code",
      "metadata": {
        "colab": {
          "base_uri": "https://localhost:8080/",
          "height": 265
        },
        "id": "MhnFWB5AeJ-u",
        "outputId": "c928baa6-9f18-42c6-a331-6cb361b6f33b"
      },
      "source": [
        "uniform_sum = sum(np.random.random(N) for _ in range(k))\n",
        "uniform_mean = uniform_sum / k\n",
        "plt.hist(uniform_mean, bins=100)\n",
        "plt.xlim([0,1]);"
      ],
      "execution_count": 50,
      "outputs": [
        {
          "output_type": "display_data",
          "data": {
            "image/png": "[encoded data removed]",
            "text/plain": [
              "<Figure size 432x288 with 1 Axes>"
            ]
          },
          "metadata": {
            "needs_background": "light"
          }
        }
      ]
    },
    {
      "cell_type": "code",
      "metadata": {
        "id": "S4MleKkpeJ-u",
        "outputId": "6fc65bd9-11a8-45e0-e33b-e8ae7380e745",
        "colab": {
          "base_uri": "https://localhost:8080/"
        }
      },
      "source": [
        "np.mean(uniform_mean), np.std(uniform_mean), get_std(k)"
      ],
      "execution_count": 51,
      "outputs": [
        {
          "output_type": "execute_result",
          "data": {
            "text/plain": [
              "(0.49990505174812805, 0.028843864745993344, 0.028867513459481287)"
            ]
          },
          "metadata": {},
          "execution_count": 51
        }
      ]
    },
    {
      "cell_type": "code",
      "metadata": {
        "id": "P0zUAQWyeJ-u"
      },
      "source": [
        "k = 1000"
      ],
      "execution_count": 52,
      "outputs": []
    },
    {
      "cell_type": "code",
      "metadata": {
        "colab": {
          "base_uri": "https://localhost:8080/",
          "height": 265
        },
        "id": "98yuQ_wLeJ-v",
        "outputId": "18ab6df5-3b88-4c0d-bdc7-b426e343fb33"
      },
      "source": [
        "uniform_sum = sum(np.random.random(N) for _ in range(k))\n",
        "uniform_mean = uniform_sum / k\n",
        "plt.hist(uniform_mean, bins=100)\n",
        "plt.xlim([0,1]);"
      ],
      "execution_count": 53,
      "outputs": [
        {
          "output_type": "display_data",
          "data": {
            "image/png": "[encoded data removed]",
            "text/plain": [
              "<Figure size 432x288 with 1 Axes>"
            ]
          },
          "metadata": {
            "needs_background": "light"
          }
        }
      ]
    },
    {
      "cell_type": "code",
      "metadata": {
        "id": "fbNikEJ3eJ-v",
        "outputId": "85e7ac1a-0803-469b-9a85-1523705e41fb",
        "colab": {
          "base_uri": "https://localhost:8080/"
        }
      },
      "source": [
        "np.mean(uniform_mean), np.std(uniform_mean), get_std(k)"
      ],
      "execution_count": 54,
      "outputs": [
        {
          "output_type": "execute_result",
          "data": {
            "text/plain": [
              "(0.4998667599158812, 0.00905468810902378, 0.009128709291752768)"
            ]
          },
          "metadata": {},
          "execution_count": 54
        }
      ]
    },
    {
      "cell_type": "markdown",
      "metadata": {
        "id": "x-blORdZeJ-w"
      },
      "source": [
        "Эмпирический результат совпал с теоретическим -- ура!"
      ]
    },
    {
      "cell_type": "markdown",
      "metadata": {
        "id": "qzinJ6k2-ltS"
      },
      "source": [
        "<a id='pdf'></a>\n",
        "### Формулы для функции и плотности нормального распределения"
      ]
    },
    {
      "cell_type": "markdown",
      "metadata": {
        "id": "JlZkhflT-ltS"
      },
      "source": [
        "*Теория.  Взглянуть мельком.*\n",
        "\n",
        "Функция нормального распределения:\n",
        "\n",
        "$$Ф(x)=\\frac{1}{\\sigma\\sqrt{2\\pi}}\\int\\limits_{-\\infty}^x\\exp\\left(-\\frac{(t-\\mu)^2}{2\\sigma^2}\\right) dt. $$\n",
        "\n",
        "Плотность нормального распределения\n",
        "\n",
        " $$  f(x) = \\frac{1}{\\sigma\\sqrt{2\\pi}}\\exp\\left(-\\frac{(x-\\mu)^2}{2\\sigma^2}\\right). $$"
      ]
    },
    {
      "cell_type": "markdown",
      "metadata": {
        "id": "hqZghcj1-ltS"
      },
      "source": [
        "<a id='gr'></a>\n",
        "### Генерирование выборки, графики функций распределения и плотностей, эмпирических и теоретических"
      ]
    },
    {
      "cell_type": "code",
      "metadata": {
        "colab": {
          "base_uri": "https://localhost:8080/"
        },
        "id": "RqsNnL1Z-ltT",
        "outputId": "5cd774a1-74e7-472d-b274-d366ce8fbdab"
      },
      "source": [
        "mu = 0\n",
        "sigma = 1\n",
        "n = 100\n",
        "# Сгенерируем выборку из нормального распределения\n",
        "sample_normal = np.random.normal(mu, sigma, n)\n",
        "# 10 первых значений\n",
        "sample_normal[:10]"
      ],
      "execution_count": 55,
      "outputs": [
        {
          "output_type": "execute_result",
          "data": {
            "text/plain": [
              "array([ 0.08205834,  0.22871228, -1.19248278,  1.07646399, -0.61408065,\n",
              "       -1.62463126, -0.69928277,  0.07858841,  0.59071823, -0.33057018])"
            ]
          },
          "metadata": {},
          "execution_count": 55
        }
      ]
    },
    {
      "cell_type": "code",
      "metadata": {
        "id": "n7dMTRCQeJ-x"
      },
      "source": [
        "norm_random_variates = sts.norm(mu, sigma)"
      ],
      "execution_count": 56,
      "outputs": []
    },
    {
      "cell_type": "code",
      "metadata": {
        "colab": {
          "base_uri": "https://localhost:8080/",
          "height": 279
        },
        "id": "5Cizqtke-ltT",
        "outputId": "f97c7f44-fc46-4e94-9a77-817fa66f3fff"
      },
      "source": [
        "# Нарисуем функцию распределения: теоретическую и эмпирическую, составленную по выборке\n",
        "\n",
        "# теоретическая функция распределения cdf - cumulative density function\n",
        "x = np.linspace(-5, 5, 100)\n",
        "cdf = norm_random_variates.cdf(x)\n",
        "plt.plot(x, cdf, label='теоретическая $\\Phi(x)$')\n",
        "\n",
        "# эмпирическая функция распределения\n",
        "F = ECDF(sample_normal)\n",
        "plt.step(F.x, F.y, label='эмпирическая, $F(x)$')\n",
        "\n",
        "plt.ylabel('$Ф(x)$')\n",
        "plt.xlabel('$x$')\n",
        "plt.legend(loc='upper left');"
      ],
      "execution_count": 63,
      "outputs": [
        {
          "output_type": "display_data",
          "data": {
            "image/png": "[encoded data removed]",
            "text/plain": [
              "<Figure size 432x288 with 1 Axes>"
            ]
          },
          "metadata": {
            "needs_background": "light"
          }
        }
      ]
    },
    {
      "cell_type": "code",
      "metadata": {
        "id": "ORWoc8C7eJ-x",
        "outputId": "0b208028-db6e-4609-e94f-840943d89733",
        "colab": {
          "base_uri": "https://localhost:8080/",
          "height": 279
        }
      },
      "source": [
        "plt.hist(sample_normal, bins=20, density=True)\n",
        "plt.ylabel('частота встречаемости значений')\n",
        "plt.xlabel('$x$');"
      ],
      "execution_count": 65,
      "outputs": [
        {
          "output_type": "display_data",
          "data": {
            "image/png": "[encoded data removed]",
            "text/plain": [
              "<Figure size 432x288 with 1 Axes>"
            ]
          },
          "metadata": {
            "needs_background": "light"
          }
        }
      ]
    },
    {
      "cell_type": "markdown",
      "metadata": {
        "id": "PlmghfjaeJ-x"
      },
      "source": [
        "#### Возьмем n побольше"
      ]
    },
    {
      "cell_type": "code",
      "metadata": {
        "id": "RSWDO2ufeJ-y"
      },
      "source": [
        "n = 100000\n",
        "# Сгенерируем выборку из нормального распределения\n",
        "sample_normal = np.random.normal(mu, sigma, n)"
      ],
      "execution_count": 66,
      "outputs": []
    },
    {
      "cell_type": "code",
      "metadata": {
        "id": "qAZP9hIMeJ-y",
        "outputId": "17df1007-df14-4ca2-bd8f-49615a8e8c52",
        "colab": {
          "base_uri": "https://localhost:8080/",
          "height": 296
        }
      },
      "source": [
        "# теоретическая функция распределения cdf - cumulative density function\n",
        "x = np.linspace(-5,5, 100)\n",
        "cdf = norm_random_variates.cdf(x)\n",
        "plt.plot(x, cdf, label='теоретическая $\\Phi(x)$')\n",
        "\n",
        "# 'эмпирическая функция распределения\n",
        "F = ECDF(sample_normal)\n",
        "plt.step(F.x,F.y, label='эмпирическая, $F(x)$')\n",
        "\n",
        "plt.ylabel('$\\Phi(x)$')\n",
        "plt.xlabel('$x$')\n",
        "plt.legend(loc='upper left')"
      ],
      "execution_count": 67,
      "outputs": [
        {
          "output_type": "execute_result",
          "data": {
            "text/plain": [
              "<matplotlib.legend.Legend at 0x7fe28c4ed7d0>"
            ]
          },
          "metadata": {},
          "execution_count": 67
        },
        {
          "output_type": "display_data",
          "data": {
            "image/png": "[encoded data removed]",
            "text/plain": [
              "<Figure size 432x288 with 1 Axes>"
            ]
          },
          "metadata": {
            "needs_background": "light"
          }
        }
      ]
    },
    {
      "cell_type": "code",
      "metadata": {
        "colab": {
          "base_uri": "https://localhost:8080/",
          "height": 296
        },
        "id": "gsjlG6WF-ltT",
        "outputId": "dff902f6-bce2-463e-c69e-c6239dc9fc7a"
      },
      "source": [
        "# Построим гистограмму\n",
        "plt.hist(sample_normal, bins=100, density=True)\n",
        "plt.ylabel('частота встречаемости значений')\n",
        "plt.xlabel('$x$')"
      ],
      "execution_count": 68,
      "outputs": [
        {
          "output_type": "execute_result",
          "data": {
            "text/plain": [
              "Text(0.5, 0, '$x$')"
            ]
          },
          "metadata": {},
          "execution_count": 68
        },
        {
          "output_type": "display_data",
          "data": {
            "image/png": "[encoded data removed]",
            "text/plain": [
              "<Figure size 432x288 with 1 Axes>"
            ]
          },
          "metadata": {
            "needs_background": "light"
          }
        }
      ]
    },
    {
      "cell_type": "markdown",
      "metadata": {
        "id": "sk00A_tW-ltT"
      },
      "source": [
        "*Плотностью распределения* называется производная от функции распределения: $f(x)=F'(x)$"
      ]
    },
    {
      "cell_type": "code",
      "metadata": {
        "colab": {
          "base_uri": "https://localhost:8080/",
          "height": 296
        },
        "id": "V_ryK0iU-ltT",
        "outputId": "75106576-779d-40e5-db5b-036526a966a9"
      },
      "source": [
        "# Нарисуем плотность распределения: теоретическую и эмпирическую, составленную по выборке\n",
        "\n",
        "# эмпирическая, построенная по выборке с помощью ядерного сглаживания - KDE, Kernel Density Estimation \n",
        "# используем библиотеку Pandas:\n",
        "df = pd.DataFrame(sample_normal, columns=['KDE'])\n",
        "ax = df.plot(kind='density')\n",
        "\n",
        "# теоретическая плотность - pdf probability density function\n",
        "x = np.linspace(-5, 5, 100)\n",
        "pdf = norm_random_variates.pdf(x)\n",
        "plt.plot(x, pdf, label='теоретическая плотность распределения', alpha=0.5)\n",
        "plt.legend()\n",
        "plt.ylabel('$f(x)$')\n",
        "plt.xlabel('$x$');"
      ],
      "execution_count": 70,
      "outputs": [
        {
          "output_type": "execute_result",
          "data": {
            "text/plain": [
              "Text(0.5, 0, '$x$')"
            ]
          },
          "metadata": {},
          "execution_count": 70
        },
        {
          "output_type": "display_data",
          "data": {
            "image/png": "[encoded data removed]",
            "text/plain": [
              "<Figure size 432x288 with 1 Axes>"
            ]
          },
          "metadata": {
            "needs_background": "light"
          }
        }
      ]
    },
    {
      "cell_type": "markdown",
      "metadata": {
        "id": "HDM5122Y-ltT"
      },
      "source": [
        "<a id='ci'></a>\n",
        "## Нахождение доверительных интервалов"
      ]
    },
    {
      "cell_type": "markdown",
      "metadata": {
        "id": "o7eMgeIAE_AH"
      },
      "source": [
        "Предварительно сделаем несколько упражнений"
      ]
    },
    {
      "cell_type": "markdown",
      "metadata": {
        "id": "9GYT1KTX-ltU"
      },
      "source": [
        "*Упр. 1*\n",
        "\n",
        "Найдем, левее какого числа находится 95% значений нормально распределенной случайной величины с $\\mu=0$ и $\\sigma=1$, т.е. 95-ю квантиль"
      ]
    },
    {
      "cell_type": "code",
      "metadata": {
        "colab": {
          "base_uri": "https://localhost:8080/"
        },
        "id": "gcM33qbj-ltU",
        "outputId": "38eea652-7265-45a5-82ae-f8d167175e27"
      },
      "source": [
        "mu = 0\n",
        "sigma = 1\n",
        "percentile_95 = sts.norm(mu, sigma).ppf(0.95)\n",
        "percentile_95"
      ],
      "execution_count": 78,
      "outputs": [
        {
          "output_type": "execute_result",
          "data": {
            "text/plain": [
              "1.6448536269514722"
            ]
          },
          "metadata": {},
          "execution_count": 78
        }
      ]
    },
    {
      "cell_type": "markdown",
      "metadata": {
        "id": "qfP7k_ln-ltU"
      },
      "source": [
        "*Упр. 2*\n",
        "\n",
        "Выполним обратную операцию, убедимся, что вероятность принять значения, меньшие чем 1.6448536269514722, равна 95%\n"
      ]
    },
    {
      "cell_type": "code",
      "metadata": {
        "colab": {
          "base_uri": "https://localhost:8080/"
        },
        "id": "27ur6Cp--ltU",
        "outputId": "0122ce8e-3047-4cf6-963c-57568b9e9c29"
      },
      "source": [
        "assert sts.norm(mu, sigma).cdf(percentile_95) == 0.95; print('yes')"
      ],
      "execution_count": 79,
      "outputs": [
        {
          "output_type": "stream",
          "name": "stdout",
          "text": [
            "yes\n"
          ]
        }
      ]
    },
    {
      "cell_type": "markdown",
      "metadata": {
        "id": "9tq7k135-ltU"
      },
      "source": [
        "*Упр. 3*\n",
        "\n",
        "Пользуясь формулой $P(a\\le X<b)=F(b)-F(a)$ определим вероятность того, что нормально распределенная случайная величина с $\\mu=0$  $\\sigma=1$ примет значения $x \\in [2;3]$ "
      ]
    },
    {
      "cell_type": "code",
      "metadata": {
        "colab": {
          "base_uri": "https://localhost:8080/"
        },
        "id": "IPHQDCwC-ltU",
        "outputId": "dc9713e1-0906-4f3a-da2a-460ca73da309"
      },
      "source": [
        "F = sts.norm(mu, sigma)\n",
        "P = F.cdf(3) - F.cdf(2)\n",
        "print(P)"
      ],
      "execution_count": 86,
      "outputs": [
        {
          "output_type": "stream",
          "name": "stdout",
          "text": [
            "0.021400233916549105\n"
          ]
        }
      ]
    },
    {
      "cell_type": "markdown",
      "metadata": {
        "id": "IXiHPkHP-ltV"
      },
      "source": [
        "На практике приходится решать и обратную задачу - находить, в каких границах  могут находиться с заданной вероятностью (\"надежностью\") значения случайной величины."
      ]
    },
    {
      "cell_type": "markdown",
      "metadata": {
        "id": "JO8Ia9nR-ltV"
      },
      "source": [
        "**Доверительным** называют интервал, который покрывает неизвестный параметр с заданной надёжностью.\n",
        "\n",
        "В дальнейшем нам нужно будет находить доверительный интервал для математического ожидания  нормально распределенной случайной величины с надежностью $\\gamma$. "
      ]
    },
    {
      "cell_type": "markdown",
      "metadata": {
        "id": "8dQsIOIS-ltV"
      },
      "source": [
        "*Теория. *\n",
        "\n",
        "\n",
        "В теории при небольших объемах данных такой интервал можно найти из формулы:\n",
        "$${P}\\left( {\\bar X}-t_{\\frac{1+\\gamma}{2},n-1}\\cdot \\frac{S}{\\sqrt{n}}\\le \\mu\\le {\\bar X}+t_{\\frac{1+\\gamma}{2},n-1}\\cdot \\frac{S}{\\sqrt{n}}\\right)=\\gamma, $$\n",
        "где $t_{\\alpha,n-1}$ -- $\\alpha$-квантили распределения Стьюдента, т.е. распределения случайой величины $T=\\frac{{\\bar X}-\\mu}{S\\,/\\,\\sqrt{n}}$, а $S$ -- несмещеное выборочное стандартное отклонение.\n",
        "\n",
        "При больших объемах и/или известном стандартном отклонении математического ожидания вместо распределения Стьюдента используется нормальное распределение, и\n",
        "\n",
        "$${P}\\left( {\\bar X}-z_{\\frac{1+\\gamma}{2}}\\cdot \\frac{\\sigma}{\\sqrt{n}}\\le \\mu\\le {\\bar X}+z_{\\frac{1+\\gamma}{2}}\\cdot \\frac{\\sigma}{\\sqrt{n}}\\right)=\\gamma, $$\n",
        "где $z_{\\alpha}$ -- $\\alpha$-квантили стандартного нормального распределения, т.е. распределения случайной величины $Z=\\frac{{\\bar X}-\\mu}{\\sigma\\,/\\,\\sqrt{n}}$, а $\\sigma$ -- известное стандартное отклонение."
      ]
    },
    {
      "cell_type": "markdown",
      "metadata": {
        "id": "DQufh_gHeJ-7"
      },
      "source": [
        "Возьмем выборку из распределения бернулли"
      ]
    },
    {
      "cell_type": "code",
      "metadata": {
        "id": "ha285HnpeJ-7"
      },
      "source": [
        "random_ber = np.random.randint(2, size=50)"
      ],
      "execution_count": 87,
      "outputs": []
    },
    {
      "cell_type": "markdown",
      "metadata": {
        "id": "Ri_5-NMaeJ-7"
      },
      "source": [
        "#### Доверительный интервал на основе нормального распределения\n",
        "\n",
        "$$\\hat{p}\\pm z_{1-\\frac{\\alpha}{2}} \\sqrt{\\frac{\\hat{p}\\left(1-\\hat{p}\\right)}{n}}$$"
      ]
    },
    {
      "cell_type": "code",
      "metadata": {
        "id": "9dBQureMeJ-7"
      },
      "source": [
        "from statsmodels.stats.proportion import proportion_confint"
      ],
      "execution_count": 88,
      "outputs": []
    },
    {
      "cell_type": "code",
      "metadata": {
        "id": "wmXbgbaFeJ-8"
      },
      "source": [
        "def normal_int(random_ber):\n",
        "    \n",
        "    s = random_ber.sum()\n",
        "    n = len(random_ber)\n",
        "    \n",
        "    normal_interval = proportion_confint(s, n, method='normal', alpha=0.05)\n",
        "    return np.array(normal_interval)\n",
        "\n",
        "def normal_int_custom(random_ber):\n",
        "    \n",
        "    s = random_ber.sum()\n",
        "    n = len(random_ber)\n",
        "    z_alpha = sts.norm.ppf(0.975) # 1 - alpha / 2.\n",
        "    p_hat = s / n\n",
        "    half_int = z_alpha * np.sqrt(p_hat * (1 - p_hat) / n)\n",
        "    return np.array([p_hat - half_int, p_hat + half_int])"
      ],
      "execution_count": 114,
      "outputs": []
    },
    {
      "cell_type": "code",
      "metadata": {
        "id": "F6W0BG9HeJ-8"
      },
      "source": [
        "assert np.allclose(normal_int(random_ber), normal_int_custom(random_ber))"
      ],
      "execution_count": 115,
      "outputs": []
    },
    {
      "cell_type": "code",
      "metadata": {
        "id": "5XDy4P6yeJ-8",
        "outputId": "c14917a4-52ec-4913-d22f-4295e8c839a6",
        "colab": {
          "base_uri": "https://localhost:8080/"
        }
      },
      "source": [
        "for size in [10, 100, 1000, 10000]:\n",
        "    random_ber = np.random.randint(2, size=size)\n",
        "    print(normal_int(random_ber))"
      ],
      "execution_count": 116,
      "outputs": [
        {
          "output_type": "stream",
          "name": "stdout",
          "text": [
            "[0.09636369 0.70363631]\n",
            "[0.34270995 0.53729005]\n",
            "[0.45602072 0.51797928]\n",
            "[0.49390045 0.51349955]\n"
          ]
        }
      ]
    },
    {
      "cell_type": "markdown",
      "metadata": {
        "id": "DLLiOuKeeJ-9"
      },
      "source": [
        "#### Доверительный интервал Уилсона (лучше, для средних значений близких к 0 и 1)\n",
        "\n",
        "$$\\frac1{ 1 + \\frac{z^2}{n} } \\left( \\hat{p} + \\frac{z^2}{2n} \\pm z \\sqrt{ \\frac{ \\hat{p}\\left(1-\\hat{p}\\right)}{n} + \\frac{\n",
        "z^2}{4n^2} } \\right), \\;\\; z \\equiv z_{1-\\frac{\\alpha}{2}}$$ "
      ]
    },
    {
      "cell_type": "code",
      "metadata": {
        "id": "56JTQqtqeJ-9"
      },
      "source": [
        "p = 0.9\n",
        "random_ber = np.random.choice(2, size=1000, p=[1. - p, p])"
      ],
      "execution_count": 117,
      "outputs": []
    },
    {
      "cell_type": "code",
      "metadata": {
        "id": "DcetDv_teJ-9"
      },
      "source": [
        "def wilson_int(random_ber):\n",
        "    \n",
        "    s = random_ber.sum()\n",
        "    n = len(random_ber)\n",
        "    \n",
        "    normal_interval = proportion_confint(s, n, method='wilson', alpha=0.05)\n",
        "    return np.array(normal_interval)\n",
        "\n",
        "def wilson_int_custom(random_ber):\n",
        "    \n",
        "    s = random_ber.sum()\n",
        "    n = len(random_ber)\n",
        "    z_alpha = sts.norm.ppf(0.975)\n",
        "    \n",
        "    p_hat = s / n\n",
        "    \n",
        "    half_int = z_alpha * np.sqrt(p_hat * (1 - p_hat) / n + z_alpha / (4*n*n))\n",
        "    \n",
        "    return 1/(1 + z_alpha*z_alpha/n)*np.array([p_hat + z_alpha**2/(2*n) - half_int, \n",
        "                                               p_hat + z_alpha**2/(2*n) + half_int])"
      ],
      "execution_count": 118,
      "outputs": []
    },
    {
      "cell_type": "code",
      "metadata": {
        "id": "o0xwHjz3eJ--",
        "outputId": "7674bf8f-aaf7-48ca-956f-bfc7124f3572",
        "colab": {
          "base_uri": "https://localhost:8080/"
        }
      },
      "source": [
        "print(wilson_int(random_ber))\n",
        "print(wilson_int_custom(random_ber))"
      ],
      "execution_count": 119,
      "outputs": [
        {
          "output_type": "stream",
          "name": "stdout",
          "text": [
            "[0.8573231  0.89777622]\n",
            "[0.85736747 0.89773184]\n"
          ]
        }
      ]
    },
    {
      "cell_type": "code",
      "metadata": {
        "id": "YBbTGVEqeJ--"
      },
      "source": [
        "assert np.allclose(wilson_int(random_ber), wilson_int_custom(random_ber), atol=1e-4)"
      ],
      "execution_count": 120,
      "outputs": []
    },
    {
      "cell_type": "code",
      "metadata": {
        "id": "D-80t-FWeJ--",
        "outputId": "358899e2-d32c-4b5b-f815-0b68327f829a",
        "colab": {
          "base_uri": "https://localhost:8080/"
        }
      },
      "source": [
        "p = 0.9\n",
        "\n",
        "for size in [10, 100, 1000, 10000]:\n",
        "    random_ber = np.random.choice(2, size=size, p=[1.-p, p])\n",
        "    print(wilson_int(random_ber), normal_int(random_ber))"
      ],
      "execution_count": 121,
      "outputs": [
        {
          "output_type": "stream",
          "name": "stdout",
          "text": [
            "[0.7224672 1.       ] [1. 1.]\n",
            "[0.74451995 0.89106434] [0.75637732 0.90362268]\n",
            "[0.8690945  0.90792063] [0.87060725 0.90939275]\n",
            "[0.89570963 0.90738187] [0.8958648 0.9075352]\n"
          ]
        }
      ]
    },
    {
      "cell_type": "markdown",
      "metadata": {
        "id": "LpASkdKjeJ--"
      },
      "source": [
        "### Размер выборки для интервала заданной ширины"
      ]
    },
    {
      "cell_type": "code",
      "metadata": {
        "id": "F6vdoHQoeJ-_"
      },
      "source": [
        "from statsmodels.stats.proportion import samplesize_confint_proportion"
      ],
      "execution_count": 122,
      "outputs": []
    },
    {
      "cell_type": "code",
      "metadata": {
        "id": "FlI8oiwMeJ-_",
        "outputId": "2c1a705f-572a-45de-e680-6f00b69a119e",
        "colab": {
          "base_uri": "https://localhost:8080/"
        }
      },
      "source": [
        "half_int = 0.01\n",
        "\n",
        "n_samples = int(np.ceil(samplesize_confint_proportion(0.5, half_int)))\n",
        "n_samples"
      ],
      "execution_count": 123,
      "outputs": [
        {
          "output_type": "execute_result",
          "data": {
            "text/plain": [
              "9604"
            ]
          },
          "metadata": {},
          "execution_count": 123
        }
      ]
    },
    {
      "cell_type": "code",
      "metadata": {
        "id": "9DypUDX7eJ-_"
      },
      "source": [
        "s_start, s_end = proportion_confint(np.random.randint(2, size=n_samples).sum(), \n",
        "                                    n_samples, method='normal', alpha=0.05)"
      ],
      "execution_count": 124,
      "outputs": []
    },
    {
      "cell_type": "code",
      "metadata": {
        "id": "jglfhzdyeJ-_"
      },
      "source": [
        "assert np.allclose((s_end - s_start) / 2, half_int, atol=1e-6)"
      ],
      "execution_count": 125,
      "outputs": []
    },
    {
      "cell_type": "markdown",
      "metadata": {
        "id": "LTZWP640eJ-_"
      },
      "source": [
        "### Доверительный интервал для разности долей (независимые выборки)\n",
        "  \n",
        "$$ \\hat{p}_1 = \\frac{a}{n_1}$$\n",
        "\n",
        "$$ \\hat{p}_2 = \\frac{b}{n_2}$$\n",
        "\n",
        "\n",
        "$$\\text{Доверительный интервал для }p_1 - p_2\\colon \\;\\; \\hat{p}_1 - \\hat{p}_2 \\pm z_{1-\\frac{\\alpha}{2}}\\sqrt{\\frac{\\hat{p}_1(1 - \\hat{p}_1)}{n_1} + \\frac{\\hat{p}_2(1 - \\hat{p}_2)}{n_2}}$$"
      ]
    },
    {
      "cell_type": "code",
      "metadata": {
        "id": "CFDNfUtzeJ-_"
      },
      "source": [
        "import scipy"
      ],
      "execution_count": 128,
      "outputs": []
    },
    {
      "cell_type": "code",
      "metadata": {
        "id": "oGuRgxmAeJ_A"
      },
      "source": [
        "p_a, p_b = 0.9, 0.8\n",
        "\n",
        "test_a = np.random.choice(2, size=20000, p=[1.-p_a, p_a])\n",
        "test_b = np.random.choice(2, size=50000, p=[1.-p_b, p_b])"
      ],
      "execution_count": 134,
      "outputs": []
    },
    {
      "cell_type": "code",
      "metadata": {
        "id": "x058IXgSeJ_A",
        "outputId": "36a9d0c2-e67f-41c4-e758-17ffe453652a",
        "colab": {
          "base_uri": "https://localhost:8080/"
        }
      },
      "source": [
        "def proportions_confint_diff_ind(sample1, sample2, alpha=0.05):\n",
        "    \n",
        "    z = sts.norm.ppf(1 - alpha / 2.)   \n",
        "    p1 = np.mean(sample1)\n",
        "    p2 = np.mean(sample2)\n",
        "    \n",
        "    half_int = z * np.sqrt(p1 * (1 - p1)/ len(sample1) + p2 * (1 - p2)/ len(sample2))\n",
        "    \n",
        "    left_boundary = (p1 - p2) - half_int\n",
        "    right_boundary = (p1 - p2) + half_int\n",
        "    \n",
        "    return left_boundary, right_boundary\n",
        "\n",
        "print(\"confidence interval: [%f, %f]\" % proportions_confint_diff_ind(test_a, test_b))"
      ],
      "execution_count": 131,
      "outputs": [
        {
          "output_type": "stream",
          "name": "stdout",
          "text": [
            "confidence interval: [0.034452, 0.149548]\n"
          ]
        }
      ]
    },
    {
      "cell_type": "code",
      "metadata": {
        "id": "Jt189nlteJ_A",
        "outputId": "5e1d2485-c040-42f0-eff1-6b69a205b175",
        "colab": {
          "base_uri": "https://localhost:8080/"
        }
      },
      "source": [
        "proportions_confint_diff_ind(test_a, test_b)"
      ],
      "execution_count": 135,
      "outputs": [
        {
          "output_type": "execute_result",
          "data": {
            "text/plain": [
              "(0.09277471408246396, 0.10360528591753604)"
            ]
          },
          "metadata": {},
          "execution_count": 135
        }
      ]
    },
    {
      "cell_type": "markdown",
      "metadata": {
        "id": "SYxTorjxeJ_A"
      },
      "source": [
        "Не надо забывать о правильной интерпретации доверительного интервала. У нас есть истинная статистика из генеральной совокупности, когда мы строим доверительный интервал, он всегда либо содержит истинное значение, либо не содержит -- вероятности там нет. Однако если мы возьмем много подвыборок и по каждой построим доверительный интервал, то истинное значение попадет в такие интервалы в 95% случаев.\n",
        "\n"
      ]
    },
    {
      "cell_type": "markdown",
      "metadata": {
        "id": "gU0_xNKUeJ_A"
      },
      "source": [
        "Покажем, что так и есть на практике"
      ]
    },
    {
      "cell_type": "code",
      "metadata": {
        "id": "DjQ9AAAweJ_B"
      },
      "source": [
        "p_a, p_b = 0.9, 0.8\n",
        "p_diff = 0.1\n",
        "N = 1000\n",
        "\n",
        "p_in_interval = np.zeros(N)\n",
        "\n",
        "for i in range(N):\n",
        "    test_a = np.random.choice(2, size=10000, p=[1.-p_a, p_a])\n",
        "    test_b = np.random.choice(2, size=10000, p=[1.-p_b, p_b])\n",
        "    l_b, r_b = proportions_confint_diff_ind(test_a, test_b)\n",
        "    \n",
        "    if l_b <= p_diff <= r_b:\n",
        "        p_in_interval[i] = 1."
      ],
      "execution_count": 142,
      "outputs": []
    },
    {
      "cell_type": "code",
      "metadata": {
        "id": "QKQeF_vteJ_B",
        "outputId": "2e3f5209-e9fb-4f33-c7a5-979737a7c2ab",
        "colab": {
          "base_uri": "https://localhost:8080/"
        }
      },
      "source": [
        "p_in_interval.mean()"
      ],
      "execution_count": 143,
      "outputs": [
        {
          "output_type": "execute_result",
          "data": {
            "text/plain": [
              "0.9554"
            ]
          },
          "metadata": {},
          "execution_count": 143
        }
      ]
    },
    {
      "cell_type": "markdown",
      "metadata": {
        "id": "TFaz07HDeJ_B"
      },
      "source": [
        "[Прикольная визуализация](https://rpsychologist.com/d3/ci/), если еще хочется посмотреть на то, что такое доверительный интервал"
      ]
    },
    {
      "cell_type": "markdown",
      "metadata": {
        "id": "s9xxPF2-eJ_B"
      },
      "source": [
        "# Проверка гипотез"
      ]
    },
    {
      "cell_type": "markdown",
      "metadata": {
        "id": "xGJOYMM4eJ_B"
      },
      "source": [
        "P-value\n",
        "![title](https://upload.wikimedia.org/wikipedia/commons/thumb/3/3a/P-value_in_statistical_significance_testing.svg/474px-P-value_in_statistical_significance_testing.svg.png)"
      ]
    },
    {
      "cell_type": "markdown",
      "metadata": {
        "id": "OagydwbVeJ_B"
      },
      "source": [
        "### Критерии Стьюдента\n",
        "\n",
        "Работает для тех значений, которые распределены нормально\n",
        "\n",
        "Нужно проверить на нормальность:\n",
        "- q-q plot\n",
        "- Критерий Шапиро-Уилка: (гипотеза о нормальности распределения)"
      ]
    },
    {
      "cell_type": "code",
      "metadata": {
        "id": "K-uxx4IIeJ_C",
        "outputId": "b9c1ec04-f266-40e1-dea1-57d94ec93984",
        "colab": {
          "base_uri": "https://localhost:8080/"
        }
      },
      "source": [
        "from scipy import stats\n",
        "%pylab inline"
      ],
      "execution_count": 149,
      "outputs": [
        {
          "output_type": "stream",
          "name": "stdout",
          "text": [
            "Populating the interactive namespace from numpy and matplotlib\n"
          ]
        },
        {
          "output_type": "stream",
          "name": "stderr",
          "text": [
            "/usr/local/lib/python3.7/dist-packages/IPython/core/magics/pylab.py:161: UserWarning: pylab import has clobbered these variables: ['size', 'random', 'sample']\n",
            "`%matplotlib` prevents importing * from pylab and numpy\n",
            "  \"\\n`%matplotlib` prevents importing * from pylab and numpy\"\n"
          ]
        }
      ]
    },
    {
      "cell_type": "code",
      "metadata": {
        "id": "DeCQGEj9eJ_C"
      },
      "source": [
        "test_norm = np.random.normal(size=5000)\n",
        "test_exp = np.random.exponential(size=5000)"
      ],
      "execution_count": 144,
      "outputs": []
    },
    {
      "cell_type": "code",
      "metadata": {
        "id": "CtB1YwsheJ_C",
        "outputId": "93448eca-7323-407b-de42-a03d62c19902",
        "colab": {
          "base_uri": "https://localhost:8080/",
          "height": 265
        }
      },
      "source": [
        "plt.hist(test_norm, bins=100)\n",
        "plt.show()"
      ],
      "execution_count": 145,
      "outputs": [
        {
          "output_type": "display_data",
          "data": {
            "image/png": "[encoded data removed]",
            "text/plain": [
              "<Figure size 432x288 with 1 Axes>"
            ]
          },
          "metadata": {
            "needs_background": "light"
          }
        }
      ]
    },
    {
      "cell_type": "code",
      "metadata": {
        "id": "GkM-qGz3eJ_D",
        "outputId": "ce90553d-8e26-41a2-851a-351a8c094ede",
        "colab": {
          "base_uri": "https://localhost:8080/",
          "height": 265
        }
      },
      "source": [
        "plt.hist(test_exp, bins=100)\n",
        "plt.show()"
      ],
      "execution_count": 146,
      "outputs": [
        {
          "output_type": "display_data",
          "data": {
            "image/png": "[encoded data removed]",
            "text/plain": [
              "<Figure size 432x288 with 1 Axes>"
            ]
          },
          "metadata": {
            "needs_background": "light"
          }
        }
      ]
    },
    {
      "cell_type": "code",
      "metadata": {
        "id": "eddkPylueJ_D",
        "outputId": "a4a30f6c-d1cb-4a73-e4a4-f97db8660e19",
        "colab": {
          "base_uri": "https://localhost:8080/",
          "height": 295
        }
      },
      "source": [
        "sts.probplot(test_norm, dist=\"norm\", plot=pylab)\n",
        "pylab.show()"
      ],
      "execution_count": 150,
      "outputs": [
        {
          "output_type": "display_data",
          "data": {
            "image/png": "[encoded data removed]",
            "text/plain": [
              "<Figure size 432x288 with 1 Axes>"
            ]
          },
          "metadata": {
            "needs_background": "light"
          }
        }
      ]
    },
    {
      "cell_type": "code",
      "metadata": {
        "id": "RdqQPuhKeJ_D",
        "outputId": "3b92f98a-fb8d-416b-a6b3-db0b635145b2",
        "colab": {
          "base_uri": "https://localhost:8080/",
          "height": 295
        }
      },
      "source": [
        "stats.probplot(test_exp, dist=\"norm\", plot=pylab)\n",
        "pylab.show()"
      ],
      "execution_count": 151,
      "outputs": [
        {
          "output_type": "display_data",
          "data": {
            "image/png": "[encoded data removed]",
            "text/plain": [
              "<Figure size 432x288 with 1 Axes>"
            ]
          },
          "metadata": {
            "needs_background": "light"
          }
        }
      ]
    },
    {
      "cell_type": "code",
      "metadata": {
        "id": "Q-yfUODseJ_E",
        "outputId": "e4c320ea-125a-4c03-c2c7-eafe7ee96207",
        "colab": {
          "base_uri": "https://localhost:8080/"
        }
      },
      "source": [
        "print(\"Shapiro-Wilk normality test, W-statistic: %f, p-value: %f\" % stats.shapiro(test_norm))"
      ],
      "execution_count": 152,
      "outputs": [
        {
          "output_type": "stream",
          "name": "stdout",
          "text": [
            "Shapiro-Wilk normality test, W-statistic: 0.999721, p-value: 0.769540\n"
          ]
        }
      ]
    },
    {
      "cell_type": "code",
      "metadata": {
        "id": "szCUNai-eJ_E",
        "outputId": "c659d29f-a212-4091-9d69-b0ea1a3dd384",
        "colab": {
          "base_uri": "https://localhost:8080/"
        }
      },
      "source": [
        "print(\"Shapiro-Wilk normality test, W-statistic: %f, p-value: %f\" % stats.shapiro(test_exp))"
      ],
      "execution_count": 153,
      "outputs": [
        {
          "output_type": "stream",
          "name": "stdout",
          "text": [
            "Shapiro-Wilk normality test, W-statistic: 0.826654, p-value: 0.000000\n"
          ]
        }
      ]
    },
    {
      "cell_type": "markdown",
      "metadata": {
        "id": "9NzEZX5yeJ_E"
      },
      "source": [
        "### а) Одновыборочный критерий Стьюдента\n",
        "\n",
        "$H_0\\colon$ среднее значение некоторой выборки равняется заданному числу\n",
        "\n",
        "$H_1\\colon$ не равно."
      ]
    },
    {
      "cell_type": "code",
      "metadata": {
        "id": "PcRlj6cNiovZ",
        "outputId": "030aac48-40d7-4258-fd42-94a65565e537",
        "colab": {
          "base_uri": "https://localhost:8080/"
        }
      },
      "source": [
        "test_norm.mean()"
      ],
      "execution_count": 157,
      "outputs": [
        {
          "output_type": "execute_result",
          "data": {
            "text/plain": [
              "0.018086042731954858"
            ]
          },
          "metadata": {},
          "execution_count": 157
        }
      ]
    },
    {
      "cell_type": "code",
      "metadata": {
        "id": "eO6GK3i_eJ_F",
        "outputId": "0505fa9f-061f-4048-f730-2029f1e73599",
        "colab": {
          "base_uri": "https://localhost:8080/"
        }
      },
      "source": [
        "import scipy\n",
        "from statsmodels.stats.weightstats import *\n",
        "\n",
        "stats.ttest_1samp(test_norm, 0.02)"
      ],
      "execution_count": 164,
      "outputs": [
        {
          "output_type": "execute_result",
          "data": {
            "text/plain": [
              "Ttest_1sampResult(statistic=-0.13696599410157798, pvalue=0.891063190170415)"
            ]
          },
          "metadata": {},
          "execution_count": 164
        }
      ]
    },
    {
      "cell_type": "code",
      "metadata": {
        "id": "t9LlB2zoeJ_F",
        "outputId": "65b8c9a6-5820-4bed-8585-fd6e3d71b920",
        "colab": {
          "base_uri": "https://localhost:8080/"
        }
      },
      "source": [
        "print(\"95%% confidence interval: [%f, %f]\" % zconfint(test_norm))"
      ],
      "execution_count": 162,
      "outputs": [
        {
          "output_type": "stream",
          "name": "stdout",
          "text": [
            "95% confidence interval: [-0.009302, 0.045475]\n"
          ]
        }
      ]
    },
    {
      "cell_type": "code",
      "metadata": {
        "id": "8Pfk60JkeJ_F",
        "outputId": "f50b975a-efa5-4e4f-980f-5c1f04e3aa6e",
        "colab": {
          "base_uri": "https://localhost:8080/"
        }
      },
      "source": [
        "stats.ttest_1samp(test_norm, 0.05)"
      ],
      "execution_count": 165,
      "outputs": [
        {
          "output_type": "execute_result",
          "data": {
            "text/plain": [
              "Ttest_1sampResult(statistic=-2.283816340057382, pvalue=0.022424078831120364)"
            ]
          },
          "metadata": {},
          "execution_count": 165
        }
      ]
    },
    {
      "cell_type": "markdown",
      "metadata": {
        "id": "y7Tm6Xe5eJ_K"
      },
      "source": [
        "### б) Двувыборочный критерий Стьюдента\n",
        "\n",
        "$H_0\\colon$ средние значения двух выборок одинаковы\n",
        "\n",
        "$H_1\\colon$ не одинаковы."
      ]
    },
    {
      "cell_type": "code",
      "metadata": {
        "id": "sNkJtCWveJ_K"
      },
      "source": [
        "test_a = np.random.normal(loc=0.05, size=10000)\n",
        "test_b = np.random.normal(loc=0.0, size=10000)"
      ],
      "execution_count": 170,
      "outputs": []
    },
    {
      "cell_type": "code",
      "metadata": {
        "id": "-pAbFJEEeJ_L",
        "outputId": "4f058c11-fe59-47b1-d5c7-a5b1bcc06ca4",
        "colab": {
          "base_uri": "https://localhost:8080/",
          "height": 268
        }
      },
      "source": [
        "plt.hist(test_a, bins=100, alpha=0.3)\n",
        "plt.hist(test_b, bins=100, alpha=0.3)\n",
        "plt.show()"
      ],
      "execution_count": 171,
      "outputs": [
        {
          "output_type": "display_data",
          "data": {
            "image/png": "[encoded data removed]",
            "text/plain": [
              "<Figure size 432x288 with 1 Axes>"
            ]
          },
          "metadata": {
            "needs_background": "light"
          }
        }
      ]
    },
    {
      "cell_type": "code",
      "metadata": {
        "id": "XlPAJp__eJ_L",
        "outputId": "8ba861f8-0680-4e1e-f2be-ff6b48324c2d",
        "colab": {
          "base_uri": "https://localhost:8080/"
        }
      },
      "source": [
        "print(\"95%% confidence interval for a: [%f, %f]\" % zconfint(test_a))\n",
        "print(\"95%% confidence interval for b: [%f, %f]\" % zconfint(test_b))"
      ],
      "execution_count": 172,
      "outputs": [
        {
          "output_type": "stream",
          "name": "stdout",
          "text": [
            "95% confidence interval for a: [0.043518, 0.082556]\n",
            "95% confidence interval for b: [0.004987, 0.044797]\n"
          ]
        }
      ]
    },
    {
      "cell_type": "code",
      "metadata": {
        "id": "RW-aiWgVeJ_L",
        "outputId": "f0067a86-d241-4bf8-9d92-eb17ad1b6485",
        "colab": {
          "base_uri": "https://localhost:8080/"
        }
      },
      "source": [
        "sts.ttest_ind(test_a, test_b, equal_var=False)"
      ],
      "execution_count": 173,
      "outputs": [
        {
          "output_type": "execute_result",
          "data": {
            "text/plain": [
              "Ttest_indResult(statistic=2.6817671329204664, pvalue=0.007329456989923882)"
            ]
          },
          "metadata": {},
          "execution_count": 173
        }
      ]
    },
    {
      "cell_type": "markdown",
      "metadata": {
        "id": "QTzMK_s8eJ_L"
      },
      "source": [
        "### d) Двувыборочный критерий Стьюдента для зависимых выборок\n",
        "$H_0\\colon$ средние значения двух выборок одинаковы\n",
        "\n",
        "$H_1\\colon$ не одинаковы."
      ]
    },
    {
      "cell_type": "code",
      "metadata": {
        "id": "9S_k2cdveJ_M"
      },
      "source": [
        "SIZE = 1000"
      ],
      "execution_count": 174,
      "outputs": []
    },
    {
      "cell_type": "code",
      "metadata": {
        "id": "g_2yaAgqeJ_M"
      },
      "source": [
        "test_ab = np.random.normal(size=SIZE)\n",
        "test_a = test_ab + np.random.normal(loc=0.4, size=SIZE)\n",
        "test_b = test_ab + np.random.normal(loc=0.5, size=SIZE)"
      ],
      "execution_count": 175,
      "outputs": []
    },
    {
      "cell_type": "code",
      "metadata": {
        "id": "Ppjr0x8UeJ_Q",
        "outputId": "9f3cd184-9257-4137-e424-09f032034a53",
        "colab": {
          "base_uri": "https://localhost:8080/",
          "height": 265
        }
      },
      "source": [
        "mean_list = test_a - test_b\n",
        "plt.hist(mean_list, bins=100, alpha=0.3)\n",
        "plt.show()"
      ],
      "execution_count": 176,
      "outputs": [
        {
          "output_type": "display_data",
          "data": {
            "image/png": "[encoded data removed]",
            "text/plain": [
              "<Figure size 432x288 with 1 Axes>"
            ]
          },
          "metadata": {
            "needs_background": "light"
          }
        }
      ]
    },
    {
      "cell_type": "code",
      "metadata": {
        "id": "xrW6k_VCeJ_R",
        "outputId": "cd4b12f8-32c2-4b8f-c758-c80cb39f2c5a",
        "colab": {
          "base_uri": "https://localhost:8080/"
        }
      },
      "source": [
        "sts.ttest_ind(test_a, test_b, equal_var=False)"
      ],
      "execution_count": 177,
      "outputs": [
        {
          "output_type": "execute_result",
          "data": {
            "text/plain": [
              "Ttest_indResult(statistic=-2.340774613372626, pvalue=0.01934168528526418)"
            ]
          },
          "metadata": {},
          "execution_count": 177
        }
      ]
    },
    {
      "cell_type": "code",
      "metadata": {
        "id": "KpJVkeLxeJ_R",
        "outputId": "dd0dffb9-e3d2-4f92-97f8-d70430f6e48b",
        "colab": {
          "base_uri": "https://localhost:8080/"
        }
      },
      "source": [
        "sts.ttest_rel(test_a, test_b)"
      ],
      "execution_count": 212,
      "outputs": [
        {
          "output_type": "execute_result",
          "data": {
            "text/plain": [
              "Ttest_relResult(statistic=-3.2844011731207803, pvalue=0.0010574898091895446)"
            ]
          },
          "metadata": {},
          "execution_count": 212
        }
      ]
    },
    {
      "cell_type": "code",
      "metadata": {
        "id": "aC5Fj0ozeJ_R",
        "outputId": "1baa0007-18b8-46d8-bf1a-6615bf72d1da",
        "colab": {
          "base_uri": "https://localhost:8080/"
        }
      },
      "source": [
        "print(\"95%% confidence interval: [%f, %f]\" % DescrStatsW(mean_list).tconfint_mean())"
      ],
      "execution_count": 213,
      "outputs": [
        {
          "output_type": "stream",
          "name": "stdout",
          "text": [
            "95% confidence interval: [-0.230068, -0.057972]\n"
          ]
        }
      ]
    },
    {
      "cell_type": "markdown",
      "metadata": {
        "id": "8KfdMpOHeJ_R"
      },
      "source": [
        "# Непараметрические криетрии\n",
        "\n",
        "Используются, если выборки распределены ненормально"
      ]
    },
    {
      "cell_type": "markdown",
      "metadata": {
        "id": "EjY21_G1eJ_R"
      },
      "source": [
        "### Двувыборочный непараметрический критерий для независимых выборок\n",
        "$H_0\\colon$ средние значения двух выборок одинаковы\n",
        "\n",
        "$H_1\\colon$  не одинаковы.\n",
        "\n",
        "### Ранговый критерий Манна-Уитни\n",
        "\n",
        "$H_0\\colon F_{X_1}(x) = F_{X_2}(x)$\n",
        "\n",
        "$H_1\\colon F_{X_1}(x) = F_{X_2}(x + \\Delta), \\Delta\\neq 0$"
      ]
    },
    {
      "cell_type": "code",
      "metadata": {
        "id": "1bKAp6SreJ_S"
      },
      "source": [
        "np.random.seed(42)\n",
        "N = 10\n",
        "\n",
        "test_a = np.random.beta(2., 2., size=N)\n",
        "test_b = np.random.beta(2., 3., size=N)"
      ],
      "execution_count": 215,
      "outputs": []
    },
    {
      "cell_type": "code",
      "metadata": {
        "id": "UljiHn5keJ_S",
        "outputId": "43fc0663-eea4-4906-ad02-1d008848f640",
        "colab": {
          "base_uri": "https://localhost:8080/"
        }
      },
      "source": [
        "test_a.mean(), test_b.mean()"
      ],
      "execution_count": 216,
      "outputs": [
        {
          "output_type": "execute_result",
          "data": {
            "text/plain": [
              "(0.5472312733236799, 0.36687490750463303)"
            ]
          },
          "metadata": {},
          "execution_count": 216
        }
      ]
    },
    {
      "cell_type": "code",
      "metadata": {
        "id": "GzPnIKlqeJ_S",
        "outputId": "d3409bfe-57f1-4361-bf65-3f8f8a6e4033",
        "colab": {
          "base_uri": "https://localhost:8080/",
          "height": 265
        }
      },
      "source": [
        "plt.hist(test_a, bins=100, alpha=0.6)\n",
        "plt.hist(test_b, bins=100, alpha=0.6)\n",
        "plt.show()"
      ],
      "execution_count": 217,
      "outputs": [
        {
          "output_type": "display_data",
          "data": {
            "image/png": "[encoded data removed]",
            "text/plain": [
              "<Figure size 432x288 with 1 Axes>"
            ]
          },
          "metadata": {
            "needs_background": "light"
          }
        }
      ]
    },
    {
      "cell_type": "code",
      "metadata": {
        "id": "1w5k9cdkeJ_S",
        "outputId": "297a27b8-2a04-4122-d3f1-0d98c0086ff1",
        "colab": {
          "base_uri": "https://localhost:8080/"
        }
      },
      "source": [
        "sts.ttest_ind(test_a, test_b, equal_var=False)"
      ],
      "execution_count": 218,
      "outputs": [
        {
          "output_type": "execute_result",
          "data": {
            "text/plain": [
              "Ttest_indResult(statistic=2.0495584680258787, pvalue=0.05567583433587789)"
            ]
          },
          "metadata": {},
          "execution_count": 218
        }
      ]
    },
    {
      "cell_type": "code",
      "metadata": {
        "id": "awcnu5OPeJ_T",
        "outputId": "e05e2dab-6a26-496c-82c5-0831ef8f7bc9",
        "colab": {
          "base_uri": "https://localhost:8080/"
        }
      },
      "source": [
        "sts.mannwhitneyu(test_a, test_b)"
      ],
      "execution_count": 219,
      "outputs": [
        {
          "output_type": "execute_result",
          "data": {
            "text/plain": [
              "MannwhitneyuResult(statistic=26.0, pvalue=0.03783078607194352)"
            ]
          },
          "metadata": {},
          "execution_count": 219
        }
      ]
    },
    {
      "cell_type": "code",
      "metadata": {
        "id": "kPVEEYwXeJ_T",
        "outputId": "f271b25b-fcfb-4598-d6e7-74da8897b845",
        "colab": {
          "base_uri": "https://localhost:8080/"
        }
      },
      "source": [
        "print('95%% confidence interval for the mean test_a: [%f, %f]' % zconfint(test_a))\n",
        "print('95%% confidence interval for the mean test_b: [%f, %f]' % zconfint(test_b))"
      ],
      "execution_count": 220,
      "outputs": [
        {
          "output_type": "stream",
          "name": "stdout",
          "text": [
            "95% confidence interval for the mean test_a: [0.415666, 0.678797]\n",
            "95% confidence interval for the mean test_b: [0.255353, 0.478397]\n"
          ]
        }
      ]
    },
    {
      "cell_type": "markdown",
      "metadata": {
        "id": "50IIxLyU-ltW"
      },
      "source": [
        "\n",
        "<a id='ab'></a>\n",
        "##  A/B тестирование\n",
        "\n",
        "A/B-тестирование (англ. A/B testing, Split testing) — метод маркетингового исследования, суть которого заключается в том, что контрольная группа элементов сравнивается с набором тестовых групп, в которых один или несколько показателей были изменены, для того, чтобы выяснить, какие из изменений улучшают целевой показатель и улучшают ли.\n",
        "\n",
        "Типичное применение в веб-дизайне — исследование влияния цветовой схемы, расположения и размера элементов интерфейса на конверсию сайта."
      ]
    },
    {
      "cell_type": "markdown",
      "metadata": {
        "id": "JctzO1Gn-ltX"
      },
      "source": [
        "Конверсия (Conversion Rate) в интернет-маркетинге — это отношение числа посетителей сайта, выполнивших на нём какие-либо целевые действия (покупку, регистрацию, подписку, посещение определённой страницы сайта, переход по рекламной ссылке), к общему числу посетителей сайта, выраженное в процентах. \n",
        "\n",
        "\n",
        "\n",
        "В теории принципы A/B тестирования невероятно просты:\n",
        "\n",
        "- Выдвигаем предположение о том, что какое-то изменение (например, персонализация главной страницы) увеличит конверсию интернет-магазина.\n",
        "\n",
        "- Создаем альтернативную версию сайта «Б» — копию исходной версии «А» с изменениями, от которых мы ждем роста эффективности сайта.\n",
        "\n",
        "- Всех посетителей сайта случайным образом делим на две равные группы: одной группе показываем исходный вариант (контрольная группа) , второй группе (тестовой) — альтернативный. Одновременно измеряем конверсию для обеих версий сайта.\n",
        "\n",
        "- Определяем статистически достоверно победивший вариант."
      ]
    },
    {
      "cell_type": "markdown",
      "metadata": {
        "id": "UVNAqfIA-ltX"
      },
      "source": [
        "Мы будем анализировать результаты A/B тестирования двух версий дизайна кнопки сайта интернет-магазина. \n",
        "\n",
        "Целевым действием считаем клик по этой кнопке. \n",
        "\n",
        "Первые три этапа А/В тестирования за нас провели, результаты предоставили в виде файла ab_dataset.csv. Нам осталось выполнить четвертый пункт."
      ]
    },
    {
      "cell_type": "markdown",
      "metadata": {
        "id": "rQ4Gzr9o-ltX"
      },
      "source": [
        " <a id='eda'></a>\n",
        "### Первичный анализ данных"
      ]
    },
    {
      "cell_type": "markdown",
      "metadata": {
        "id": "Vo3Whc3h-ltX"
      },
      "source": [
        "Прочитаем данные из файла `ab_dataset.csv`. Сохраним их в датафрейм `df`. \n",
        "\n",
        "Прочитаем данные и посмотрим на первые 5 строк:"
      ]
    },
    {
      "cell_type": "code",
      "metadata": {
        "colab": {
          "base_uri": "https://localhost:8080/",
          "height": 204
        },
        "id": "WmrvOCGt-ltX",
        "outputId": "a2a09b44-37ad-446e-d449-f8d3f06b2c01"
      },
      "source": [
        "df = pd.read_csv('https://github.com/Danyache/minor2021-iad3-spring/blob/main/sem10_stat/ab_data.csv?raw=true')\n",
        "\n",
        "df.head()"
      ],
      "execution_count": 5,
      "outputs": [
        {
          "output_type": "execute_result",
          "data": {
            "text/html": [
              "<div>\n",
              "<style scoped>\n",
              "    .dataframe tbody tr th:only-of-type {\n",
              "        vertical-align: middle;\n",
              "    }\n",
              "\n",
              "    .dataframe tbody tr th {\n",
              "        vertical-align: top;\n",
              "    }\n",
              "\n",
              "    .dataframe thead th {\n",
              "        text-align: right;\n",
              "    }\n",
              "</style>\n",
              "<table border=\"1\" class=\"dataframe\">\n",
              "  <thead>\n",
              "    <tr style=\"text-align: right;\">\n",
              "      <th></th>\n",
              "      <th>user_id</th>\n",
              "      <th>timestamp</th>\n",
              "      <th>group</th>\n",
              "      <th>landing_page</th>\n",
              "      <th>converted</th>\n",
              "    </tr>\n",
              "  </thead>\n",
              "  <tbody>\n",
              "    <tr>\n",
              "      <th>0</th>\n",
              "      <td>851104</td>\n",
              "      <td>2017-01-21 22:11:48.556739</td>\n",
              "      <td>control</td>\n",
              "      <td>old_page</td>\n",
              "      <td>0</td>\n",
              "    </tr>\n",
              "    <tr>\n",
              "      <th>1</th>\n",
              "      <td>804228</td>\n",
              "      <td>2017-01-12 08:01:45.159739</td>\n",
              "      <td>control</td>\n",
              "      <td>old_page</td>\n",
              "      <td>0</td>\n",
              "    </tr>\n",
              "    <tr>\n",
              "      <th>2</th>\n",
              "      <td>661590</td>\n",
              "      <td>2017-01-11 16:55:06.154213</td>\n",
              "      <td>treatment</td>\n",
              "      <td>new_page</td>\n",
              "      <td>0</td>\n",
              "    </tr>\n",
              "    <tr>\n",
              "      <th>3</th>\n",
              "      <td>853541</td>\n",
              "      <td>2017-01-08 18:28:03.143765</td>\n",
              "      <td>treatment</td>\n",
              "      <td>new_page</td>\n",
              "      <td>0</td>\n",
              "    </tr>\n",
              "    <tr>\n",
              "      <th>4</th>\n",
              "      <td>864975</td>\n",
              "      <td>2017-01-21 01:52:26.210827</td>\n",
              "      <td>control</td>\n",
              "      <td>old_page</td>\n",
              "      <td>1</td>\n",
              "    </tr>\n",
              "  </tbody>\n",
              "</table>\n",
              "</div>"
            ],
            "text/plain": [
              "   user_id                   timestamp      group landing_page  converted\n",
              "0   851104  2017-01-21 22:11:48.556739    control     old_page          0\n",
              "1   804228  2017-01-12 08:01:45.159739    control     old_page          0\n",
              "2   661590  2017-01-11 16:55:06.154213  treatment     new_page          0\n",
              "3   853541  2017-01-08 18:28:03.143765  treatment     new_page          0\n",
              "4   864975  2017-01-21 01:52:26.210827    control     old_page          1"
            ]
          },
          "metadata": {},
          "execution_count": 5
        }
      ]
    },
    {
      "cell_type": "markdown",
      "metadata": {
        "id": "OjE-8Ylg-ltY"
      },
      "source": [
        "Посмотрим, сколько посетителей заходио на сайт (количество строк в нашем датафрейме)"
      ]
    },
    {
      "cell_type": "code",
      "metadata": {
        "colab": {
          "base_uri": "https://localhost:8080/"
        },
        "id": "jyudDfaq-ltY",
        "outputId": "61d5bbdb-f729-44ca-f3b5-7899bdb4cb09"
      },
      "source": [
        "#количество посетителей всего\n",
        "\n",
        "n_rows = df.shape[0]\n",
        "print(\"Число строк: {}\".format(n_rows))"
      ],
      "execution_count": 6,
      "outputs": [
        {
          "output_type": "stream",
          "name": "stdout",
          "text": [
            "Число строк: 294478\n"
          ]
        }
      ]
    },
    {
      "cell_type": "markdown",
      "metadata": {
        "id": "RAOG9bmL-ltY"
      },
      "source": [
        "Сколько уникальных пользователей (уникальных `user_id`) в датасете?"
      ]
    },
    {
      "cell_type": "code",
      "metadata": {
        "colab": {
          "base_uri": "https://localhost:8080/"
        },
        "id": "WFa9Jd7--ltY",
        "outputId": "b4086ded-9a63-431f-d2a1-480493ead992"
      },
      "source": [
        "user_total = df.nunique()['user_id']\n",
        "print(\"Число уникальных пользователей : {}\".format(user_total))"
      ],
      "execution_count": 7,
      "outputs": [
        {
          "output_type": "stream",
          "name": "stdout",
          "text": [
            "Число уникальных пользователей : 290584\n"
          ]
        }
      ]
    },
    {
      "cell_type": "markdown",
      "metadata": {
        "collapsed": true,
        "id": "o3N6lGi5-ltY"
      },
      "source": [
        "Посетителей из контрольной `control` группы должны были направлять на страницу в старом дизайне  `old_page` , пользователей из тестовой группы `treatment` - на страницу в новом дизайне `new_page`. Проверим, были ли ошибки при направлении."
      ]
    },
    {
      "cell_type": "code",
      "metadata": {
        "colab": {
          "base_uri": "https://localhost:8080/"
        },
        "id": "BmE8wUnS-ltY",
        "outputId": "51e9ef34-a7ed-495e-ec3d-1153c8c99b07"
      },
      "source": [
        "mismatch_1 = df.query(\"group == 'treatment' and landing_page == 'old_page'\")\n",
        "print(\"Из тестовой группы неверно направлены {}\".format(len(mismatch_1)) + \" пользователей\")\n",
        "\n",
        "mismatch_2 = df.query(\"group == 'control' and landing_page == 'new_page'\")\n",
        "print(\"Из контрольной группы неверно направлены  {}\".format(len(mismatch_2)) + \" пользователей\")"
      ],
      "execution_count": 8,
      "outputs": [
        {
          "output_type": "stream",
          "name": "stdout",
          "text": [
            "Из тестовой группы неверно направлены 1965 пользователей\n",
            "Из контрольной группы неверно направлены  1928 пользователей\n"
          ]
        }
      ]
    },
    {
      "cell_type": "markdown",
      "metadata": {
        "id": "a2XyBHO6-ltY"
      },
      "source": [
        "Выясним, есть ли в данных пропуски."
      ]
    },
    {
      "cell_type": "code",
      "metadata": {
        "colab": {
          "base_uri": "https://localhost:8080/"
        },
        "id": "HZeyu9Vg-ltZ",
        "outputId": "f1ac2a0d-a338-443b-8a73-a38fcb51fce2"
      },
      "source": [
        "df.info()"
      ],
      "execution_count": 9,
      "outputs": [
        {
          "output_type": "stream",
          "name": "stdout",
          "text": [
            "<class 'pandas.core.frame.DataFrame'>\n",
            "RangeIndex: 294478 entries, 0 to 294477\n",
            "Data columns (total 5 columns):\n",
            " #   Column        Non-Null Count   Dtype \n",
            "---  ------        --------------   ----- \n",
            " 0   user_id       294478 non-null  int64 \n",
            " 1   timestamp     294478 non-null  object\n",
            " 2   group         294478 non-null  object\n",
            " 3   landing_page  294478 non-null  object\n",
            " 4   converted     294478 non-null  int64 \n",
            "dtypes: int64(2), object(3)\n",
            "memory usage: 11.2+ MB\n"
          ]
        }
      ]
    },
    {
      "cell_type": "markdown",
      "metadata": {
        "id": "fBYhavoY-ltZ"
      },
      "source": [
        "Из сообщений следует, что пропущенных значений нет."
      ]
    },
    {
      "cell_type": "markdown",
      "metadata": {
        "collapsed": true,
        "id": "cG8tfrF9-ltZ"
      },
      "source": [
        "Конверсия по всем посетителям"
      ]
    },
    {
      "cell_type": "code",
      "metadata": {
        "colab": {
          "base_uri": "https://localhost:8080/"
        },
        "id": "p4Wtr0fr-ltZ",
        "outputId": "24830c26-fc38-451f-cf15-a0f5d26ae069"
      },
      "source": [
        "p_all = df['converted'].mean()\n",
        "print(\"Конверсия по всем посетителям: {:.2f}%\".format(p_all * 100))"
      ],
      "execution_count": 11,
      "outputs": [
        {
          "output_type": "stream",
          "name": "stdout",
          "text": [
            "Конверсия по всем посетителям: 11.97%\n"
          ]
        }
      ]
    },
    {
      "cell_type": "code",
      "metadata": {
        "colab": {
          "base_uri": "https://localhost:8080/"
        },
        "id": "PdJekzO9-ltZ",
        "outputId": "cc1827fb-2786-4f83-f227-92a7d0bb8fc8"
      },
      "source": [
        "# можно и так:\n",
        "sum(df['converted'].values) / n_rows"
      ],
      "execution_count": 12,
      "outputs": [
        {
          "output_type": "execute_result",
          "data": {
            "text/plain": [
              "0.11965919355605512"
            ]
          },
          "metadata": {},
          "execution_count": 12
        }
      ]
    },
    {
      "cell_type": "markdown",
      "metadata": {
        "id": "rz1RnfX_-ltZ"
      },
      "source": [
        "Давайте посмотрим на описательную статистику нашего датасета (воспользуемся функцией  `describe`) и постараемся получить ответы на следующие вопросы:\n",
        "\n",
        "- Какова вероятность клика для посетителей из контрольной группы (старый дизайн)?\n",
        "\n",
        "- Какова вероятность клика для посетителей из тестовой группы (новый дизайн кнопки)?\n",
        "\n",
        "- Каково соотношение размеров тестовой и контрольный групп? Какова вероятность, что очередной посетитель будет направлен на версию со старым дизайном? С новым дизайном?"
      ]
    },
    {
      "cell_type": "code",
      "metadata": {
        "colab": {
          "base_uri": "https://localhost:8080/",
          "height": 193
        },
        "id": "cywgO088-ltZ",
        "outputId": "9af589c0-96a7-49c2-b378-301f39ab12e5"
      },
      "source": [
        "df_grp = df.groupby('group')\n",
        "df_grp.describe()"
      ],
      "execution_count": 13,
      "outputs": [
        {
          "output_type": "execute_result",
          "data": {
            "text/html": [
              "<div>\n",
              "<style scoped>\n",
              "    .dataframe tbody tr th:only-of-type {\n",
              "        vertical-align: middle;\n",
              "    }\n",
              "\n",
              "    .dataframe tbody tr th {\n",
              "        vertical-align: top;\n",
              "    }\n",
              "\n",
              "    .dataframe thead tr th {\n",
              "        text-align: left;\n",
              "    }\n",
              "\n",
              "    .dataframe thead tr:last-of-type th {\n",
              "        text-align: right;\n",
              "    }\n",
              "</style>\n",
              "<table border=\"1\" class=\"dataframe\">\n",
              "  <thead>\n",
              "    <tr>\n",
              "      <th></th>\n",
              "      <th colspan=\"8\" halign=\"left\">user_id</th>\n",
              "      <th colspan=\"8\" halign=\"left\">converted</th>\n",
              "    </tr>\n",
              "    <tr>\n",
              "      <th></th>\n",
              "      <th>count</th>\n",
              "      <th>mean</th>\n",
              "      <th>std</th>\n",
              "      <th>min</th>\n",
              "      <th>25%</th>\n",
              "      <th>50%</th>\n",
              "      <th>75%</th>\n",
              "      <th>max</th>\n",
              "      <th>count</th>\n",
              "      <th>mean</th>\n",
              "      <th>std</th>\n",
              "      <th>min</th>\n",
              "      <th>25%</th>\n",
              "      <th>50%</th>\n",
              "      <th>75%</th>\n",
              "      <th>max</th>\n",
              "    </tr>\n",
              "    <tr>\n",
              "      <th>group</th>\n",
              "      <th></th>\n",
              "      <th></th>\n",
              "      <th></th>\n",
              "      <th></th>\n",
              "      <th></th>\n",
              "      <th></th>\n",
              "      <th></th>\n",
              "      <th></th>\n",
              "      <th></th>\n",
              "      <th></th>\n",
              "      <th></th>\n",
              "      <th></th>\n",
              "      <th></th>\n",
              "      <th></th>\n",
              "      <th></th>\n",
              "      <th></th>\n",
              "    </tr>\n",
              "  </thead>\n",
              "  <tbody>\n",
              "    <tr>\n",
              "      <th>control</th>\n",
              "      <td>147202.0</td>\n",
              "      <td>788123.098035</td>\n",
              "      <td>91278.896888</td>\n",
              "      <td>630002.0</td>\n",
              "      <td>709287.0</td>\n",
              "      <td>788053.5</td>\n",
              "      <td>867155.50</td>\n",
              "      <td>945998.0</td>\n",
              "      <td>147202.0</td>\n",
              "      <td>0.120399</td>\n",
              "      <td>0.325429</td>\n",
              "      <td>0.0</td>\n",
              "      <td>0.0</td>\n",
              "      <td>0.0</td>\n",
              "      <td>0.0</td>\n",
              "      <td>1.0</td>\n",
              "    </tr>\n",
              "    <tr>\n",
              "      <th>treatment</th>\n",
              "      <td>147276.0</td>\n",
              "      <td>787825.226283</td>\n",
              "      <td>91142.800641</td>\n",
              "      <td>630000.0</td>\n",
              "      <td>708729.5</td>\n",
              "      <td>787837.5</td>\n",
              "      <td>866693.75</td>\n",
              "      <td>945999.0</td>\n",
              "      <td>147276.0</td>\n",
              "      <td>0.118920</td>\n",
              "      <td>0.323695</td>\n",
              "      <td>0.0</td>\n",
              "      <td>0.0</td>\n",
              "      <td>0.0</td>\n",
              "      <td>0.0</td>\n",
              "      <td>1.0</td>\n",
              "    </tr>\n",
              "  </tbody>\n",
              "</table>\n",
              "</div>"
            ],
            "text/plain": [
              "            user_id                                         ... converted               \n",
              "              count           mean           std       min  ...       25%  50%  75%  max\n",
              "group                                                       ...                         \n",
              "control    147202.0  788123.098035  91278.896888  630002.0  ...       0.0  0.0  0.0  1.0\n",
              "treatment  147276.0  787825.226283  91142.800641  630000.0  ...       0.0  0.0  0.0  1.0\n",
              "\n",
              "[2 rows x 16 columns]"
            ]
          },
          "metadata": {},
          "execution_count": 13
        }
      ]
    },
    {
      "cell_type": "markdown",
      "metadata": {
        "id": "BB1aqoKD-ltZ"
      },
      "source": [
        "Ответы на остальные вопросы можно найти, например, так:"
      ]
    },
    {
      "cell_type": "code",
      "metadata": {
        "colab": {
          "base_uri": "https://localhost:8080/"
        },
        "id": "2q4mHg1y-lta",
        "outputId": "5f9fcd86-51d7-4570-b591-a465c3fdbe46"
      },
      "source": [
        "#объем тестовой группы\n",
        "n_rows_treat = len(df[df['group'] == 'treatment'])\n",
        "\n",
        "#объем контрольной группы\n",
        "n_rows_contr = n_rows - n_rows_treat\n",
        "\n",
        "print(\"Соотношение размеров тестовой и контрольной групп: {}\".format(n_rows_treat / n_rows_contr))\n",
        "print(\"Вероятность, что новый пользователь будет направлен на версию со старым дизайном: {}\".format(n_rows_treat / n_rows))\n",
        "print(\"Вероятность, что новый пользователь будет направлен на версию с новым дизайном: {}\".format(n_rows_contr / n_rows))\n"
      ],
      "execution_count": 14,
      "outputs": [
        {
          "output_type": "stream",
          "name": "stdout",
          "text": [
            "Соотношение размеров тестовой и контрольной групп: 1.0005027105609978\n",
            "Вероятность, что новый пользователь будет направлен на версию со старым дизайном: 0.5001256460584492\n",
            "Вероятность, что новый пользователь будет направлен на версию с новым дизайном: 0.49987435394155083\n"
          ]
        }
      ]
    },
    {
      "cell_type": "markdown",
      "metadata": {
        "id": "ORB7gHw3-lta"
      },
      "source": [
        "**Задание **\n",
        "\n",
        "А теперь ответьте на главный вопрос данного этапа:  выявил ли предварительный анализ, что дизайн кнопки влияет на конверсию и если да, то как именно?"
      ]
    },
    {
      "cell_type": "markdown",
      "metadata": {
        "id": "fBO2y259-lta"
      },
      "source": [
        "<a id='si'></a>\n",
        "### Статистический вывод для A/B Теста"
      ]
    },
    {
      "cell_type": "markdown",
      "metadata": {
        "id": "BiX8WZHj-lta"
      },
      "source": [
        "По нашим данным очевидно, что кликабельность старой версии выше, чем новой, и напрашивается решение оставить всё как есть.  Однако бизнес потребует обоснований для такого глобального решения, бОльших, чем \"очевидно по результатам одного эксперимента\". \n",
        "\n",
        "И такие обоснования предоставляет специально разработанная методология - статистический вывод. \n",
        "\n",
        "Статистический вывод - это переход от данных о статистической выборке (нашего датасета) к обобщениям в виде параметров генеральной совокупности с вычислением степени уверенности в справедливости этих обобщений."
      ]
    },
    {
      "cell_type": "markdown",
      "metadata": {
        "id": "vOkVOhCV-lta"
      },
      "source": [
        "Будем считать, что клик — это некоторая случайная переменная , принимающая значения 1  или 0 с вероятностями $\\theta$ и $1-\\theta$ соответственно. \n",
        "\n",
        "Применительно к нашей задаче посетитель может кликнуть на кнопку (с вероятностью $\\theta$) или не кликнуть на нее (с вероятностью, соответственно,  $1-\\theta$)"
      ]
    },
    {
      "cell_type": "markdown",
      "metadata": {
        "id": "PqV1-lnU-lta"
      },
      "source": [
        "На практике статистические заключения опираются на допущения о том, как распределены рассматриваемые случайные переменные (данные). (Даже принято преобразовывать данные с тем, чтобы они соответствовали одному из известных распределений)\n",
        "\n",
        "Распределение вероятностей — это выражение, которое определяет, какие значения будет принимать данная переменная или параметр,  и как часто будет встречаться каждое из этих значений.\n",
        "\n",
        " Наша случайная переменная — клик — имеет распределение, которое называется распределением Бернулли с параметром $\\theta$:\n",
        "$$ p(k) = \\theta^k (1 - \\theta)^{1 - k}, $$\n",
        "\n",
        "где $p(k)$ —  вероятность случайной переменной  принять значение $k$, $k \\in \\{ 0;1\\}$."
      ]
    },
    {
      "cell_type": "markdown",
      "metadata": {
        "id": "-x3YSR-B-lta"
      },
      "source": [
        "Из теории известно, что среднее значение распределения Бернулли равно $\\mu = \\theta$, а дисперсия равна $\\sigma^2 = \\theta(1 - \\theta)$. Нас интересует конверсия сайта, в рассматриваемой постановке она равна $\\theta$."
      ]
    },
    {
      "cell_type": "markdown",
      "metadata": {
        "id": "63ZFf2FT-ltb"
      },
      "source": [
        "<a id='si1'></a>\n",
        "#### Формулировка рабочей гипотезы"
      ]
    },
    {
      "cell_type": "markdown",
      "metadata": {
        "id": "76-2Q9oh-ltb"
      },
      "source": [
        "Рабочая гипотеза в нашем случае может быть сформулирована, например, так: \"Конверсия сайта со старым дизайном не меньше, чем с новым\""
      ]
    },
    {
      "cell_type": "markdown",
      "metadata": {
        "id": "UTPeiEN1-ltb"
      },
      "source": [
        "<a id='si2'></a>\n",
        "#### Формальное описание нулевой и альтернативной гипотез"
      ]
    },
    {
      "cell_type": "markdown",
      "metadata": {
        "id": "41QMxujG-ltb"
      },
      "source": [
        "$H_{0}$ : $\\theta_{new}$ <= $\\theta_{old}$ \n",
        "\n",
        "$H_{1}$ : $\\theta_{new}$ > $\\theta_{old}$ "
      ]
    },
    {
      "cell_type": "markdown",
      "metadata": {
        "id": "qyHMx20O-ltb"
      },
      "source": [
        "<a id='si1'></a>\n",
        "#### Выбор подходящего статистического теста (статистического критерия)"
      ]
    },
    {
      "cell_type": "markdown",
      "metadata": {
        "id": "qV49ZVmt-ltb"
      },
      "source": [
        "Истинные значения $\\theta_{new}$ и $\\theta_{old}$ мы найти не можем, но мы можем их сравнить. В этом помогут те самые две теоремы."
      ]
    },
    {
      "cell_type": "markdown",
      "metadata": {
        "id": "_h9hAZ18-ltc"
      },
      "source": [
        "\n",
        "\n",
        "\n",
        "\n",
        "\n",
        "На основании Закона больших чисел мы можем оценить средние значения случайных величин $\\theta_{new}$ и $\\theta_{old}$ на  генеральных совокупностях по их средним значениям на наших больших выборках."
      ]
    },
    {
      "cell_type": "markdown",
      "metadata": {
        "id": "9kDK8gEd-ltc"
      },
      "source": [
        "На основании Центральной предельной теоремы средние значения распределены нормально при больших объемах выборок."
      ]
    },
    {
      "cell_type": "markdown",
      "metadata": {
        "id": "pMT1DSIj-ltc"
      },
      "source": [
        "Чтобы выбрать для проверки наших гипотез подходящий статистический критерий, уясним задачу. Нам нужно выяснить, случайно или значимо отличаются средние значения, т.е. доли, кликнувших посетителей в контрольной и тестовой выборках."
      ]
    },
    {
      "cell_type": "markdown",
      "metadata": {
        "id": "x4saRv3C-ltc"
      },
      "source": [
        "<a id='si4'></a>\n",
        "#### Проведение вычислений. $Z$-критерий."
      ]
    },
    {
      "cell_type": "code",
      "metadata": {
        "colab": {
          "base_uri": "https://localhost:8080/"
        },
        "id": "VpV4OkX2-ltc",
        "outputId": "8ab87df4-2855-49eb-e80d-599e7cd218f7"
      },
      "source": [
        "#Z-статистика\n",
        "import statsmodels.api as sm\n",
        "import statsmodels\n",
        "\n",
        "convert_contr = sum(df.query(\"group == 'control'\")['converted'])\n",
        "convert_treat = sum(df.query(\"group == 'treatment'\")['converted'])\n",
        "\n",
        "z_score, p_value = sm.stats.proportions_ztest([convert_treat, convert_contr],\n",
        "                                              [n_rows_treat, n_rows_contr], \n",
        "                                              alternative='larger')\n",
        "print(\"Z-статистика={}, p_value={}\".format(z_score, p_value))"
      ],
      "execution_count": 15,
      "outputs": [
        {
          "output_type": "stream",
          "name": "stderr",
          "text": [
            "/usr/local/lib/python3.7/dist-packages/statsmodels/tools/_testing.py:19: FutureWarning: pandas.util.testing is deprecated. Use the functions in the public API at pandas.testing instead.\n",
            "  import pandas.util.testing as tm\n"
          ]
        },
        {
          "output_type": "stream",
          "name": "stdout",
          "text": [
            "Z-статистика=-1.2369217547321678, p_value=0.8919419336512124\n"
          ]
        }
      ]
    },
    {
      "cell_type": "markdown",
      "metadata": {
        "id": "8jIFxf7QeJ_f"
      },
      "source": [
        "#### Проведение вычислений. $T$-test."
      ]
    },
    {
      "cell_type": "code",
      "metadata": {
        "id": "HrvODN-DeJ_f"
      },
      "source": [
        "t_score, p_value, _ = statsmodels.stats.weightstats.ttest_ind(df.query(\"group == 'treatment'\")['converted'],\n",
        "                                                              df.query(\"group == 'control'\")['converted'],\n",
        "                                                              alternative=\"larger\",\n",
        "                                                              usevar='unequal')"
      ],
      "execution_count": 18,
      "outputs": []
    },
    {
      "cell_type": "code",
      "metadata": {
        "id": "sjXkc34xeJ_g",
        "outputId": "6bd2d8b6-17d4-462f-d955-55a4113d066e",
        "colab": {
          "base_uri": "https://localhost:8080/"
        }
      },
      "source": [
        "print(\"T-статистика={},  p_value={}\".format(t_score, p_value))"
      ],
      "execution_count": 19,
      "outputs": [
        {
          "output_type": "stream",
          "name": "stdout",
          "text": [
            "T-статистика=-1.2369191070650731,  p_value=0.8919409489056533\n"
          ]
        }
      ]
    },
    {
      "cell_type": "markdown",
      "metadata": {
        "id": "dvM-8KcweJ_g"
      },
      "source": [
        "#### Проведение вычислений. $Mann–Whitney$-test.\n",
        "\n"
      ]
    },
    {
      "cell_type": "code",
      "metadata": {
        "id": "AVjy6q3DeJ_g"
      },
      "source": [
        "w_score, p_value = sts.mannwhitneyu(df.query(\"group == 'treatment'\")['converted'], \n",
        "                                    df.query(\"group == 'control'\")['converted'],\n",
        "                                    alternative=\"greater\")"
      ],
      "execution_count": 21,
      "outputs": []
    },
    {
      "cell_type": "code",
      "metadata": {
        "id": "TuttaI5veJ_g",
        "outputId": "9db499d4-0592-4f8d-ca72-2224fa139523",
        "colab": {
          "base_uri": "https://localhost:8080/"
        }
      },
      "source": [
        "print(\"W-статистика={},  p_value={}\".format(w_score, p_value))"
      ],
      "execution_count": 22,
      "outputs": [
        {
          "output_type": "stream",
          "name": "stdout",
          "text": [
            "W-статистика=10823622516.0,  p_value=0.8919415509213815\n"
          ]
        }
      ]
    },
    {
      "cell_type": "markdown",
      "metadata": {
        "id": "03JQLOJ2-ltd"
      },
      "source": [
        "<a id='m12'></a>\n",
        "### Ошибки первого и второго рода"
      ]
    },
    {
      "cell_type": "markdown",
      "metadata": {
        "id": "yTDRFQb3-lte"
      },
      "source": [
        "|  | | | |\n",
        "|----------|:---------|:--------|:---------|\n",
        "|  | | \tВерная гипотеза: | |\n",
        "|  |     | $H_0$   | $H_1$    |\n",
        "| Результат применения критерия: | $H_0$   |$H_0$ верно принята  |$H_0$ неверно принята (ошибка II рода)  |  \n",
        "|  |$H_1$   |$H_0$ неверно отвергнута(ошибка I рода)  | $H_0$ верно отвергнута   |\n",
        "\n"
      ]
    },
    {
      "cell_type": "markdown",
      "metadata": {
        "id": "q5HXVl1S-lte"
      },
      "source": [
        "Уровень значимости (статистическая значимость, statistical significance) $\\alpha$ - это и есть вероятность ошибки первого рода, т. е. вероятность принятия альтернативной гипотезы при условии, что на самом деле верна нулевая гипотеза. \n",
        "\n",
        "Обозначим  $\\beta$  вероятность ошибки второго рода. \n",
        "\n",
        "Величина  $1-\\beta$ называется *статистической мощностью* (statistical power) критерия. По сути мощность показывает, сколько значений, соответствующих альтернативной гипотезе, мы действительно отнесем к альтернативной гипотезе"
      ]
    },
    {
      "cell_type": "markdown",
      "metadata": {
        "id": "U1GVgv6keJ_h"
      },
      "source": [
        "![asd](https://habrastorage.org/files/475/9e5/ebc/4759e5ebcfc54b11a852704017d2d8ac.png)"
      ]
    },
    {
      "cell_type": "markdown",
      "metadata": {
        "id": "tt5UH5Rp6oon"
      },
      "source": [
        "#### Бутсртрапинг"
      ]
    },
    {
      "cell_type": "code",
      "metadata": {
        "id": "238bL6C67Qfy"
      },
      "source": [
        "from sklearn.utils import resample"
      ],
      "execution_count": 24,
      "outputs": []
    },
    {
      "cell_type": "code",
      "metadata": {
        "id": "A9335-AJ6m21"
      },
      "source": [
        "x = df.query(\"group == 'treatment'\")['converted'].to_numpy()\n",
        "y = df.query(\"group == 'control'\")['converted'].to_numpy()"
      ],
      "execution_count": 23,
      "outputs": []
    },
    {
      "cell_type": "code",
      "metadata": {
        "id": "n6034Fn57VqO"
      },
      "source": [
        "N = 1000\n",
        "x_means = np.zeros(N)\n",
        "y_means = np.zeros(N)\n",
        "\n",
        "for i in range(N):\n",
        "  x_boot = resample(x, replace=True, n_samples=len(x))\n",
        "  y_boot = resample(y, replace=True, n_samples=len(y))\n",
        "  x_means[i] = x_boot.mean()\n",
        "  y_means[i] = y_boot.mean()"
      ],
      "execution_count": 25,
      "outputs": []
    },
    {
      "cell_type": "code",
      "metadata": {
        "id": "0TZe3OpT8UE_",
        "outputId": "e3e6d0d4-1710-404d-e220-b22342958d5c",
        "colab": {
          "base_uri": "https://localhost:8080/",
          "height": 265
        }
      },
      "source": [
        "plt.hist(x_means, bins=100, alpha=.5)\n",
        "plt.hist(y_means, bins=100, alpha=.5);"
      ],
      "execution_count": 29,
      "outputs": [
        {
          "output_type": "display_data",
          "data": {
            "image/png": "[encoded data removed]",
            "text/plain": [
              "<Figure size 432x288 with 1 Axes>"
            ]
          },
          "metadata": {
            "needs_background": "light"
          }
        }
      ]
    },
    {
      "cell_type": "code",
      "metadata": {
        "id": "-I8YUJT88sUA",
        "outputId": "30aa18a9-cbf3-45d4-f0af-cbab982959f7",
        "colab": {
          "base_uri": "https://localhost:8080/",
          "height": 266
        }
      },
      "source": [
        "plt.hist(x_means-y_means, bins=100, alpha=.5);"
      ],
      "execution_count": 30,
      "outputs": [
        {
          "output_type": "display_data",
          "data": {
            "image/png": "[encoded data removed]",
            "text/plain": [
              "<Figure size 432x288 with 1 Axes>"
            ]
          },
          "metadata": {
            "needs_background": "light"
          }
        }
      ]
    }
  ]
}